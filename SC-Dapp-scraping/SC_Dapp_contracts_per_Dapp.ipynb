{
 "cells": [
  {
   "cell_type": "code",
   "execution_count": null,
   "metadata": {},
   "outputs": [],
   "source": [
    "import pandas as pd\n",
    "import numpy as np\n",
    "%matplotlib inline"
   ]
  },
  {
   "cell_type": "code",
   "execution_count": null,
   "metadata": {},
   "outputs": [],
   "source": [
    "names = pd.read_csv('data/dapps_names_2020-12-09.csv')\n",
    "names.shape"
   ]
  },
  {
   "cell_type": "code",
   "execution_count": null,
   "metadata": {},
   "outputs": [],
   "source": [
    "df = pd.read_csv('data/dapps_with_licences_2020-12-09.csv')\n",
    "df.shape"
   ]
  },
  {
   "cell_type": "code",
   "execution_count": null,
   "metadata": {},
   "outputs": [],
   "source": [
    "print('There are', names.slug.nunique() - df.slug.nunique(), 'Dapps that do not reveal their smart contract hashes at all')"
   ]
  },
  {
   "cell_type": "code",
   "execution_count": null,
   "metadata": {},
   "outputs": [],
   "source": [
    "df.created = pd.to_datetime(df.created) \n",
    "contracts_per_timepoint = pd.DataFrame(df.resample('M', on='created').count()['slug'])\n",
    "contracts_per_year = pd.DataFrame(df.resample('Y', on='created').count()['slug'])"
   ]
  },
  {
   "cell_type": "code",
   "execution_count": null,
   "metadata": {},
   "outputs": [],
   "source": [
    "df_grouped = df.groupby('slug', as_index=False)['hash'].count()\n",
    "df_grouped = df_grouped.merge(df[['slug', 'created']], on='slug')\n",
    "df_grouped.drop_duplicates(inplace=True)\n",
    "#df.groupby(by=[df.created.dt.month, df.created.dt.year]).mean()"
   ]
  },
  {
   "cell_type": "code",
   "execution_count": null,
   "metadata": {},
   "outputs": [],
   "source": [
    "monthly_mean = df_grouped.set_index('created').resample('1M').mean()\n",
    "yearly_mean = df_grouped.set_index('created').resample('1Y').mean()"
   ]
  },
  {
   "cell_type": "code",
   "execution_count": null,
   "metadata": {},
   "outputs": [],
   "source": [
    "without_sc = names[names.slug.isin(set(names.slug) - set(df.slug))]\n",
    "without_sc.created = pd.to_datetime(without_sc.created)\n",
    "without_sc_grouped_year = without_sc.resample('M', on='created').count().drop(['created', 'name', 'rank', 'slug', 'teaser'], axis=1)\n",
    "without_sc_grouped_year = without_sc_grouped_year.join(monthly_mean, how='left')\n",
    "without_sc_grouped_year.fillna(0, inplace=True)"
   ]
  },
  {
   "cell_type": "code",
   "execution_count": null,
   "metadata": {},
   "outputs": [],
   "source": [
    "sc_from_dapps = pd.DataFrame(contracts_per_timepoint['slug'] + without_sc_grouped_year['hash'])\n",
    "sc_from_dapps.to_csv('data/source_codes_from_dapps.csv')"
   ]
  }
 ],
 "metadata": {
  "kernelspec": {
   "display_name": "Python 3",
   "language": "python",
   "name": "python3"
  },
  "language_info": {
   "codemirror_mode": {
    "name": "ipython",
    "version": 3
   },
   "file_extension": ".py",
   "mimetype": "text/x-python",
   "name": "python",
   "nbconvert_exporter": "python",
   "pygments_lexer": "ipython3",
   "version": "3.7.3"
  }
 },
 "nbformat": 4,
 "nbformat_minor": 2
}
