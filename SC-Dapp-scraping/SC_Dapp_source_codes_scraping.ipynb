{
 "cells": [
  {
   "cell_type": "code",
   "execution_count": null,
   "metadata": {},
   "outputs": [],
   "source": [
    "# Used Etherscan.io APIs\""
   ]
  },
  {
   "cell_type": "code",
   "execution_count": null,
   "metadata": {},
   "outputs": [],
   "source": [
    "import requests\n",
    "import pandas as pd\n",
    "import numpy as np\n",
    "import sys\n",
    "import time\n",
    "import os\n",
    "%matplotlib inline\n",
    "import matplotlib.pyplot as plt\n",
    "from tqdm import tqdm\n",
    "pd.set_option('display.max_rows', 200)"
   ]
  },
  {
   "cell_type": "code",
   "execution_count": null,
   "metadata": {},
   "outputs": [],
   "source": [
    "### Load List of Contracts"
   ]
  },
  {
   "cell_type": "code",
   "execution_count": null,
   "metadata": {},
   "outputs": [],
   "source": [
    "contract = pd.read_csv(\"data/dapps_with_licences_2020-12-09.csv\")"
   ]
  },
  {
   "cell_type": "code",
   "execution_count": null,
   "metadata": {},
   "outputs": [],
   "source": [
    "pd.DataFrame(contract.license.value_counts()).to_csv('licences.csv')"
   ]
  },
  {
   "cell_type": "code",
   "execution_count": null,
   "metadata": {},
   "outputs": [],
   "source": [
    "contract = contract[contract.license!='Proprietary']\n",
    "contract = contract[contract.license!='Proprietry']\n",
    "contract = contract[-contract.license.isna()]\n",
    "contract = contract[contract.license!='Private']\n",
    "contract = contract[contract.license!='proprietary']\n",
    "contract = contract[contract.license!='Proprietary (May change later as we publish)']\n",
    "contract = contract[contract.license!='Company Registration']\n",
    "contract = contract[contract.license!='Unknown licensen']\n",
    "contract = contract[contract.license!='Proprietary/MIT']\n",
    "contract = contract[contract.license!='TBD']\n",
    "contract = contract[contract.license!='Copyright']\n",
    "contract = contract[contract.license!='No License']\n",
    "contract = contract[-contract.license.str.contains('agpl', case=False)]\n",
    "contract = contract[-contract.license.str.contains('affero', case=False)]\n",
    "print(contract.shape)"
   ]
  },
  {
   "cell_type": "code",
   "execution_count": null,
   "metadata": {},
   "outputs": [],
   "source": [
    "mit_contract = contract[contract.license.str.contains('mit', case=False)]\n",
    "open_contract = contract[contract.license.str.contains('open', case=False)]\n",
    "free_contract = contract[contract.license.str.contains('free', case=False)]\n",
    "un_contract = contract[contract.license.str.contains('unlicen', case=False)]\n",
    "apache_contract = contract[contract.license.str.contains('apache', case=False)]\n",
    "gpl_contract = contract[contract.license.str.contains('gpl', case=False)]\n",
    "bsd_contract = contract[contract.license.str.contains('bsd', case=False)]\n",
    "gnu_contract = contract[contract.license.str.contains('GNU General Public License', case=False)]"
   ]
  },
  {
   "cell_type": "code",
   "execution_count": null,
   "metadata": {},
   "outputs": [],
   "source": [
    "os_contracts = pd.concat([mit_contract, open_contract, free_contract, un_contract, apache_contract, gpl_contract, bsd_contract, gnu_contract])\n",
    "os_contracts = os_contracts[-os_contracts.license.str.contains('proprietary', case=False)]\n",
    "os_contracts = os_contracts[-os_contracts.license.str.contains('ETH.Limited', case=False)]\n",
    "os_contracts = os_contracts[-os_contracts.license.str.contains('Towards OpenSource/MIT, but work in progress', case=False)]\n",
    "print(os_contracts.shape)"
   ]
  },
  {
   "cell_type": "code",
   "execution_count": null,
   "metadata": {},
   "outputs": [],
   "source": [
    "# contants\n",
    "with open(\"token.txt\") as file:  \n",
    "    API_Token = file.read() "
   ]
  },
  {
   "cell_type": "code",
   "execution_count": null,
   "metadata": {},
   "outputs": [],
   "source": [
    "os_contracts.to_csv('data/dapps_open_source.csv')"
   ]
  },
  {
   "cell_type": "code",
   "execution_count": null,
   "metadata": {},
   "outputs": [],
   "source": [
    "ADDRESS_ARRAY = os_contracts.hash.values"
   ]
  },
  {
   "cell_type": "markdown",
   "metadata": {},
   "source": [
    "### Create Folders"
   ]
  },
  {
   "cell_type": "code",
   "execution_count": null,
   "metadata": {},
   "outputs": [],
   "source": [
    "sol_source = 'data/sol_source_open_source'\n",
    "not_verified = 'data/sol_source_not_verified_open_source'"
   ]
  },
  {
   "cell_type": "code",
   "execution_count": null,
   "metadata": {},
   "outputs": [],
   "source": [
    "if not os.path.exists(sol_source):\n",
    "    os.mkdir(sol_source)\n",
    "    \n",
    "if not os.path.exists(not_verified):\n",
    "    os.mkdir(not_verified)"
   ]
  },
  {
   "cell_type": "code",
   "execution_count": null,
   "metadata": {},
   "outputs": [],
   "source": [
    "files_in_sol = os.listdir(sol_source)\n",
    "files_in_sol = [i.split('_')[0] for i  in files_in_sol]\n",
    "files_in_not_ver = os.listdir(not_verified)\n",
    "files_in_not_ver = [i.split('_')[0] for i  in files_in_not_ver]\n",
    "files_in_sol.extend(files_in_not_ver)\n",
    "files_in_sol = set(files_in_sol)\n",
    "not_extracted = list(set(ADDRESS_ARRAY) - files_in_sol)"
   ]
  },
  {
   "cell_type": "code",
   "execution_count": null,
   "metadata": {},
   "outputs": [],
   "source": [
    "def scrape_ether_contract_and_write(address_array, API_Token):\n",
    "    c = 0\n",
    "    for i, address in tqdm(enumerate(address_array)): \n",
    "        # time.sleep(0.01) # we can do 5 GET/POST requests per sec\n",
    "        url = f'https://api.etherscan.io/api?module=contract&action=getsourcecode&address={address}&apikey={API_Token}'\n",
    "        resp = requests.get(url=url)\n",
    "        data = resp.json()\n",
    "        try:\n",
    "            contract_name = data['result'][0]['ContractName']\n",
    "\n",
    "            # save solidity source code\n",
    "            with open(f\"{sol_source}/{address}_{contract_name}.sol\", \"w\", encoding=\"utf-8\") as f:\n",
    "                print(data['result'][0]['SourceCode'], file=f)\n",
    "\n",
    "        except:\n",
    "            c += 1\n",
    "            time.sleep(0.25)\n",
    "                    \n",
    "    print(f'did not work {c} times')"
   ]
  },
  {
   "cell_type": "code",
   "execution_count": null,
   "metadata": {},
   "outputs": [],
   "source": [
    "scrape_ether_contract_and_write(address_array=not_extracted, API_Token=API_Token)"
   ]
  }
 ],
 "metadata": {
  "kernelspec": {
   "display_name": "wids",
   "language": "python",
   "name": "wids"
  },
  "language_info": {
   "codemirror_mode": {
    "name": "ipython",
    "version": 3
   },
   "file_extension": ".py",
   "mimetype": "text/x-python",
   "name": "python",
   "nbconvert_exporter": "python",
   "pygments_lexer": "ipython3",
   "version": "3.6.10"
  }
 },
 "nbformat": 4,
 "nbformat_minor": 4
}
