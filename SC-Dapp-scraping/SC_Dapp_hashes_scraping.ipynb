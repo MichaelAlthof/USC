{
 "cells": [
  {
   "cell_type": "code",
   "execution_count": null,
   "metadata": {},
   "outputs": [],
   "source": [
    "import pandas as pd\n",
    "import requests\n",
    "import re\n",
    "import numpy as np\n",
    "import ast\n",
    "import time\n",
    "from datetime import date\n",
    "today = date.today()"
   ]
  },
  {
   "cell_type": "markdown",
   "metadata": {},
   "source": [
    "### We need to get the list of all hashes first"
   ]
  },
  {
   "cell_type": "code",
   "execution_count": null,
   "metadata": {},
   "outputs": [],
   "source": [
    "with open('address.txt', 'r') as file:\n",
    "    address = file.read()\n",
    "    \n",
    "address_to_get_all = address + '?platform=ethereum&limit=100&page='\n",
    "\n",
    "data = pd.DataFrame(columns=['category', \n",
    "                             'categories', \n",
    "                             'created', \n",
    "                             'name', \n",
    "                             'rank', \n",
    "                             'slug', \n",
    "                             'teaser'])"
   ]
  },
  {
   "cell_type": "code",
   "execution_count": null,
   "metadata": {},
   "outputs": [],
   "source": [
    "# we have the maximum of 20 pages, if the limit set to 100 apps per page"
   ]
  },
  {
   "cell_type": "code",
   "execution_count": null,
   "metadata": {},
   "outputs": [],
   "source": [
    "for page in range(1, 21):\n",
    "    test = requests.get(f'{address_to_get_all}{page}')\n",
    "    for i, item in enumerate(test.json()['items']):\n",
    "        category = test.json()['items'][i]['categories']\n",
    "        if len(category)>1:\n",
    "            categories = ' '.join(category)\n",
    "            category = category[0]\n",
    "        else:\n",
    "            categories = 0\n",
    "            category = category[0]\n",
    "        created = test.json()['items'][i]['created']\n",
    "        name = test.json()['items'][i]['name']\n",
    "        rank = test.json()['items'][i]['rank']\n",
    "        slug = test.json()['items'][i]['slug']\n",
    "        teaser = test.json()['items'][i]['teaser']\n",
    "        df_temp = pd.DataFrame(data={'category': category, \n",
    "                                    'categories': categories,\n",
    "                                    'created': created,\n",
    "                                    'name': name,\n",
    "                                    'rank': rank,\n",
    "                                    'slug': slug,\n",
    "                                    'teaser': teaser}, index=[0])\n",
    "        data = pd.concat([data, df_temp])\n",
    "    time.sleep(0.25)"
   ]
  },
  {
   "cell_type": "code",
   "execution_count": null,
   "metadata": {},
   "outputs": [],
   "source": [
    "data = data.drop('categories', axis=1)"
   ]
  },
  {
   "cell_type": "code",
   "execution_count": null,
   "metadata": {},
   "outputs": [],
   "source": [
    "data.to_csv(f'data/dapps_names_{today}.csv', index=False)"
   ]
  },
  {
   "cell_type": "markdown",
   "metadata": {},
   "source": [
    "### For each dapp, here or each slug, retrieve a list of hashes"
   ]
  },
  {
   "cell_type": "code",
   "execution_count": null,
   "metadata": {},
   "outputs": [],
   "source": [
    "data = pd.read_csv(f'data/dapps_names_{today}.csv')"
   ]
  },
  {
   "cell_type": "code",
   "execution_count": null,
   "metadata": {},
   "outputs": [],
   "source": [
    "address_for_dapp = f'{address}/'\n",
    "data.reset_index(drop=True, inplace=True)\n",
    "hashes = pd.DataFrame(columns=['slug', 'hash', 'description', 'license'])"
   ]
  },
  {
   "cell_type": "code",
   "execution_count": null,
   "metadata": {},
   "outputs": [],
   "source": [
    "for i, slug in enumerate(data.slug):\n",
    "    slug = slug\n",
    "    test = requests.get(f'{address_for_dapp}{data.slug[i]}')\n",
    "    c = test.json()['item']['contractsMainnet']\n",
    "    if len(c)==0:\n",
    "        description = test.json()['item']['description']\n",
    "        contract_hash = 0\n",
    "        license = test.json()['item']['license']\n",
    "        df_temp = pd.DataFrame(data={'slug': slug,\n",
    "                                    'hash': contract_hash,\n",
    "                                    'description': description,\n",
    "                                    'license': license}, index=[0])\n",
    "    elif len(c)==1: \n",
    "        description = test.json()['item']['description']\n",
    "        contract_hash = c[0]\n",
    "        license = test.json()['item']['license']\n",
    "        df_temp = pd.DataFrame(data={'slug': slug,\n",
    "                                    'hash': contract_hash,\n",
    "                                    'description': description,\n",
    "                                     'license': license}, index=[0])\n",
    "    elif len(c)> 1: \n",
    "        df_temp = pd.DataFrame(columns=['slug', 'hash', 'description', 'license'])\n",
    "        for contract in c:\n",
    "            description = test.json()['item']['description']\n",
    "            contract_hash = contract\n",
    "            license = test.json()['item']['license']\n",
    "            df_t = pd.DataFrame(data={'slug': slug,\n",
    "                                        'hash': contract_hash,\n",
    "                                        'description': description,\n",
    "                                        'license': license}, index=[0])\n",
    "            df_temp = pd.concat([df_temp, df_t])\n",
    "    hashes = pd.concat([hashes, df_temp])\n",
    "    time.sleep(0.25)"
   ]
  },
  {
   "cell_type": "code",
   "execution_count": null,
   "metadata": {},
   "outputs": [],
   "source": [
    "hashes = hashes[hashes['hash']!=0]"
   ]
  },
  {
   "cell_type": "code",
   "execution_count": null,
   "metadata": {},
   "outputs": [],
   "source": [
    "hashes.reset_index(drop=True, inplace=True)\n",
    "#hashes.to_csv(f'data/hashes_with_licenses_{today}.csv', index=False)\n",
    "\n",
    "dapps_df = hashes.merge(data, how='left', left_on='slug', right_on='slug')\n",
    "dapps_df.to_csv(f'data/dapps_with_licences_{today}.csv', index=False)"
   ]
  }
 ],
 "metadata": {
  "kernelspec": {
   "display_name": "Python 3",
   "language": "python",
   "name": "python3"
  },
  "language_info": {
   "codemirror_mode": {
    "name": "ipython",
    "version": 3
   },
   "file_extension": ".py",
   "mimetype": "text/x-python",
   "name": "python",
   "nbconvert_exporter": "python",
   "pygments_lexer": "ipython3",
   "version": "3.8.3"
  }
 },
 "nbformat": 4,
 "nbformat_minor": 4
}
