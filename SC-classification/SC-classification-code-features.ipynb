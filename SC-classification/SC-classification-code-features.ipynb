{
 "cells": [
  {
   "cell_type": "code",
   "execution_count": 1,
   "metadata": {},
   "outputs": [],
   "source": [
    "import numpy as np\n",
    "import matplotlib.pyplot as plt\n",
    "%matplotlib inline\n",
    "import os\n",
    "import pandas as pd\n",
    "\n",
    "from sklearn.pipeline import Pipeline\n",
    "from sklearn.model_selection import GridSearchCV\n",
    "from sklearn.ensemble  import GradientBoostingClassifier, RandomForestClassifier\n",
    "from sklearn.model_selection import StratifiedKFold, cross_val_score, train_test_split, KFold\n",
    "from sklearn.linear_model import LogisticRegression\n",
    "from sklearn.naive_bayes import GaussianNB\n",
    "import random\n",
    "\n",
    "from sklearn import metrics\n",
    "from collections import Counter\n",
    "import argparse\n",
    "from sklearn.model_selection import cross_validate\n",
    "from sklearn.metrics import roc_auc_score, average_precision_score, f1_score, precision_score, recall_score\n",
    "from sklearn.feature_extraction.text import TfidfVectorizer\n",
    "from sklearn.linear_model import SGDClassifier\n",
    "from sklearn.model_selection import ParameterGrid\n",
    "import lightgbm as lgb\n",
    "import seaborn as sns\n",
    "from sklearn.preprocessing import LabelEncoder, LabelBinarizer\n",
    "\n",
    "import collections\n",
    "import re"
   ]
  },
  {
   "cell_type": "code",
   "execution_count": 2,
   "metadata": {},
   "outputs": [],
   "source": [
    "def other(x):\n",
    "    if ((x=='exchanges')|(x=='finance')|(x=='games')|(x=='gambling')|(x=='high-risk')): \n",
    "        return x \n",
    "    else: \n",
    "        return 'other'"
   ]
  },
  {
   "cell_type": "code",
   "execution_count": 3,
   "metadata": {},
   "outputs": [],
   "source": [
    "df = pd.read_csv('../SC-Dapp-scraping/data/dapps_source_code_parsed_open_source_2021-01-08.csv')\n",
    "df = df[df.SC_full!='\\n']\n",
    "df.drop('Unnamed: 0', axis=1, inplace=True)\n",
    "df.category = df.category.apply(other)\n",
    "df.comments.fillna('empty', inplace=True)"
   ]
  },
  {
   "cell_type": "code",
   "execution_count": 4,
   "metadata": {},
   "outputs": [],
   "source": [
    "def contract_name_extract(data):\n",
    "    #extract contract name\n",
    "    contract_name = re.findall('[\\n\\r].*Contract|contract\\s*([^\\n\\r]*)', data)\n",
    "    if len(contract_name)>1:\n",
    "        contract_name_string = ' '.join(contract_name)\n",
    "        contract_name_string = re.sub(r'[^\\w\\s]','', contract_name_string)\n",
    "    elif len(contract_name)==1:\n",
    "        contract_name_string = contract_name[0]\n",
    "    elif len(contract_name)==0:\n",
    "        contract_name_string = 'no_contracts'\n",
    "    else:\n",
    "        contract_name_string = contract_name\n",
    "    return(contract_name_string)\n",
    "\n",
    "def function_name_extract(data):\n",
    "    #extract function names and join to one string\n",
    "    function_name = re.findall('[\\n\\r].*function\\s*([^\\n\\r\\(]*)', data)\n",
    "    function_name_string = ' '.join(function_name)\n",
    "    function_name_string = re.sub(r'[^\\w\\s]','', function_name_string)\n",
    "    return(function_name_string)\n",
    "\n",
    "def interface_name_extract(data):\n",
    "    #extract function names and join to one string\n",
    "    function_name = re.findall('[\\n\\r].*Interface|interface\\s*([^\\n\\r\\(]*)', data)\n",
    "    function_name_string = ' '.join(function_name)\n",
    "    function_name_string = re.sub(r'[^\\w\\s]','', function_name_string)\n",
    "    return(function_name_string)\n",
    "\n",
    "\n",
    "def event_name_extract(data):\n",
    "    #extract function names and join to one string\n",
    "    function_name = re.findall('[\\n\\r].*event\\s*([^\\n\\r\\(]*)', data)\n",
    "    function_name_string = ' '.join(function_name)\n",
    "    function_name_string = re.sub(r'[^\\w\\s]','', function_name_string)\n",
    "    return(function_name_string)\n",
    "\n",
    "def library_name_extract(data):\n",
    "    #extract function names and join to one string\n",
    "    function_name = re.findall('[\\n\\r].*library\\s*([^\\n\\r\\(]*)', data)\n",
    "    function_name_string = ' '.join(function_name)\n",
    "    function_name_string = re.sub(r'[^\\w\\s]','', function_name_string)\n",
    "    return(function_name_string)"
   ]
  },
  {
   "cell_type": "code",
   "execution_count": 5,
   "metadata": {},
   "outputs": [],
   "source": [
    "df['contracts_names'] = df.SC_no_comments.apply(contract_name_extract)\n",
    "df['funcs_names']     = df.SC_no_comments.apply(function_name_extract)\n",
    "df['int_names']       = df.SC_no_comments.apply(interface_name_extract)\n",
    "df['eve_names']       = df.SC_no_comments.apply(event_name_extract)\n",
    "df['lib_names']       = df.SC_no_comments.apply(library_name_extract)\n",
    "df['structs']         = df['contracts_names'] + df['funcs_names'] + df['int_names'] + df['eve_names'] + df['lib_names']"
   ]
  },
  {
   "cell_type": "code",
   "execution_count": 6,
   "metadata": {},
   "outputs": [],
   "source": [
    "RS     = 42\n",
    "SPLITS = 3"
   ]
  },
  {
   "cell_type": "code",
   "execution_count": 7,
   "metadata": {},
   "outputs": [],
   "source": [
    "X = df.drop('category', axis=1)\n",
    "y = df.category"
   ]
  },
  {
   "cell_type": "code",
   "execution_count": 8,
   "metadata": {},
   "outputs": [
    {
     "data": {
      "text/plain": [
       "exchanges    470\n",
       "finance      317\n",
       "games        272\n",
       "other        238\n",
       "gambling      71\n",
       "high-risk     60\n",
       "Name: category, dtype: int64"
      ]
     },
     "execution_count": 8,
     "metadata": {},
     "output_type": "execute_result"
    }
   ],
   "source": [
    "y.value_counts()"
   ]
  },
  {
   "cell_type": "code",
   "execution_count": 9,
   "metadata": {},
   "outputs": [
    {
     "name": "stdout",
     "output_type": "stream",
     "text": [
      "There are 1428 source codes from 473 dapps\n"
     ]
    }
   ],
   "source": [
    "print(f'There are {df.shape[0]} source codes from {df.slug.nunique()} dapps')"
   ]
  },
  {
   "cell_type": "code",
   "execution_count": 10,
   "metadata": {},
   "outputs": [],
   "source": [
    "X, X_test, y, y_test  = train_test_split(X, y, stratify=y, test_size=0.2, random_state=RS)"
   ]
  },
  {
   "cell_type": "code",
   "execution_count": 11,
   "metadata": {},
   "outputs": [
    {
     "name": "stdout",
     "output_type": "stream",
     "text": [
      "X_train shape (1142, 18)\n",
      "X_test shape (286, 18)\n"
     ]
    }
   ],
   "source": [
    "print(f'X_train shape {X.shape}')\n",
    "print(f'X_test shape {X_test.shape}')"
   ]
  },
  {
   "cell_type": "code",
   "execution_count": 12,
   "metadata": {},
   "outputs": [
    {
     "data": {
      "text/plain": [
       "exchanges    94\n",
       "finance      64\n",
       "games        54\n",
       "other        48\n",
       "gambling     14\n",
       "high-risk    12\n",
       "Name: category, dtype: int64"
      ]
     },
     "execution_count": 12,
     "metadata": {},
     "output_type": "execute_result"
    }
   ],
   "source": [
    "y_test.value_counts()"
   ]
  },
  {
   "cell_type": "code",
   "execution_count": 13,
   "metadata": {},
   "outputs": [
    {
     "data": {
      "text/plain": [
       "<matplotlib.axes._subplots.AxesSubplot at 0x7f573b234dd8>"
      ]
     },
     "execution_count": 13,
     "metadata": {},
     "output_type": "execute_result"
    },
    {
     "data": {
      "image/png": "[encoded data removed]",
      "text/plain": [
       "<Figure size 432x288 with 1 Axes>"
      ]
     },
     "metadata": {
      "needs_background": "light"
     },
     "output_type": "display_data"
    }
   ],
   "source": [
    "length_SC = X.structs.apply(lambda x: len(x.split()))\n",
    "sns.distplot(length_SC)"
   ]
  },
  {
   "cell_type": "markdown",
   "metadata": {},
   "source": [
    "### Ridge Regression"
   ]
  },
  {
   "cell_type": "code",
   "execution_count": 14,
   "metadata": {},
   "outputs": [],
   "source": [
    "kf  = StratifiedKFold(n_splits=SPLITS, random_state=RS, shuffle=True)"
   ]
  },
  {
   "cell_type": "code",
   "execution_count": 15,
   "metadata": {},
   "outputs": [],
   "source": [
    "c = 0\n",
    "C_parameter = np.arange(0.1, 1.1, 0.1) \n",
    "FEATURES    = np.arange(500, 10200, 200)\n",
    "\n",
    "# use best C\n",
    "\n",
    "C_parameter = [1]\n",
    "FEATURES    = [6900]"
   ]
  },
  {
   "cell_type": "code",
   "execution_count": 16,
   "metadata": {},
   "outputs": [],
   "source": [
    "names = [f'aucroc_{i}' for i in ['exchanges', 'finance', 'gambling', 'games', 'high-risk']]\n",
    "names2 = [f'aucprc_{i}' for i in ['exchanges', 'finance', 'gambling', 'games', 'high-risk']]\n",
    "names.extend(names2)"
   ]
  },
  {
   "cell_type": "code",
   "execution_count": 17,
   "metadata": {},
   "outputs": [
    {
     "name": "stdout",
     "output_type": "stream",
     "text": [
      "# Features: 6900 C:1 AUC ROC: 0.936 ###  AUC PRC: 0.738\n"
     ]
    }
   ],
   "source": [
    "for FEATURE in FEATURES:    \n",
    "    for c_p in C_parameter:  \n",
    "        metrics_cv = pd.DataFrame(np.zeros((SPLITS, len(names))), columns=names)\n",
    "        for c, (train_index, val_index) in enumerate(kf.split(X, y)):\n",
    "\n",
    "                word_vectorizer   = TfidfVectorizer(\n",
    "                    sublinear_tf  = True,\n",
    "                    strip_accents = 'unicode',\n",
    "                    analyzer      = 'word',\n",
    "                    token_pattern = r'\\w{1,}',\n",
    "                    ngram_range   = (1, 1),\n",
    "                    max_features  = FEATURE)\n",
    "\n",
    "                X_train, X_val      = X.iloc[train_index]['structs'], X.iloc[val_index]['structs']\n",
    "                y_train, y_val      = y.iloc[train_index], y.iloc[val_index] \n",
    "                word_vectorizer.fit(X_train)\n",
    "                train_word_features = word_vectorizer.transform(X_train)\n",
    "                val_word_features   = word_vectorizer.transform(X_val)\n",
    "\n",
    "                le = LabelBinarizer()\n",
    "                le.fit(y_train)\n",
    "\n",
    "                y_train = le.transform(y_train)\n",
    "                y_val = le.transform(y_val)\n",
    "\n",
    "                assert (le.classes_ == ['exchanges', 'finance', 'gambling', 'games', 'high-risk', 'other']).all()\n",
    "                for i, cl in enumerate(le.classes_[le.classes_!='other']):\n",
    "                    classifier    = LogisticRegression(C=c_p, solver='sag', random_state=RS)\n",
    "                    classifier.fit(train_word_features, y_train[:,i])\n",
    "                    probs         = classifier.predict_proba(val_word_features)[:,1]\n",
    "                    auc_roc_class = roc_auc_score(y_val[:,i], probs)\n",
    "                    auc_pr_class  = average_precision_score(y_val[:,i], probs)\n",
    "\n",
    "                    metrics_cv.loc[c, f'aucroc_{cl}'] = round(auc_roc_class, 3)\n",
    "                    metrics_cv.loc[c, f'aucprc_{cl}'] = round(auc_pr_class, 3)  \n",
    "\n",
    "\n",
    "        print(f\"# Features: {FEATURE} C:{c_p} AUC ROC: {round(metrics_cv.loc[:, metrics_cv.columns.str.contains('aucroc')].mean(axis=0).mean(), 3)} ###  AUC PRC: {round(metrics_cv.loc[:, metrics_cv.columns.str.contains('aucprc')].mean(axis=0).mean(), 3)}\")"
   ]
  },
  {
   "cell_type": "code",
   "execution_count": 18,
   "metadata": {},
   "outputs": [
    {
     "data": {
      "text/plain": [
       "aucroc_exchanges    0.985\n",
       "aucroc_finance      0.953\n",
       "aucroc_gambling     0.878\n",
       "aucroc_games        0.939\n",
       "aucroc_high-risk    0.925\n",
       "dtype: float64"
      ]
     },
     "execution_count": 18,
     "metadata": {},
     "output_type": "execute_result"
    }
   ],
   "source": [
    "round(metrics_cv.loc[:, metrics_cv.columns.str.contains('aucroc')].mean(axis=0), 3)"
   ]
  },
  {
   "cell_type": "code",
   "execution_count": 19,
   "metadata": {},
   "outputs": [
    {
     "data": {
      "text/plain": [
       "aucprc_exchanges    0.979\n",
       "aucprc_finance      0.881\n",
       "aucprc_gambling     0.452\n",
       "aucprc_games        0.843\n",
       "aucprc_high-risk    0.536\n",
       "dtype: float64"
      ]
     },
     "execution_count": 19,
     "metadata": {},
     "output_type": "execute_result"
    }
   ],
   "source": [
    "round(metrics_cv.loc[:, metrics_cv.columns.str.contains('aucprc')].mean(axis=0), 3)"
   ]
  },
  {
   "cell_type": "code",
   "execution_count": 20,
   "metadata": {},
   "outputs": [
    {
     "data": {
      "text/html": [
       "<div>\n",
       "<style scoped>\n",
       "    .dataframe tbody tr th:only-of-type {\n",
       "        vertical-align: middle;\n",
       "    }\n",
       "\n",
       "    .dataframe tbody tr th {\n",
       "        vertical-align: top;\n",
       "    }\n",
       "\n",
       "    .dataframe thead th {\n",
       "        text-align: right;\n",
       "    }\n",
       "</style>\n",
       "<table border=\"1\" class=\"dataframe\">\n",
       "  <thead>\n",
       "    <tr style=\"text-align: right;\">\n",
       "      <th></th>\n",
       "      <th>aucroc_exchanges</th>\n",
       "      <th>aucroc_finance</th>\n",
       "      <th>aucroc_gambling</th>\n",
       "      <th>aucroc_games</th>\n",
       "      <th>aucroc_high-risk</th>\n",
       "      <th>aucprc_exchanges</th>\n",
       "      <th>aucprc_finance</th>\n",
       "      <th>aucprc_gambling</th>\n",
       "      <th>aucprc_games</th>\n",
       "      <th>aucprc_high-risk</th>\n",
       "    </tr>\n",
       "  </thead>\n",
       "  <tbody>\n",
       "    <tr>\n",
       "      <th>0</th>\n",
       "      <td>0.983</td>\n",
       "      <td>0.945</td>\n",
       "      <td>0.843</td>\n",
       "      <td>0.935</td>\n",
       "      <td>0.917</td>\n",
       "      <td>0.976</td>\n",
       "      <td>0.868</td>\n",
       "      <td>0.441</td>\n",
       "      <td>0.852</td>\n",
       "      <td>0.597</td>\n",
       "    </tr>\n",
       "    <tr>\n",
       "      <th>1</th>\n",
       "      <td>0.985</td>\n",
       "      <td>0.948</td>\n",
       "      <td>0.882</td>\n",
       "      <td>0.945</td>\n",
       "      <td>0.921</td>\n",
       "      <td>0.978</td>\n",
       "      <td>0.869</td>\n",
       "      <td>0.468</td>\n",
       "      <td>0.836</td>\n",
       "      <td>0.439</td>\n",
       "    </tr>\n",
       "    <tr>\n",
       "      <th>2</th>\n",
       "      <td>0.987</td>\n",
       "      <td>0.965</td>\n",
       "      <td>0.910</td>\n",
       "      <td>0.936</td>\n",
       "      <td>0.936</td>\n",
       "      <td>0.984</td>\n",
       "      <td>0.905</td>\n",
       "      <td>0.447</td>\n",
       "      <td>0.842</td>\n",
       "      <td>0.572</td>\n",
       "    </tr>\n",
       "  </tbody>\n",
       "</table>\n",
       "</div>"
      ],
      "text/plain": [
       "   aucroc_exchanges  aucroc_finance  aucroc_gambling  aucroc_games  \\\n",
       "0             0.983           0.945            0.843         0.935   \n",
       "1             0.985           0.948            0.882         0.945   \n",
       "2             0.987           0.965            0.910         0.936   \n",
       "\n",
       "   aucroc_high-risk  aucprc_exchanges  aucprc_finance  aucprc_gambling  \\\n",
       "0             0.917             0.976           0.868            0.441   \n",
       "1             0.921             0.978           0.869            0.468   \n",
       "2             0.936             0.984           0.905            0.447   \n",
       "\n",
       "   aucprc_games  aucprc_high-risk  \n",
       "0         0.852             0.597  \n",
       "1         0.836             0.439  \n",
       "2         0.842             0.572  "
      ]
     },
     "execution_count": 20,
     "metadata": {},
     "output_type": "execute_result"
    }
   ],
   "source": [
    "metrics_cv"
   ]
  },
  {
   "cell_type": "code",
   "execution_count": 21,
   "metadata": {},
   "outputs": [],
   "source": [
    "# TRAIN ON WHOLE DATA AND PREDICT ON TEST\n",
    "metrics = pd.DataFrame(np.zeros((1,len(names))), columns=names)\n",
    "word_vectorizer   = TfidfVectorizer(\n",
    "                    sublinear_tf  = True,\n",
    "                    strip_accents = 'unicode',\n",
    "                    analyzer      = 'word',\n",
    "                    token_pattern = r'\\w{1,}',\n",
    "                    ngram_range   = (1, 1),\n",
    "                    max_features  = FEATURES[0])\n",
    "word_vectorizer.fit(X['structs'])\n",
    "train_word_features  = word_vectorizer.transform(X['structs'])\n",
    "test_word_features   = word_vectorizer.transform(X_test['structs'])\n",
    "\n",
    "le = LabelBinarizer()\n",
    "le.fit(y)\n",
    "\n",
    "y_train   = le.transform(y)\n",
    "y_test_lb = le.transform(y_test)\n",
    "\n",
    "for i, cl in enumerate(le.classes_[le.classes_!='other']):\n",
    "    classifier    = LogisticRegression(C=c_p, \n",
    "                                    solver='sag', \n",
    "                                    random_state=RS)\n",
    "    classifier.fit(train_word_features, y_train[:,i])\n",
    "    probs         = classifier.predict_proba(test_word_features)[:,1]\n",
    "    auc_roc_class = roc_auc_score(y_test_lb[:,i], probs)\n",
    "    auc_pr_class  = average_precision_score(y_test_lb[:,i], probs)\n",
    "\n",
    "    metrics.loc[0, f'aucroc_{cl}'] = round(auc_roc_class, 3)\n",
    "    metrics.loc[0, f'aucprc_{cl}'] = round(auc_pr_class, 3)   \n",
    "    "
   ]
  },
  {
   "cell_type": "code",
   "execution_count": 22,
   "metadata": {},
   "outputs": [
    {
     "data": {
      "text/html": [
       "<div>\n",
       "<style scoped>\n",
       "    .dataframe tbody tr th:only-of-type {\n",
       "        vertical-align: middle;\n",
       "    }\n",
       "\n",
       "    .dataframe tbody tr th {\n",
       "        vertical-align: top;\n",
       "    }\n",
       "\n",
       "    .dataframe thead th {\n",
       "        text-align: right;\n",
       "    }\n",
       "</style>\n",
       "<table border=\"1\" class=\"dataframe\">\n",
       "  <thead>\n",
       "    <tr style=\"text-align: right;\">\n",
       "      <th></th>\n",
       "      <th>aucroc_exchanges</th>\n",
       "      <th>aucroc_finance</th>\n",
       "      <th>aucroc_gambling</th>\n",
       "      <th>aucroc_games</th>\n",
       "      <th>aucroc_high-risk</th>\n",
       "      <th>aucprc_exchanges</th>\n",
       "      <th>aucprc_finance</th>\n",
       "      <th>aucprc_gambling</th>\n",
       "      <th>aucprc_games</th>\n",
       "      <th>aucprc_high-risk</th>\n",
       "    </tr>\n",
       "  </thead>\n",
       "  <tbody>\n",
       "    <tr>\n",
       "      <th>0</th>\n",
       "      <td>0.988</td>\n",
       "      <td>0.963</td>\n",
       "      <td>0.883</td>\n",
       "      <td>0.957</td>\n",
       "      <td>0.971</td>\n",
       "      <td>0.984</td>\n",
       "      <td>0.906</td>\n",
       "      <td>0.462</td>\n",
       "      <td>0.87</td>\n",
       "      <td>0.735</td>\n",
       "    </tr>\n",
       "  </tbody>\n",
       "</table>\n",
       "</div>"
      ],
      "text/plain": [
       "   aucroc_exchanges  aucroc_finance  aucroc_gambling  aucroc_games  \\\n",
       "0             0.988           0.963            0.883         0.957   \n",
       "\n",
       "   aucroc_high-risk  aucprc_exchanges  aucprc_finance  aucprc_gambling  \\\n",
       "0             0.971             0.984           0.906            0.462   \n",
       "\n",
       "   aucprc_games  aucprc_high-risk  \n",
       "0          0.87             0.735  "
      ]
     },
     "execution_count": 22,
     "metadata": {},
     "output_type": "execute_result"
    }
   ],
   "source": [
    "metrics"
   ]
  },
  {
   "cell_type": "code",
   "execution_count": 23,
   "metadata": {},
   "outputs": [
    {
     "data": {
      "text/plain": [
       "0    0.952\n",
       "dtype: float64"
      ]
     },
     "execution_count": 23,
     "metadata": {},
     "output_type": "execute_result"
    }
   ],
   "source": [
    "round(metrics.loc[:, metrics.columns.str.contains('aucroc')].mean(axis=1), 3)"
   ]
  },
  {
   "cell_type": "code",
   "execution_count": 24,
   "metadata": {},
   "outputs": [
    {
     "data": {
      "text/plain": [
       "0    0.791\n",
       "dtype: float64"
      ]
     },
     "execution_count": 24,
     "metadata": {},
     "output_type": "execute_result"
    }
   ],
   "source": [
    "round(metrics.loc[:, metrics.columns.str.contains('aucprc')].mean(axis=1), 3)"
   ]
  },
  {
   "cell_type": "markdown",
   "metadata": {},
   "source": [
    "### Lasso Regression"
   ]
  },
  {
   "cell_type": "code",
   "execution_count": 25,
   "metadata": {},
   "outputs": [],
   "source": [
    "c = 0\n",
    "C_parameter = np.arange(0.1, 1.1, 0.1) \n",
    "FEATURES    = np.arange(500, 10200, 200)\n",
    "\n",
    "# use best C\n",
    "\n",
    "C_parameter = [1]\n",
    "FEATURES    = [6900]"
   ]
  },
  {
   "cell_type": "code",
   "execution_count": 26,
   "metadata": {},
   "outputs": [],
   "source": [
    "names  = [f'aucroc_{i}' for i in ['exchanges', 'finance', 'gambling', 'games', 'high-risk']]\n",
    "names2 = [f'aucprc_{i}' for i in ['exchanges', 'finance', 'gambling', 'games', 'high-risk']]\n",
    "names.extend(names2)"
   ]
  },
  {
   "cell_type": "code",
   "execution_count": 27,
   "metadata": {},
   "outputs": [
    {
     "name": "stdout",
     "output_type": "stream",
     "text": [
      "# Features: 6900 C:1 AUC ROC: 0.855 ###  AUC PRC: 0.58\n"
     ]
    }
   ],
   "source": [
    "for FEATURE in FEATURES:    \n",
    "    for c_p in C_parameter:  \n",
    "        metrics_cv = pd.DataFrame(np.zeros((SPLITS, len(names))), columns=names)\n",
    "        for c, (train_index, val_index) in enumerate(kf.split(X, y)):\n",
    "\n",
    "                word_vectorizer   = TfidfVectorizer(\n",
    "                    sublinear_tf  = True,\n",
    "                    strip_accents = 'unicode',\n",
    "                    analyzer      = 'word',\n",
    "                    token_pattern = r'\\w{1,}',\n",
    "                    ngram_range   = (1, 1),\n",
    "                    max_features  = FEATURE)\n",
    "\n",
    "                X_train, X_val      = X.iloc[train_index]['structs'], X.iloc[val_index]['structs']\n",
    "                y_train, y_val      = y.iloc[train_index], y.iloc[val_index] \n",
    "                word_vectorizer.fit(X_train)\n",
    "                train_word_features = word_vectorizer.transform(X_train)\n",
    "                val_word_features   = word_vectorizer.transform(X_val)\n",
    "\n",
    "                le = LabelBinarizer()\n",
    "                le.fit(y_train)\n",
    "\n",
    "                y_train = le.transform(y_train)\n",
    "                y_val   = le.transform(y_val)\n",
    "\n",
    "                assert (le.classes_ == ['exchanges', 'finance', 'gambling', 'games', 'high-risk', 'other']).all()\n",
    "                for i, cl in enumerate(le.classes_[le.classes_!='other']):\n",
    "                    classifier    = LogisticRegression(C=c_p, \n",
    "                                                       solver='liblinear', \n",
    "                                                       random_state=RS, \n",
    "                                                       penalty='l1')\n",
    "                    classifier.fit(train_word_features, y_train[:,i])\n",
    "                    probs         = classifier.predict_proba(val_word_features)[:,1]\n",
    "                    auc_roc_class = roc_auc_score(y_val[:,i], probs)\n",
    "                    auc_pr_class  = average_precision_score(y_val[:,i], probs)\n",
    "\n",
    "                    metrics_cv.loc[c, f'aucroc_{cl}'] = round(auc_roc_class, 3)\n",
    "                    metrics_cv.loc[c, f'aucprc_{cl}'] = round(auc_pr_class, 3)  \n",
    "\n",
    "\n",
    "        print(f\"# Features: {FEATURE} C:{c_p} AUC ROC: {round(metrics_cv.loc[:, metrics_cv.columns.str.contains('aucroc')].mean(axis=0).mean(), 3)} ###  AUC PRC: {round(metrics_cv.loc[:, metrics_cv.columns.str.contains('aucprc')].mean(axis=0).mean(), 3)}\")"
   ]
  },
  {
   "cell_type": "code",
   "execution_count": 28,
   "metadata": {},
   "outputs": [
    {
     "data": {
      "text/plain": [
       "aucroc_exchanges    0.937\n",
       "aucroc_finance      0.890\n",
       "aucroc_gambling     0.747\n",
       "aucroc_games        0.888\n",
       "aucroc_high-risk    0.811\n",
       "dtype: float64"
      ]
     },
     "execution_count": 28,
     "metadata": {},
     "output_type": "execute_result"
    }
   ],
   "source": [
    "round(metrics_cv.loc[:, metrics_cv.columns.str.contains('aucroc')].mean(axis=0), 3)"
   ]
  },
  {
   "cell_type": "code",
   "execution_count": 29,
   "metadata": {},
   "outputs": [
    {
     "data": {
      "text/plain": [
       "aucprc_exchanges    0.920\n",
       "aucprc_finance      0.748\n",
       "aucprc_gambling     0.288\n",
       "aucprc_games        0.654\n",
       "aucprc_high-risk    0.289\n",
       "dtype: float64"
      ]
     },
     "execution_count": 29,
     "metadata": {},
     "output_type": "execute_result"
    }
   ],
   "source": [
    "round(metrics_cv.loc[:, metrics_cv.columns.str.contains('aucprc')].mean(axis=0), 3)"
   ]
  },
  {
   "cell_type": "code",
   "execution_count": 30,
   "metadata": {},
   "outputs": [
    {
     "data": {
      "text/html": [
       "<div>\n",
       "<style scoped>\n",
       "    .dataframe tbody tr th:only-of-type {\n",
       "        vertical-align: middle;\n",
       "    }\n",
       "\n",
       "    .dataframe tbody tr th {\n",
       "        vertical-align: top;\n",
       "    }\n",
       "\n",
       "    .dataframe thead th {\n",
       "        text-align: right;\n",
       "    }\n",
       "</style>\n",
       "<table border=\"1\" class=\"dataframe\">\n",
       "  <thead>\n",
       "    <tr style=\"text-align: right;\">\n",
       "      <th></th>\n",
       "      <th>aucroc_exchanges</th>\n",
       "      <th>aucroc_finance</th>\n",
       "      <th>aucroc_gambling</th>\n",
       "      <th>aucroc_games</th>\n",
       "      <th>aucroc_high-risk</th>\n",
       "      <th>aucprc_exchanges</th>\n",
       "      <th>aucprc_finance</th>\n",
       "      <th>aucprc_gambling</th>\n",
       "      <th>aucprc_games</th>\n",
       "      <th>aucprc_high-risk</th>\n",
       "    </tr>\n",
       "  </thead>\n",
       "  <tbody>\n",
       "    <tr>\n",
       "      <th>0</th>\n",
       "      <td>0.922</td>\n",
       "      <td>0.854</td>\n",
       "      <td>0.745</td>\n",
       "      <td>0.887</td>\n",
       "      <td>0.876</td>\n",
       "      <td>0.901</td>\n",
       "      <td>0.691</td>\n",
       "      <td>0.376</td>\n",
       "      <td>0.656</td>\n",
       "      <td>0.412</td>\n",
       "    </tr>\n",
       "    <tr>\n",
       "      <th>1</th>\n",
       "      <td>0.932</td>\n",
       "      <td>0.897</td>\n",
       "      <td>0.798</td>\n",
       "      <td>0.903</td>\n",
       "      <td>0.768</td>\n",
       "      <td>0.920</td>\n",
       "      <td>0.774</td>\n",
       "      <td>0.386</td>\n",
       "      <td>0.674</td>\n",
       "      <td>0.138</td>\n",
       "    </tr>\n",
       "    <tr>\n",
       "      <th>2</th>\n",
       "      <td>0.956</td>\n",
       "      <td>0.919</td>\n",
       "      <td>0.697</td>\n",
       "      <td>0.875</td>\n",
       "      <td>0.790</td>\n",
       "      <td>0.940</td>\n",
       "      <td>0.780</td>\n",
       "      <td>0.103</td>\n",
       "      <td>0.631</td>\n",
       "      <td>0.316</td>\n",
       "    </tr>\n",
       "  </tbody>\n",
       "</table>\n",
       "</div>"
      ],
      "text/plain": [
       "   aucroc_exchanges  aucroc_finance  aucroc_gambling  aucroc_games  \\\n",
       "0             0.922           0.854            0.745         0.887   \n",
       "1             0.932           0.897            0.798         0.903   \n",
       "2             0.956           0.919            0.697         0.875   \n",
       "\n",
       "   aucroc_high-risk  aucprc_exchanges  aucprc_finance  aucprc_gambling  \\\n",
       "0             0.876             0.901           0.691            0.376   \n",
       "1             0.768             0.920           0.774            0.386   \n",
       "2             0.790             0.940           0.780            0.103   \n",
       "\n",
       "   aucprc_games  aucprc_high-risk  \n",
       "0         0.656             0.412  \n",
       "1         0.674             0.138  \n",
       "2         0.631             0.316  "
      ]
     },
     "execution_count": 30,
     "metadata": {},
     "output_type": "execute_result"
    }
   ],
   "source": [
    "metrics_cv"
   ]
  },
  {
   "cell_type": "code",
   "execution_count": 31,
   "metadata": {},
   "outputs": [],
   "source": [
    "# TRAIN ON WHOLE DATA AND PREDICT ON TEST\n",
    "metrics = pd.DataFrame(np.zeros((1,len(names))), columns=names)\n",
    "word_vectorizer   = TfidfVectorizer(\n",
    "                    sublinear_tf  = True,\n",
    "                    strip_accents = 'unicode',\n",
    "                    analyzer      = 'word',\n",
    "                    token_pattern = r'\\w{1,}',\n",
    "                    ngram_range   = (1, 1),\n",
    "                    max_features  = FEATURES[0])\n",
    "word_vectorizer.fit(X['structs'])\n",
    "train_word_features  = word_vectorizer.transform(X['structs'])\n",
    "test_word_features   = word_vectorizer.transform(X_test['structs'])\n",
    "\n",
    "le = LabelBinarizer()\n",
    "le.fit(y)\n",
    "\n",
    "y_train   = le.transform(y)\n",
    "y_test_lb = le.transform(y_test)\n",
    "\n",
    "for i, cl in enumerate(le.classes_[le.classes_!='other']):\n",
    "    classifier = LogisticRegression(C=c_p, \n",
    "                                    solver='liblinear', \n",
    "                                    random_state=RS, \n",
    "                                    penalty='l1')\n",
    "    classifier.fit(train_word_features, y_train[:,i])\n",
    "    probs      = classifier.predict_proba(test_word_features)[:,1]\n",
    "    auc_roc_class = roc_auc_score(y_test_lb[:,i], probs)\n",
    "    auc_pr_class = average_precision_score(y_test_lb[:,i], probs)\n",
    "\n",
    "    metrics.loc[0, f'aucroc_{cl}'] = round(auc_roc_class, 3)\n",
    "    metrics.loc[0, f'aucprc_{cl}'] = round(auc_pr_class, 3)   \n",
    "    "
   ]
  },
  {
   "cell_type": "code",
   "execution_count": 32,
   "metadata": {},
   "outputs": [
    {
     "data": {
      "text/html": [
       "<div>\n",
       "<style scoped>\n",
       "    .dataframe tbody tr th:only-of-type {\n",
       "        vertical-align: middle;\n",
       "    }\n",
       "\n",
       "    .dataframe tbody tr th {\n",
       "        vertical-align: top;\n",
       "    }\n",
       "\n",
       "    .dataframe thead th {\n",
       "        text-align: right;\n",
       "    }\n",
       "</style>\n",
       "<table border=\"1\" class=\"dataframe\">\n",
       "  <thead>\n",
       "    <tr style=\"text-align: right;\">\n",
       "      <th></th>\n",
       "      <th>aucroc_exchanges</th>\n",
       "      <th>aucroc_finance</th>\n",
       "      <th>aucroc_gambling</th>\n",
       "      <th>aucroc_games</th>\n",
       "      <th>aucroc_high-risk</th>\n",
       "      <th>aucprc_exchanges</th>\n",
       "      <th>aucprc_finance</th>\n",
       "      <th>aucprc_gambling</th>\n",
       "      <th>aucprc_games</th>\n",
       "      <th>aucprc_high-risk</th>\n",
       "    </tr>\n",
       "  </thead>\n",
       "  <tbody>\n",
       "    <tr>\n",
       "      <th>0</th>\n",
       "      <td>0.981</td>\n",
       "      <td>0.919</td>\n",
       "      <td>0.803</td>\n",
       "      <td>0.913</td>\n",
       "      <td>0.874</td>\n",
       "      <td>0.973</td>\n",
       "      <td>0.791</td>\n",
       "      <td>0.395</td>\n",
       "      <td>0.73</td>\n",
       "      <td>0.573</td>\n",
       "    </tr>\n",
       "  </tbody>\n",
       "</table>\n",
       "</div>"
      ],
      "text/plain": [
       "   aucroc_exchanges  aucroc_finance  aucroc_gambling  aucroc_games  \\\n",
       "0             0.981           0.919            0.803         0.913   \n",
       "\n",
       "   aucroc_high-risk  aucprc_exchanges  aucprc_finance  aucprc_gambling  \\\n",
       "0             0.874             0.973           0.791            0.395   \n",
       "\n",
       "   aucprc_games  aucprc_high-risk  \n",
       "0          0.73             0.573  "
      ]
     },
     "execution_count": 32,
     "metadata": {},
     "output_type": "execute_result"
    }
   ],
   "source": [
    "metrics"
   ]
  },
  {
   "cell_type": "code",
   "execution_count": 33,
   "metadata": {},
   "outputs": [
    {
     "data": {
      "text/plain": [
       "0    0.898\n",
       "dtype: float64"
      ]
     },
     "execution_count": 33,
     "metadata": {},
     "output_type": "execute_result"
    }
   ],
   "source": [
    "round(metrics.loc[:, metrics.columns.str.contains('aucroc')].mean(axis=1), 3)"
   ]
  },
  {
   "cell_type": "code",
   "execution_count": 34,
   "metadata": {},
   "outputs": [
    {
     "data": {
      "text/plain": [
       "0    0.692\n",
       "dtype: float64"
      ]
     },
     "execution_count": 34,
     "metadata": {},
     "output_type": "execute_result"
    }
   ],
   "source": [
    "round(metrics.loc[:, metrics.columns.str.contains('aucprc')].mean(axis=1), 3)"
   ]
  },
  {
   "cell_type": "markdown",
   "metadata": {},
   "source": [
    "### Random Forest"
   ]
  },
  {
   "cell_type": "code",
   "execution_count": 35,
   "metadata": {},
   "outputs": [
    {
     "name": "stderr",
     "output_type": "stream",
     "text": [
      "[Parallel(n_jobs=20)]: Using backend ThreadingBackend with 20 concurrent workers.\n",
      "[Parallel(n_jobs=20)]: Done  10 tasks      | elapsed:    0.1s\n",
      "[Parallel(n_jobs=20)]: Done 160 tasks      | elapsed:    0.6s\n",
      "[Parallel(n_jobs=20)]: Done 410 tasks      | elapsed:    1.5s\n",
      "[Parallel(n_jobs=20)]: Done 600 out of 600 | elapsed:    2.0s finished\n",
      "[Parallel(n_jobs=20)]: Using backend ThreadingBackend with 20 concurrent workers.\n",
      "[Parallel(n_jobs=20)]: Done  10 tasks      | elapsed:    0.0s\n",
      "[Parallel(n_jobs=20)]: Done 160 tasks      | elapsed:    0.2s\n",
      "[Parallel(n_jobs=20)]: Done 410 tasks      | elapsed:    0.4s\n",
      "[Parallel(n_jobs=20)]: Done 600 out of 600 | elapsed:    0.5s finished\n",
      "[Parallel(n_jobs=20)]: Using backend ThreadingBackend with 20 concurrent workers.\n",
      "[Parallel(n_jobs=20)]: Done  10 tasks      | elapsed:    0.1s\n",
      "[Parallel(n_jobs=20)]: Done 160 tasks      | elapsed:    0.6s\n",
      "[Parallel(n_jobs=20)]: Done 410 tasks      | elapsed:    1.5s\n",
      "[Parallel(n_jobs=20)]: Done 600 out of 600 | elapsed:    2.1s finished\n",
      "[Parallel(n_jobs=20)]: Using backend ThreadingBackend with 20 concurrent workers.\n",
      "[Parallel(n_jobs=20)]: Done  10 tasks      | elapsed:    0.0s\n",
      "[Parallel(n_jobs=20)]: Done 160 tasks      | elapsed:    0.1s\n",
      "[Parallel(n_jobs=20)]: Done 410 tasks      | elapsed:    0.3s\n",
      "[Parallel(n_jobs=20)]: Done 600 out of 600 | elapsed:    0.4s finished\n",
      "[Parallel(n_jobs=20)]: Using backend ThreadingBackend with 20 concurrent workers.\n",
      "[Parallel(n_jobs=20)]: Done  10 tasks      | elapsed:    0.1s\n",
      "[Parallel(n_jobs=20)]: Done 160 tasks      | elapsed:    0.6s\n",
      "[Parallel(n_jobs=20)]: Done 410 tasks      | elapsed:    1.4s\n",
      "[Parallel(n_jobs=20)]: Done 600 out of 600 | elapsed:    2.0s finished\n",
      "[Parallel(n_jobs=20)]: Using backend ThreadingBackend with 20 concurrent workers.\n",
      "[Parallel(n_jobs=20)]: Done  10 tasks      | elapsed:    0.0s\n",
      "[Parallel(n_jobs=20)]: Done 160 tasks      | elapsed:    0.2s\n",
      "[Parallel(n_jobs=20)]: Done 410 tasks      | elapsed:    0.4s\n"
     ]
    },
    {
     "name": "stdout",
     "output_type": "stream",
     "text": [
      "AUC ROC: 0.933 ###  AUC PRC: 0.749\n"
     ]
    },
    {
     "name": "stderr",
     "output_type": "stream",
     "text": [
      "[Parallel(n_jobs=20)]: Done 600 out of 600 | elapsed:    0.5s finished\n"
     ]
    }
   ],
   "source": [
    "for FEATURE in FEATURES:\n",
    "    metrics_cv = pd.DataFrame(np.zeros((SPLITS, len(names))), columns=names)\n",
    "    for c, (train_index, val_index) in enumerate(kf.split(X, y)):\n",
    "\n",
    "            X_train, X_val      = X.iloc[train_index]['structs'], X.iloc[val_index]['structs']\n",
    "            y_train, y_val      = y.iloc[train_index], y.iloc[val_index] \n",
    "            word_vectorizer     = TfidfVectorizer(\n",
    "                        sublinear_tf  = True,\n",
    "                        strip_accents = 'unicode',\n",
    "                        analyzer      = 'word',\n",
    "                        token_pattern = r'\\w{1,}',\n",
    "                        ngram_range   = (1, 1),\n",
    "                        max_features  = FEATURE)\n",
    "            word_vectorizer.fit(X_train)\n",
    "            train_word_features = word_vectorizer.transform(X_train)\n",
    "            val_word_features   = word_vectorizer.transform(X_val)\n",
    "\n",
    "            le = LabelBinarizer()\n",
    "            le.fit(y_train)\n",
    "\n",
    "            y_train = le.transform(y_train)\n",
    "            y_val   = le.transform(y_val)\n",
    "\n",
    "\n",
    "            classifier = RandomForestClassifier(n_estimators=600, \n",
    "                                                         max_depth=None, \n",
    "                                                         max_features='auto',\n",
    "                                                         min_samples_split=2, \n",
    "                                                         verbose = True, \n",
    "                                                         n_jobs=20, \n",
    "                                                         random_state=RS)\n",
    "            classifier.fit(train_word_features, y_train)\n",
    "            probs = classifier.predict_proba(val_word_features)\n",
    "\n",
    "            assert (le.classes_ == ['exchanges', 'finance', 'gambling', 'games', 'high-risk', 'other']).all()        \n",
    "            for i, cl in enumerate(le.classes_[le.classes_!='other']):\n",
    "                auc_roc_class = roc_auc_score(y_val[:,i], probs[i][:,1])\n",
    "                auc_pr_class  = average_precision_score(y_val[:,i], probs[i][:,1])\n",
    "\n",
    "                metrics_cv.loc[c, f'aucroc_{cl}'] = round(auc_roc_class, 3)\n",
    "                metrics_cv.loc[c, f'aucprc_{cl}'] = round(auc_pr_class, 3)   \n",
    "\n",
    "    print(f\"AUC ROC: {round(metrics_cv.loc[:, metrics_cv.columns.str.contains('aucroc')].mean(axis=0).mean(), 3)} ###  AUC PRC: {round(metrics_cv.loc[:, metrics_cv.columns.str.contains('aucprc')].mean(axis=0).mean(), 3)}\")"
   ]
  },
  {
   "cell_type": "code",
   "execution_count": 36,
   "metadata": {},
   "outputs": [
    {
     "data": {
      "text/html": [
       "<div>\n",
       "<style scoped>\n",
       "    .dataframe tbody tr th:only-of-type {\n",
       "        vertical-align: middle;\n",
       "    }\n",
       "\n",
       "    .dataframe tbody tr th {\n",
       "        vertical-align: top;\n",
       "    }\n",
       "\n",
       "    .dataframe thead th {\n",
       "        text-align: right;\n",
       "    }\n",
       "</style>\n",
       "<table border=\"1\" class=\"dataframe\">\n",
       "  <thead>\n",
       "    <tr style=\"text-align: right;\">\n",
       "      <th></th>\n",
       "      <th>aucroc_exchanges</th>\n",
       "      <th>aucroc_finance</th>\n",
       "      <th>aucroc_gambling</th>\n",
       "      <th>aucroc_games</th>\n",
       "      <th>aucroc_high-risk</th>\n",
       "      <th>aucprc_exchanges</th>\n",
       "      <th>aucprc_finance</th>\n",
       "      <th>aucprc_gambling</th>\n",
       "      <th>aucprc_games</th>\n",
       "      <th>aucprc_high-risk</th>\n",
       "    </tr>\n",
       "  </thead>\n",
       "  <tbody>\n",
       "    <tr>\n",
       "      <th>0</th>\n",
       "      <td>0.971</td>\n",
       "      <td>0.953</td>\n",
       "      <td>0.897</td>\n",
       "      <td>0.951</td>\n",
       "      <td>0.959</td>\n",
       "      <td>0.967</td>\n",
       "      <td>0.878</td>\n",
       "      <td>0.474</td>\n",
       "      <td>0.879</td>\n",
       "      <td>0.693</td>\n",
       "    </tr>\n",
       "    <tr>\n",
       "      <th>1</th>\n",
       "      <td>0.979</td>\n",
       "      <td>0.937</td>\n",
       "      <td>0.858</td>\n",
       "      <td>0.923</td>\n",
       "      <td>0.920</td>\n",
       "      <td>0.975</td>\n",
       "      <td>0.859</td>\n",
       "      <td>0.461</td>\n",
       "      <td>0.788</td>\n",
       "      <td>0.600</td>\n",
       "    </tr>\n",
       "    <tr>\n",
       "      <th>2</th>\n",
       "      <td>0.985</td>\n",
       "      <td>0.964</td>\n",
       "      <td>0.844</td>\n",
       "      <td>0.935</td>\n",
       "      <td>0.920</td>\n",
       "      <td>0.981</td>\n",
       "      <td>0.887</td>\n",
       "      <td>0.343</td>\n",
       "      <td>0.848</td>\n",
       "      <td>0.598</td>\n",
       "    </tr>\n",
       "  </tbody>\n",
       "</table>\n",
       "</div>"
      ],
      "text/plain": [
       "   aucroc_exchanges  aucroc_finance  aucroc_gambling  aucroc_games  \\\n",
       "0             0.971           0.953            0.897         0.951   \n",
       "1             0.979           0.937            0.858         0.923   \n",
       "2             0.985           0.964            0.844         0.935   \n",
       "\n",
       "   aucroc_high-risk  aucprc_exchanges  aucprc_finance  aucprc_gambling  \\\n",
       "0             0.959             0.967           0.878            0.474   \n",
       "1             0.920             0.975           0.859            0.461   \n",
       "2             0.920             0.981           0.887            0.343   \n",
       "\n",
       "   aucprc_games  aucprc_high-risk  \n",
       "0         0.879             0.693  \n",
       "1         0.788             0.600  \n",
       "2         0.848             0.598  "
      ]
     },
     "execution_count": 36,
     "metadata": {},
     "output_type": "execute_result"
    }
   ],
   "source": [
    "metrics_cv"
   ]
  },
  {
   "cell_type": "code",
   "execution_count": 37,
   "metadata": {},
   "outputs": [
    {
     "name": "stderr",
     "output_type": "stream",
     "text": [
      "[Parallel(n_jobs=20)]: Using backend ThreadingBackend with 20 concurrent workers.\n",
      "[Parallel(n_jobs=20)]: Done  10 tasks      | elapsed:    0.1s\n",
      "[Parallel(n_jobs=20)]: Done 160 tasks      | elapsed:    0.7s\n",
      "[Parallel(n_jobs=20)]: Done 410 tasks      | elapsed:    1.6s\n",
      "[Parallel(n_jobs=20)]: Done 600 out of 600 | elapsed:    2.2s finished\n",
      "[Parallel(n_jobs=20)]: Using backend ThreadingBackend with 20 concurrent workers.\n",
      "[Parallel(n_jobs=20)]: Done  10 tasks      | elapsed:    0.0s\n",
      "[Parallel(n_jobs=20)]: Done 160 tasks      | elapsed:    0.2s\n",
      "[Parallel(n_jobs=20)]: Done 410 tasks      | elapsed:    0.4s\n",
      "[Parallel(n_jobs=20)]: Done 600 out of 600 | elapsed:    0.5s finished\n"
     ]
    }
   ],
   "source": [
    "# TRAIN ON WHOLE DATA AND PREDICT ON TEST\n",
    "metrics = pd.DataFrame(np.zeros((1,len(names))), columns=names)\n",
    "word_vectorizer   = TfidfVectorizer(\n",
    "                    sublinear_tf  = True,\n",
    "                    strip_accents = 'unicode',\n",
    "                    analyzer      = 'word',\n",
    "                    token_pattern = r'\\w{1,}',\n",
    "                    ngram_range   = (1, 1),\n",
    "                    max_features  = FEATURES[0])\n",
    "word_vectorizer.fit(X['structs'])\n",
    "train_word_features  = word_vectorizer.transform(X['structs'])\n",
    "test_word_features   = word_vectorizer.transform(X_test['structs'])\n",
    "\n",
    "le = LabelBinarizer()\n",
    "le.fit(y)\n",
    "\n",
    "y_train   = le.transform(y)\n",
    "y_test_lb = le.transform(y_test)\n",
    "\n",
    "\n",
    "classifier = RandomForestClassifier(n_estimators=600, max_depth=None, max_features='auto', \n",
    "                            min_samples_split=2, verbose = True, n_jobs=20, random_state=RS)\n",
    "classifier.fit(train_word_features, y_train)\n",
    "probs      = classifier.predict_proba(test_word_features)\n",
    "\n",
    "assert (le.classes_ == ['exchanges', 'finance', 'gambling', 'games', 'high-risk', 'other']).all() \n",
    "\n",
    "for i, cl in enumerate(le.classes_[le.classes_!='other']):\n",
    "    auc_roc_class = roc_auc_score(y_test_lb[:,i], probs[i][:,1])\n",
    "    auc_pr_class = average_precision_score(y_test_lb[:,i], probs[i][:,1])\n",
    "\n",
    "    metrics.loc[0, f'aucroc_{cl}'] = round(auc_roc_class, 3)\n",
    "    metrics.loc[0, f'aucprc_{cl}'] = round(auc_pr_class, 3)   "
   ]
  },
  {
   "cell_type": "code",
   "execution_count": 38,
   "metadata": {},
   "outputs": [
    {
     "data": {
      "text/html": [
       "<div>\n",
       "<style scoped>\n",
       "    .dataframe tbody tr th:only-of-type {\n",
       "        vertical-align: middle;\n",
       "    }\n",
       "\n",
       "    .dataframe tbody tr th {\n",
       "        vertical-align: top;\n",
       "    }\n",
       "\n",
       "    .dataframe thead th {\n",
       "        text-align: right;\n",
       "    }\n",
       "</style>\n",
       "<table border=\"1\" class=\"dataframe\">\n",
       "  <thead>\n",
       "    <tr style=\"text-align: right;\">\n",
       "      <th></th>\n",
       "      <th>aucroc_exchanges</th>\n",
       "      <th>aucroc_finance</th>\n",
       "      <th>aucroc_gambling</th>\n",
       "      <th>aucroc_games</th>\n",
       "      <th>aucroc_high-risk</th>\n",
       "      <th>aucprc_exchanges</th>\n",
       "      <th>aucprc_finance</th>\n",
       "      <th>aucprc_gambling</th>\n",
       "      <th>aucprc_games</th>\n",
       "      <th>aucprc_high-risk</th>\n",
       "    </tr>\n",
       "  </thead>\n",
       "  <tbody>\n",
       "    <tr>\n",
       "      <th>0</th>\n",
       "      <td>0.989</td>\n",
       "      <td>0.971</td>\n",
       "      <td>0.864</td>\n",
       "      <td>0.961</td>\n",
       "      <td>0.973</td>\n",
       "      <td>0.985</td>\n",
       "      <td>0.928</td>\n",
       "      <td>0.474</td>\n",
       "      <td>0.899</td>\n",
       "      <td>0.719</td>\n",
       "    </tr>\n",
       "  </tbody>\n",
       "</table>\n",
       "</div>"
      ],
      "text/plain": [
       "   aucroc_exchanges  aucroc_finance  aucroc_gambling  aucroc_games  \\\n",
       "0             0.989           0.971            0.864         0.961   \n",
       "\n",
       "   aucroc_high-risk  aucprc_exchanges  aucprc_finance  aucprc_gambling  \\\n",
       "0             0.973             0.985           0.928            0.474   \n",
       "\n",
       "   aucprc_games  aucprc_high-risk  \n",
       "0         0.899             0.719  "
      ]
     },
     "execution_count": 38,
     "metadata": {},
     "output_type": "execute_result"
    }
   ],
   "source": [
    "metrics"
   ]
  },
  {
   "cell_type": "code",
   "execution_count": 39,
   "metadata": {},
   "outputs": [
    {
     "data": {
      "text/plain": [
       "0    0.952\n",
       "dtype: float64"
      ]
     },
     "execution_count": 39,
     "metadata": {},
     "output_type": "execute_result"
    }
   ],
   "source": [
    "round(metrics.loc[:, metrics.columns.str.contains('aucroc')].mean(axis=1), 3)"
   ]
  },
  {
   "cell_type": "code",
   "execution_count": 40,
   "metadata": {},
   "outputs": [
    {
     "data": {
      "text/plain": [
       "0    0.801\n",
       "dtype: float64"
      ]
     },
     "execution_count": 40,
     "metadata": {},
     "output_type": "execute_result"
    }
   ],
   "source": [
    "round(metrics.loc[:, metrics.columns.str.contains('aucprc')].mean(axis=1), 3)"
   ]
  },
  {
   "cell_type": "markdown",
   "metadata": {},
   "source": [
    "### SVM"
   ]
  },
  {
   "cell_type": "code",
   "execution_count": 41,
   "metadata": {},
   "outputs": [
    {
     "name": "stdout",
     "output_type": "stream",
     "text": [
      "-------------\n",
      "penalty l2\n",
      "alpha 0.0001\n",
      "max_iter 1000\n",
      "-------------\n",
      "AUC ROC: 0.939 ###  AUC PRC: 0.76\n"
     ]
    }
   ],
   "source": [
    "penalty = ['l2', 'l1']\n",
    "alpha = [0.000001, 0.00001, 0.0001, 0.001, 0.01, 0.1]\n",
    "max_iter = [1000, 10000, 15000]\n",
    "\n",
    "# best parameters\n",
    "penalty = ['l2']\n",
    "alpha = [0.0001]\n",
    "max_iter = [1000] \n",
    "\n",
    "for p in penalty:\n",
    "      for a in alpha:\n",
    "            for it in max_iter:\n",
    "\n",
    "                print(f'-------------')\n",
    "                print(f'penalty {p}')\n",
    "                print(f'alpha {a}')\n",
    "                print(f'max_iter {it}')\n",
    "                print(f'-------------')\n",
    "\n",
    "\n",
    "                metrics_cv = pd.DataFrame(np.zeros((SPLITS, len(names))), columns=names)\n",
    "                for c, (train_index, val_index) in enumerate(kf.split(X, y)):\n",
    "\n",
    "                    X_train, X_val      = X.iloc[train_index]['structs'], X.iloc[val_index]['structs']\n",
    "                    y_train, y_val      = y.iloc[train_index], y.iloc[val_index] \n",
    "                    word_vectorizer     = TfidfVectorizer(sublinear_tf  = True,\n",
    "                                                        strip_accents = 'unicode',\n",
    "                                                        analyzer      = 'word',\n",
    "                                                        token_pattern = r'\\w{1,}',\n",
    "                                                        ngram_range   = (1, 1),\n",
    "                                                        max_features  = FEATURES[0])\n",
    "                    word_vectorizer.fit(X_train)\n",
    "                    train_word_features = word_vectorizer.transform(X_train)\n",
    "                    val_word_features   = word_vectorizer.transform(X_val)\n",
    "\n",
    "                    le = LabelBinarizer()\n",
    "                    le.fit(y_train)\n",
    "\n",
    "                    y_train = le.transform(y_train)\n",
    "                    y_val   = le.transform(y_val)\n",
    "\n",
    "                    assert (le.classes_ == ['exchanges', 'finance', 'gambling', 'games', 'high-risk', 'other']).all() \n",
    "\n",
    "                    for i, cl in enumerate(le.classes_[le.classes_!='other']):\n",
    "                        classifier = SGDClassifier(n_jobs=20, \n",
    "                                                   random_state=RS, \n",
    "                                                   loss='log', \n",
    "                                                   shuffle=False, \n",
    "                                                   penalty=p, \n",
    "                                                   alpha=a, \n",
    "                                                   max_iter=it)\n",
    "                        classifier.fit(train_word_features, y_train[:,i])\n",
    "                        probs      = classifier.predict_proba(val_word_features)[:,1]\n",
    "                        auc_roc_class = roc_auc_score(y_val[:,i], probs)\n",
    "                        auc_pr_class = average_precision_score(y_val[:,i], probs)\n",
    "\n",
    "                        metrics_cv.loc[c, f'aucroc_{cl}'] = round(auc_roc_class, 3)\n",
    "                        metrics_cv.loc[c, f'aucprc_{cl}'] = round(auc_pr_class, 3)   \n",
    "\n",
    "\n",
    "                print(f\"AUC ROC: {round(metrics_cv.loc[:, metrics_cv.columns.str.contains('aucroc')].mean(axis=0).mean(), 3)} ###  AUC PRC: {round(metrics_cv.loc[:, metrics_cv.columns.str.contains('aucprc')].mean(axis=0).mean(), 3)}\")"
   ]
  },
  {
   "cell_type": "code",
   "execution_count": 42,
   "metadata": {},
   "outputs": [
    {
     "data": {
      "text/html": [
       "<div>\n",
       "<style scoped>\n",
       "    .dataframe tbody tr th:only-of-type {\n",
       "        vertical-align: middle;\n",
       "    }\n",
       "\n",
       "    .dataframe tbody tr th {\n",
       "        vertical-align: top;\n",
       "    }\n",
       "\n",
       "    .dataframe thead th {\n",
       "        text-align: right;\n",
       "    }\n",
       "</style>\n",
       "<table border=\"1\" class=\"dataframe\">\n",
       "  <thead>\n",
       "    <tr style=\"text-align: right;\">\n",
       "      <th></th>\n",
       "      <th>aucroc_exchanges</th>\n",
       "      <th>aucroc_finance</th>\n",
       "      <th>aucroc_gambling</th>\n",
       "      <th>aucroc_games</th>\n",
       "      <th>aucroc_high-risk</th>\n",
       "      <th>aucprc_exchanges</th>\n",
       "      <th>aucprc_finance</th>\n",
       "      <th>aucprc_gambling</th>\n",
       "      <th>aucprc_games</th>\n",
       "      <th>aucprc_high-risk</th>\n",
       "    </tr>\n",
       "  </thead>\n",
       "  <tbody>\n",
       "    <tr>\n",
       "      <th>0</th>\n",
       "      <td>0.976</td>\n",
       "      <td>0.952</td>\n",
       "      <td>0.867</td>\n",
       "      <td>0.954</td>\n",
       "      <td>0.898</td>\n",
       "      <td>0.970</td>\n",
       "      <td>0.887</td>\n",
       "      <td>0.490</td>\n",
       "      <td>0.896</td>\n",
       "      <td>0.566</td>\n",
       "    </tr>\n",
       "    <tr>\n",
       "      <th>1</th>\n",
       "      <td>0.986</td>\n",
       "      <td>0.951</td>\n",
       "      <td>0.893</td>\n",
       "      <td>0.941</td>\n",
       "      <td>0.929</td>\n",
       "      <td>0.982</td>\n",
       "      <td>0.877</td>\n",
       "      <td>0.454</td>\n",
       "      <td>0.843</td>\n",
       "      <td>0.601</td>\n",
       "    </tr>\n",
       "    <tr>\n",
       "      <th>2</th>\n",
       "      <td>0.985</td>\n",
       "      <td>0.970</td>\n",
       "      <td>0.884</td>\n",
       "      <td>0.943</td>\n",
       "      <td>0.951</td>\n",
       "      <td>0.984</td>\n",
       "      <td>0.917</td>\n",
       "      <td>0.473</td>\n",
       "      <td>0.867</td>\n",
       "      <td>0.600</td>\n",
       "    </tr>\n",
       "  </tbody>\n",
       "</table>\n",
       "</div>"
      ],
      "text/plain": [
       "   aucroc_exchanges  aucroc_finance  aucroc_gambling  aucroc_games  \\\n",
       "0             0.976           0.952            0.867         0.954   \n",
       "1             0.986           0.951            0.893         0.941   \n",
       "2             0.985           0.970            0.884         0.943   \n",
       "\n",
       "   aucroc_high-risk  aucprc_exchanges  aucprc_finance  aucprc_gambling  \\\n",
       "0             0.898             0.970           0.887            0.490   \n",
       "1             0.929             0.982           0.877            0.454   \n",
       "2             0.951             0.984           0.917            0.473   \n",
       "\n",
       "   aucprc_games  aucprc_high-risk  \n",
       "0         0.896             0.566  \n",
       "1         0.843             0.601  \n",
       "2         0.867             0.600  "
      ]
     },
     "execution_count": 42,
     "metadata": {},
     "output_type": "execute_result"
    }
   ],
   "source": [
    "metrics_cv"
   ]
  },
  {
   "cell_type": "code",
   "execution_count": 43,
   "metadata": {},
   "outputs": [
    {
     "data": {
      "text/plain": [
       "aucroc_exchanges    0.982\n",
       "aucroc_finance      0.958\n",
       "aucroc_gambling     0.881\n",
       "aucroc_games        0.946\n",
       "aucroc_high-risk    0.926\n",
       "dtype: float64"
      ]
     },
     "execution_count": 43,
     "metadata": {},
     "output_type": "execute_result"
    }
   ],
   "source": [
    "round(metrics_cv.loc[:, metrics_cv.columns.str.contains('aucroc')].mean(axis=0), 3)"
   ]
  },
  {
   "cell_type": "code",
   "execution_count": 44,
   "metadata": {},
   "outputs": [
    {
     "data": {
      "text/plain": [
       "aucprc_exchanges    0.979\n",
       "aucprc_finance      0.894\n",
       "aucprc_gambling     0.472\n",
       "aucprc_games        0.869\n",
       "aucprc_high-risk    0.589\n",
       "dtype: float64"
      ]
     },
     "execution_count": 44,
     "metadata": {},
     "output_type": "execute_result"
    }
   ],
   "source": [
    "round(metrics_cv.loc[:, metrics_cv.columns.str.contains('aucprc')].mean(axis=0), 3)"
   ]
  },
  {
   "cell_type": "code",
   "execution_count": 45,
   "metadata": {},
   "outputs": [],
   "source": [
    "# TRAIN ON WHOLE DATA AND PREDICT ON TEST\n",
    "metrics = pd.DataFrame(np.zeros((1,len(names))), columns=names)\n",
    "word_vectorizer   = TfidfVectorizer(sublinear_tf  = True,\n",
    "                                    strip_accents = 'unicode',\n",
    "                                    analyzer      = 'word',\n",
    "                                    token_pattern = r'\\w{1,}',\n",
    "                                    ngram_range   = (1, 1),\n",
    "                                    max_features  = FEATURES[0])\n",
    "word_vectorizer.fit(X['structs'])\n",
    "train_word_features  = word_vectorizer.transform(X['structs'])\n",
    "test_word_features   = word_vectorizer.transform(X_test['structs'])\n",
    "\n",
    "le = LabelBinarizer()\n",
    "le.fit(y)\n",
    "\n",
    "y_train   = le.transform(y)\n",
    "y_test_lb = le.transform(y_test)\n",
    "\n",
    "assert (le.classes_ == ['exchanges', 'finance', 'gambling', 'games', 'high-risk', 'other']).all() \n",
    "\n",
    "for i, cl in enumerate(le.classes_[le.classes_!='other']):\n",
    "    classifier = SGDClassifier(n_jobs=20, \n",
    "                               random_state=RS, \n",
    "                               loss='log', \n",
    "                               shuffle=False, \n",
    "                               penalty=penalty[0], \n",
    "                               alpha=alpha[0], \n",
    "                               max_iter=max_iter[0])\n",
    "    \n",
    "    classifier.fit(train_word_features, y_train[:,i])\n",
    "    probs         = classifier.predict_proba(test_word_features)[:,1]\n",
    "    auc_roc_class = roc_auc_score(y_test_lb[:,i], probs)\n",
    "    auc_pr_class  = average_precision_score(y_test_lb[:,i], probs)\n",
    "\n",
    "    metrics.loc[0, f'aucroc_{cl}'] = round(auc_roc_class, 3)\n",
    "    metrics.loc[0, f'aucprc_{cl}'] = round(auc_pr_class, 3)   "
   ]
  },
  {
   "cell_type": "code",
   "execution_count": 46,
   "metadata": {},
   "outputs": [
    {
     "data": {
      "text/html": [
       "<div>\n",
       "<style scoped>\n",
       "    .dataframe tbody tr th:only-of-type {\n",
       "        vertical-align: middle;\n",
       "    }\n",
       "\n",
       "    .dataframe tbody tr th {\n",
       "        vertical-align: top;\n",
       "    }\n",
       "\n",
       "    .dataframe thead th {\n",
       "        text-align: right;\n",
       "    }\n",
       "</style>\n",
       "<table border=\"1\" class=\"dataframe\">\n",
       "  <thead>\n",
       "    <tr style=\"text-align: right;\">\n",
       "      <th></th>\n",
       "      <th>aucroc_exchanges</th>\n",
       "      <th>aucroc_finance</th>\n",
       "      <th>aucroc_gambling</th>\n",
       "      <th>aucroc_games</th>\n",
       "      <th>aucroc_high-risk</th>\n",
       "      <th>aucprc_exchanges</th>\n",
       "      <th>aucprc_finance</th>\n",
       "      <th>aucprc_gambling</th>\n",
       "      <th>aucprc_games</th>\n",
       "      <th>aucprc_high-risk</th>\n",
       "    </tr>\n",
       "  </thead>\n",
       "  <tbody>\n",
       "    <tr>\n",
       "      <th>0</th>\n",
       "      <td>0.98</td>\n",
       "      <td>0.963</td>\n",
       "      <td>0.877</td>\n",
       "      <td>0.971</td>\n",
       "      <td>0.97</td>\n",
       "      <td>0.978</td>\n",
       "      <td>0.932</td>\n",
       "      <td>0.489</td>\n",
       "      <td>0.915</td>\n",
       "      <td>0.754</td>\n",
       "    </tr>\n",
       "  </tbody>\n",
       "</table>\n",
       "</div>"
      ],
      "text/plain": [
       "   aucroc_exchanges  aucroc_finance  aucroc_gambling  aucroc_games  \\\n",
       "0              0.98           0.963            0.877         0.971   \n",
       "\n",
       "   aucroc_high-risk  aucprc_exchanges  aucprc_finance  aucprc_gambling  \\\n",
       "0              0.97             0.978           0.932            0.489   \n",
       "\n",
       "   aucprc_games  aucprc_high-risk  \n",
       "0         0.915             0.754  "
      ]
     },
     "execution_count": 46,
     "metadata": {},
     "output_type": "execute_result"
    }
   ],
   "source": [
    "metrics"
   ]
  }
 ],
 "metadata": {
  "kernelspec": {
   "display_name": "wids",
   "language": "python",
   "name": "wids"
  },
  "language_info": {
   "codemirror_mode": {
    "name": "ipython",
    "version": 3
   },
   "file_extension": ".py",
   "mimetype": "text/x-python",
   "name": "python",
   "nbconvert_exporter": "python",
   "pygments_lexer": "ipython3",
   "version": "3.6.10"
  }
 },
 "nbformat": 4,
 "nbformat_minor": 4
}
