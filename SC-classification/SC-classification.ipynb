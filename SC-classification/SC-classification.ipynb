{
 "cells": [
  {
   "cell_type": "code",
   "execution_count": 7,
   "metadata": {},
   "outputs": [],
   "source": [
    "import numpy as np\n",
    "import matplotlib.pyplot as plt\n",
    "%matplotlib inline\n",
    "import os\n",
    "import pandas as pd\n",
    "\n",
    "from sklearn.pipeline import Pipeline\n",
    "from sklearn.model_selection import GridSearchCV\n",
    "from sklearn.ensemble  import GradientBoostingClassifier, RandomForestClassifier\n",
    "from sklearn.model_selection import StratifiedKFold, cross_val_score, train_test_split, KFold\n",
    "from sklearn.linear_model import LogisticRegression\n",
    "from sklearn.naive_bayes import GaussianNB\n",
    "import random\n",
    "\n",
    "from sklearn import metrics\n",
    "from collections import Counter\n",
    "import argparse\n",
    "from sklearn.model_selection import cross_validate\n",
    "from sklearn.metrics import roc_auc_score, average_precision_score, f1_score, precision_score, recall_score\n",
    "from sklearn.feature_extraction.text import TfidfVectorizer\n",
    "from sklearn.linear_model import SGDClassifier\n",
    "from sklearn.model_selection import ParameterGrid\n",
    "import lightgbm as lgb\n",
    "import seaborn as sns\n",
    "from sklearn.preprocessing import LabelEncoder, LabelBinarizer"
   ]
  },
  {
   "cell_type": "code",
   "execution_count": 8,
   "metadata": {},
   "outputs": [],
   "source": [
    "df = pd.read_csv('../SC-Dapp-scraping/data/dapps_source_code_parsed_open_source_2021-01-08.csv')"
   ]
  },
  {
   "cell_type": "code",
   "execution_count": 9,
   "metadata": {},
   "outputs": [
    {
     "data": {
      "text/plain": [
       "array(['GPL-3.0', 'Apache 2.0', 'Apache', 'MIT', 'GPL v3.0', 'GPL',\n",
       "       'Apache-2.0', 'Apache v2', 'Open',\n",
       "       'Creative Commons Attribution-NonCommercial-NoDeriv', 'NPOSL-3.0',\n",
       "       'AGPL V3', 'GPL-3', 'Open source', 'e.g MiningExpert',\n",
       "       'MIT, GPL-3.0', 'Apache2.0', 'GNU General Public License',\n",
       "       'GPL3.0', 'WTFPL', 'open source', 'AGPL 3.0', 'No License', 'LTD',\n",
       "       'Apache License 2.0',\n",
       "       'Random values licensed for virtual item gambling', 'Mit',\n",
       "       'EPL-1.0', 'Propietary', 'AGPL-v3', 'GPL 3.0', 'no licences',\n",
       "       'AGPL', 'open-source', 'Copyright', 'Open Source', 'open',\n",
       "       'Software license GPL3', 'MIT, GPL', 'IOS', 'GPL3', 'LGPL 3.0',\n",
       "       'none', 'All rights reserved', 'BSD-3', 'GNU', 'Solidity',\n",
       "       'GNU GPLv3', nan, 'Commercial', 'No license',\n",
       "       'Open-Source Licenses', 'GitHub', 'GPL-3.0 License', 'Apache2',\n",
       "       'Proprietary', 'AMP License', 'Unlicensed', 'Unknown license',\n",
       "       'Apache 2', 'Wbank develop and technology pte ltd', 'GNU GPL 3.0',\n",
       "       'Public', 'Attribution-NonCommercial-ShareAlike 4.0 Internati',\n",
       "       'Creative Common License', '天津潘透科技孵化器有限公司',\n",
       "       'MIT (Smart contracts)', 'BSD-2', 'Open-source',\n",
       "       'open source - https://github.com/MysteriumNetwork',\n",
       "       'MIT (Open Zeppelin)', 'MIT,', 'MPL2', 'ETH.Limited', 'MPL',\n",
       "       'ERC-721', 'ISC', 'Free', 'Unlicense',\n",
       "       'Apache License Version 2, January 2004', 'Apache-2', 'GPLv3',\n",
       "       'Proprietary w/ open source component', 'GNU AGPL 3.0', 'Nestree',\n",
       "       'BSD', 'MoonBox, Proprietary', 'AGPLv3', 'MIT, Affero GPL',\n",
       "       'Open Software', 'Consensus Cell Network', 'GNU v3',\n",
       "       'GNU General Public License v3.0', 'GNUv3', 'No licence', 'BSD3',\n",
       "       'CC-SA', 'GNU GPL', 'GPL and Proprietary', 'LPGLv3',\n",
       "       'Proprietary, MIT', 'LGPL-3.0', 'GNU GPL v3',\n",
       "       'Proprietary using OpenZepplin contracts', 'BSD-3-Clause',\n",
       "       'TrustVerse'], dtype=object)"
      ]
     },
     "execution_count": 9,
     "metadata": {},
     "output_type": "execute_result"
    }
   ],
   "source": [
    "df.license.unique()"
   ]
  },
  {
   "cell_type": "code",
   "execution_count": 10,
   "metadata": {},
   "outputs": [
    {
     "data": {
      "text/plain": [
       "(1625, 13)"
      ]
     },
     "execution_count": 10,
     "metadata": {},
     "output_type": "execute_result"
    }
   ],
   "source": [
    "df.shape"
   ]
  },
  {
   "cell_type": "code",
   "execution_count": null,
   "metadata": {},
   "outputs": [],
   "source": []
  }
 ],
 "metadata": {
  "kernelspec": {
   "display_name": "wids",
   "language": "python",
   "name": "wids"
  },
  "language_info": {
   "codemirror_mode": {
    "name": "ipython",
    "version": 3
   },
   "file_extension": ".py",
   "mimetype": "text/x-python",
   "name": "python",
   "nbconvert_exporter": "python",
   "pygments_lexer": "ipython3",
   "version": "3.6.10"
  }
 },
 "nbformat": 4,
 "nbformat_minor": 4
}
