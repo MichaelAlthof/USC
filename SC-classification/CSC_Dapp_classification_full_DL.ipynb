{
 "cells": [
  {
   "cell_type": "code",
   "execution_count": 1,
   "metadata": {},
   "outputs": [],
   "source": [
    "#!pip install nltk"
   ]
  },
  {
   "cell_type": "code",
   "execution_count": 2,
   "metadata": {},
   "outputs": [
    {
     "name": "stderr",
     "output_type": "stream",
     "text": [
      "[nltk_data] Downloading package punkt to\n",
      "[nltk_data]     /home/RDC/zinovyee.hub/nltk_data...\n",
      "[nltk_data]   Package punkt is already up-to-date!\n"
     ]
    }
   ],
   "source": [
    "import pandas as pd\n",
    "import numpy as np\n",
    "\n",
    "from numpy.random import seed\n",
    "#from tensorflow import set_random_seed\n",
    "import tensorflow as tf\n",
    "import random as rn\n",
    "import os\n",
    "from nltk import tokenize \n",
    "import nltk\n",
    "from sklearn.model_selection import StratifiedKFold, cross_val_score, train_test_split, KFold\n",
    "nltk.download('punkt')\n",
    "from keras.layers import Embedding, SpatialDropout1D\n",
    "from keras.layers import Dense, Input, GRU, LSTM \n",
    "from keras.layers import Bidirectional, Dropout, GlobalMaxPool1D \n",
    "from keras.layers import LSTM, GRU, GlobalAveragePooling1D\n",
    "from keras.layers import Conv1D, GlobalMaxPooling1D, TimeDistributed\n",
    "from keras.layers import Dense, Embedding, Input\n",
    "import keras\n",
    "\n",
    "from keras.models import Model, Sequential\n",
    "from keras.optimizers import RMSprop\n",
    "import keras.backend as K\n",
    "from keras.engine.topology import Layer, InputSpec\n",
    "from keras.models import load_model\n",
    "\n",
    "from keras.preprocessing import text, sequence\n",
    "from keras import initializers as initializers, regularizers, constraints\n",
    "\n",
    "from sklearn.model_selection import StratifiedKFold\n",
    "from sklearn.metrics import roc_auc_score, average_precision_score\n",
    "from sklearn.metrics import precision_score, recall_score, f1_score\n",
    "from sklearn.preprocessing import LabelEncoder, LabelBinarizer"
   ]
  },
  {
   "cell_type": "code",
   "execution_count": 3,
   "metadata": {},
   "outputs": [],
   "source": [
    "data = pd.read_csv(\"dapps_with_features_v4.csv\")"
   ]
  },
  {
   "cell_type": "code",
   "execution_count": 4,
   "metadata": {},
   "outputs": [],
   "source": [
    "RS = 42\n",
    "SPLITS = 5\n",
    "LENGTH = 3420 "
   ]
  },
  {
   "cell_type": "code",
   "execution_count": 5,
   "metadata": {},
   "outputs": [],
   "source": [
    "X = data.drop('category', axis=1)\n",
    "y = data.category"
   ]
  },
  {
   "cell_type": "code",
   "execution_count": 6,
   "metadata": {},
   "outputs": [],
   "source": [
    "X, X_test, y, y_test  = train_test_split(X, y, stratify=y, test_size=0.2, random_state=RS)"
   ]
  },
  {
   "cell_type": "code",
   "execution_count": 7,
   "metadata": {},
   "outputs": [
    {
     "name": "stdout",
     "output_type": "stream",
     "text": [
      "X_train shape (1716, 17)\n",
      "X_test shape (430, 17)\n"
     ]
    }
   ],
   "source": [
    "print(f'X_train shape {X.shape}')\n",
    "print(f'X_test shape {X_test.shape}')"
   ]
  },
  {
   "cell_type": "markdown",
   "metadata": {},
   "source": [
    "# Training on full code"
   ]
  },
  {
   "cell_type": "markdown",
   "metadata": {},
   "source": [
    "## Check for possible meta-parameters"
   ]
  },
  {
   "cell_type": "code",
   "execution_count": 10,
   "metadata": {},
   "outputs": [
    {
     "name": "stdout",
     "output_type": "stream",
     "text": [
      "WARNING:tensorflow:From <ipython-input-10-9b278a2da7c4>:1: is_gpu_available (from tensorflow.python.framework.test_util) is deprecated and will be removed in a future version.\n",
      "Instructions for updating:\n",
      "Use `tf.config.list_physical_devices('GPU')` instead.\n"
     ]
    },
    {
     "name": "stderr",
     "output_type": "stream",
     "text": [
      "[nltk_data] Downloading package punkt to\n",
      "[nltk_data]     /home/RDC/zinovyee.hub/nltk_data...\n",
      "[nltk_data]   Package punkt is already up-to-date!\n"
     ]
    }
   ],
   "source": [
    "if tf.test.is_gpu_available():\n",
    "  import models\n",
    "else:\n",
    "  import models_no_gpu as models"
   ]
  },
  {
   "cell_type": "code",
   "execution_count": 11,
   "metadata": {},
   "outputs": [],
   "source": [
    "names = [f'aucroc_{i}' for i in ['development', 'exchanges', 'finance', 'gambling', 'games',\n",
    "       'high-risk', 'marketplaces', 'media', 'other', 'social']]\n",
    "names2 = [f'aucprc_{i}' for i in ['development', 'exchanges', 'finance', 'gambling', 'games',\n",
    "       'high-risk', 'marketplaces', 'media', 'other', 'social']]\n",
    "names.extend(names2)"
   ]
  },
  {
   "cell_type": "code",
   "execution_count": 12,
   "metadata": {},
   "outputs": [
    {
     "name": "stderr",
     "output_type": "stream",
     "text": [
      "/home/RDC/zinovyee.hub/anaconda3/envs/dmc/lib/python3.8/site-packages/sklearn/model_selection/_split.py:292: FutureWarning: Setting a random_state has no effect since shuffle is False. This will raise an error in 0.24. You should leave random_state to its default (None), or set shuffle=True.\n",
      "  warnings.warn(\n"
     ]
    }
   ],
   "source": [
    "kf  = StratifiedKFold(n_splits=SPLITS, random_state=RS)"
   ]
  },
  {
   "cell_type": "code",
   "execution_count": 14,
   "metadata": {},
   "outputs": [
    {
     "name": "stdout",
     "output_type": "stream",
     "text": [
      "Epoch 1/4\n",
      "43/43 [==============================] - 297s 7s/step - loss: 2.0120 - acc: 0.3163\n",
      "Epoch 2/4\n",
      "43/43 [==============================] - 295s 7s/step - loss: 1.9074 - acc: 0.3695\n",
      "Epoch 3/4\n",
      "43/43 [==============================] - 291s 7s/step - loss: 1.7989 - acc: 0.3994\n",
      "Epoch 4/4\n",
      "43/43 [==============================] - 294s 7s/step - loss: 1.7423 - acc: 0.4242\n",
      "Epoch 1/4\n",
      "43/43 [==============================] - 297s 7s/step - loss: 2.0352 - acc: 0.3168\n",
      "Epoch 2/4\n",
      "43/43 [==============================] - 288s 7s/step - loss: 1.9198 - acc: 0.3714\n",
      "Epoch 3/4\n",
      "43/43 [==============================] - 270s 6s/step - loss: 1.8654 - acc: 0.3904\n",
      "Epoch 4/4\n",
      "43/43 [==============================] - 213s 5s/step - loss: 1.8349 - acc: 0.4151\n",
      "Epoch 1/4\n",
      "43/43 [==============================] - 187s 4s/step - loss: 2.0063 - acc: 0.3052\n",
      "Epoch 2/4\n",
      "43/43 [==============================] - 190s 4s/step - loss: 1.8748 - acc: 0.3795\n",
      "Epoch 3/4\n",
      "43/43 [==============================] - 192s 4s/step - loss: 1.9748 - acc: 0.3933\n",
      "Epoch 4/4\n",
      "43/43 [==============================] - 213s 5s/step - loss: 1.8255 - acc: 0.4334\n",
      "Epoch 1/4\n",
      "43/43 [==============================] - 242s 6s/step - loss: 2.0288 - acc: 0.3001\n",
      "Epoch 2/4\n",
      "43/43 [==============================] - 255s 6s/step - loss: 1.9194 - acc: 0.3722\n",
      "Epoch 3/4\n",
      "43/43 [==============================] - 256s 6s/step - loss: 1.9426 - acc: 0.3853\n",
      "Epoch 4/4\n",
      "43/43 [==============================] - 231s 5s/step - loss: 1.8177 - acc: 0.4370\n",
      "Epoch 1/4\n",
      "43/43 [==============================] - 200s 5s/step - loss: 2.0149 - acc: 0.3023\n",
      "Epoch 2/4\n",
      "43/43 [==============================] - 190s 4s/step - loss: 1.9186 - acc: 0.3627\n",
      "Epoch 3/4\n",
      "43/43 [==============================] - 213s 5s/step - loss: 1.8321 - acc: 0.4020\n",
      "Epoch 4/4\n",
      "43/43 [==============================] - 218s 5s/step - loss: 1.8036 - acc: 0.4312\n"
     ]
    },
    {
     "ename": "NameError",
     "evalue": "name 'c_p' is not defined",
     "output_type": "error",
     "traceback": [
      "\u001b[0;31m---------------------------------------------------------------------------\u001b[0m",
      "\u001b[0;31mNameError\u001b[0m                                 Traceback (most recent call last)",
      "\u001b[0;32m<ipython-input-14-a765cd26a188>\u001b[0m in \u001b[0;36m<module>\u001b[0;34m\u001b[0m\n\u001b[1;32m     31\u001b[0m             \u001b[0mmetrics_cv\u001b[0m\u001b[0;34m.\u001b[0m\u001b[0mloc\u001b[0m\u001b[0;34m[\u001b[0m\u001b[0mc\u001b[0m\u001b[0;34m,\u001b[0m \u001b[0;34mf'aucprc_{cl}'\u001b[0m\u001b[0;34m]\u001b[0m \u001b[0;34m=\u001b[0m \u001b[0mround\u001b[0m\u001b[0;34m(\u001b[0m\u001b[0mauc_pr_class\u001b[0m\u001b[0;34m,\u001b[0m \u001b[0;36m3\u001b[0m\u001b[0;34m)\u001b[0m\u001b[0;34m\u001b[0m\u001b[0;34m\u001b[0m\u001b[0m\n\u001b[1;32m     32\u001b[0m \u001b[0;34m\u001b[0m\u001b[0m\n\u001b[0;32m---> 33\u001b[0;31m \u001b[0mprint\u001b[0m\u001b[0;34m(\u001b[0m\u001b[0;34mf\"C:{c_p} AUC ROC: {round(metrics_cv.loc[:, metrics_cv.columns.str.contains('aucroc')].mean(axis=0).mean(), 3)}\"\u001b[0m\u001b[0;34m)\u001b[0m\u001b[0;34m\u001b[0m\u001b[0;34m\u001b[0m\u001b[0m\n\u001b[0m\u001b[1;32m     34\u001b[0m \u001b[0mprint\u001b[0m\u001b[0;34m(\u001b[0m\u001b[0;34mf\"C:{c_p} AUC PRC: {round(metrics_cv.loc[:, metrics_cv.columns.str.contains('aucprc')].mean(axis=0).mean(), 3)}\"\u001b[0m\u001b[0;34m)\u001b[0m\u001b[0;34m\u001b[0m\u001b[0;34m\u001b[0m\u001b[0m\n",
      "\u001b[0;31mNameError\u001b[0m: name 'c_p' is not defined"
     ]
    }
   ],
   "source": [
    "metrics_cv = pd.DataFrame(np.zeros((SPLITS, len(names))), columns=names)\n",
    "for c, (train_index, val_index) in enumerate(kf.split(X, y)):\n",
    "\n",
    "        X_train, X_val      = X.iloc[train_index]['SC_full'], X.iloc[val_index]['SC_full']\n",
    "        y_train, y_val      = y.iloc[train_index], y.iloc[val_index] \n",
    "        \n",
    "        tokenizer = keras.preprocessing.text.Tokenizer(num_words=40000)\n",
    "        tokenizer.fit_on_texts(X_train)\n",
    "        \n",
    "        list_tokenized_train = tokenizer.texts_to_sequences(X_train)\n",
    "        list_tokenized_val   = tokenizer.texts_to_sequences(X_val)\n",
    "\n",
    "        X_train = sequence.pad_sequences(list_tokenized_train, maxlen=LENGTH)\n",
    "        X_val   = sequence.pad_sequences(list_tokenized_val, maxlen=LENGTH)\n",
    "\n",
    "        le = LabelBinarizer()\n",
    "        le.fit(y_train)\n",
    "\n",
    "        y_train = le.transform(y_train)\n",
    "        y_val = le.transform(y_val)\n",
    "\n",
    "        classifier = models.dl_model(model_type='BGRU', max_features=40000, embed_dim=50, rec_units=150, dropout_rate=0.25, maxlen=LENGTH)\n",
    "        classifier.fit(X_train, y_train, batch_size=32, epochs=4, shuffle=True, verbose=1)\n",
    "        probs      = classifier.predict(X_val)\n",
    "        \n",
    "        for i, cl in enumerate(le.classes_):\n",
    "            auc_roc_class = roc_auc_score(y_val[:,i], probs[:,i])\n",
    "            auc_pr_class = average_precision_score(y_val[:,i], probs[:,i])\n",
    "\n",
    "            metrics_cv.loc[c, f'aucroc_{cl}'] = round(auc_roc_class, 3)\n",
    "            metrics_cv.loc[c, f'aucprc_{cl}'] = round(auc_pr_class, 3)   \n",
    "\n",
    "print(f\"AUC ROC: {round(metrics_cv.loc[:, metrics_cv.columns.str.contains('aucroc')].mean(axis=0).mean(), 3)}\")\n",
    "print(f\"AUC PRC: {round(metrics_cv.loc[:, metrics_cv.columns.str.contains('aucprc')].mean(axis=0).mean(), 3)}\")"
   ]
  },
  {
   "cell_type": "code",
   "execution_count": 15,
   "metadata": {},
   "outputs": [
    {
     "name": "stdout",
     "output_type": "stream",
     "text": [
      "AUC ROC: 0.697\n",
      "AUC PRC: 0.268\n"
     ]
    }
   ],
   "source": [
    "print(f\"AUC ROC: {round(metrics_cv.loc[:, metrics_cv.columns.str.contains('aucroc')].mean(axis=0).mean(), 3)}\")\n",
    "print(f\"AUC PRC: {round(metrics_cv.loc[:, metrics_cv.columns.str.contains('aucprc')].mean(axis=0).mean(), 3)}\")"
   ]
  },
  {
   "cell_type": "code",
   "execution_count": 16,
   "metadata": {},
   "outputs": [
    {
     "data": {
      "text/plain": [
       "aucroc_development     0.648\n",
       "aucroc_exchanges       0.870\n",
       "aucroc_finance         0.719\n",
       "aucroc_gambling        0.709\n",
       "aucroc_games           0.732\n",
       "aucroc_high-risk       0.723\n",
       "aucroc_marketplaces    0.719\n",
       "aucroc_media           0.599\n",
       "aucroc_other           0.615\n",
       "aucroc_social          0.633\n",
       "dtype: float64"
      ]
     },
     "execution_count": 16,
     "metadata": {},
     "output_type": "execute_result"
    }
   ],
   "source": [
    "round(metrics_cv.loc[:, metrics_cv.columns.str.contains('aucroc')].mean(axis=0), 3)"
   ]
  },
  {
   "cell_type": "code",
   "execution_count": 17,
   "metadata": {},
   "outputs": [
    {
     "data": {
      "text/plain": [
       "aucprc_development     0.058\n",
       "aucprc_exchanges       0.809\n",
       "aucprc_finance         0.369\n",
       "aucprc_gambling        0.337\n",
       "aucprc_games           0.491\n",
       "aucprc_high-risk       0.091\n",
       "aucprc_marketplaces    0.302\n",
       "aucprc_media           0.055\n",
       "aucprc_other           0.108\n",
       "aucprc_social          0.059\n",
       "dtype: float64"
      ]
     },
     "execution_count": 17,
     "metadata": {},
     "output_type": "execute_result"
    }
   ],
   "source": [
    "round(metrics_cv.loc[:, metrics_cv.columns.str.contains('aucprc')].mean(axis=0), 3)"
   ]
  },
  {
   "cell_type": "code",
   "execution_count": 18,
   "metadata": {},
   "outputs": [
    {
     "data": {
      "text/html": [
       "<div>\n",
       "<style scoped>\n",
       "    .dataframe tbody tr th:only-of-type {\n",
       "        vertical-align: middle;\n",
       "    }\n",
       "\n",
       "    .dataframe tbody tr th {\n",
       "        vertical-align: top;\n",
       "    }\n",
       "\n",
       "    .dataframe thead th {\n",
       "        text-align: right;\n",
       "    }\n",
       "</style>\n",
       "<table border=\"1\" class=\"dataframe\">\n",
       "  <thead>\n",
       "    <tr style=\"text-align: right;\">\n",
       "      <th></th>\n",
       "      <th>aucroc_development</th>\n",
       "      <th>aucroc_exchanges</th>\n",
       "      <th>aucroc_finance</th>\n",
       "      <th>aucroc_gambling</th>\n",
       "      <th>aucroc_games</th>\n",
       "      <th>aucroc_high-risk</th>\n",
       "      <th>aucroc_marketplaces</th>\n",
       "      <th>aucroc_media</th>\n",
       "      <th>aucroc_other</th>\n",
       "      <th>aucroc_social</th>\n",
       "      <th>aucprc_development</th>\n",
       "      <th>aucprc_exchanges</th>\n",
       "      <th>aucprc_finance</th>\n",
       "      <th>aucprc_gambling</th>\n",
       "      <th>aucprc_games</th>\n",
       "      <th>aucprc_high-risk</th>\n",
       "      <th>aucprc_marketplaces</th>\n",
       "      <th>aucprc_media</th>\n",
       "      <th>aucprc_other</th>\n",
       "      <th>aucprc_social</th>\n",
       "    </tr>\n",
       "  </thead>\n",
       "  <tbody>\n",
       "    <tr>\n",
       "      <th>0</th>\n",
       "      <td>0.621</td>\n",
       "      <td>0.866</td>\n",
       "      <td>0.730</td>\n",
       "      <td>0.748</td>\n",
       "      <td>0.733</td>\n",
       "      <td>0.782</td>\n",
       "      <td>0.747</td>\n",
       "      <td>0.668</td>\n",
       "      <td>0.507</td>\n",
       "      <td>0.607</td>\n",
       "      <td>0.047</td>\n",
       "      <td>0.797</td>\n",
       "      <td>0.378</td>\n",
       "      <td>0.438</td>\n",
       "      <td>0.466</td>\n",
       "      <td>0.106</td>\n",
       "      <td>0.336</td>\n",
       "      <td>0.091</td>\n",
       "      <td>0.067</td>\n",
       "      <td>0.046</td>\n",
       "    </tr>\n",
       "    <tr>\n",
       "      <th>1</th>\n",
       "      <td>0.679</td>\n",
       "      <td>0.872</td>\n",
       "      <td>0.680</td>\n",
       "      <td>0.741</td>\n",
       "      <td>0.621</td>\n",
       "      <td>0.674</td>\n",
       "      <td>0.746</td>\n",
       "      <td>0.521</td>\n",
       "      <td>0.650</td>\n",
       "      <td>0.637</td>\n",
       "      <td>0.048</td>\n",
       "      <td>0.810</td>\n",
       "      <td>0.351</td>\n",
       "      <td>0.260</td>\n",
       "      <td>0.354</td>\n",
       "      <td>0.079</td>\n",
       "      <td>0.341</td>\n",
       "      <td>0.034</td>\n",
       "      <td>0.099</td>\n",
       "      <td>0.071</td>\n",
       "    </tr>\n",
       "    <tr>\n",
       "      <th>2</th>\n",
       "      <td>0.558</td>\n",
       "      <td>0.831</td>\n",
       "      <td>0.814</td>\n",
       "      <td>0.757</td>\n",
       "      <td>0.782</td>\n",
       "      <td>0.738</td>\n",
       "      <td>0.671</td>\n",
       "      <td>0.561</td>\n",
       "      <td>0.648</td>\n",
       "      <td>0.562</td>\n",
       "      <td>0.056</td>\n",
       "      <td>0.775</td>\n",
       "      <td>0.528</td>\n",
       "      <td>0.371</td>\n",
       "      <td>0.540</td>\n",
       "      <td>0.095</td>\n",
       "      <td>0.239</td>\n",
       "      <td>0.038</td>\n",
       "      <td>0.116</td>\n",
       "      <td>0.042</td>\n",
       "    </tr>\n",
       "    <tr>\n",
       "      <th>3</th>\n",
       "      <td>0.706</td>\n",
       "      <td>0.891</td>\n",
       "      <td>0.686</td>\n",
       "      <td>0.661</td>\n",
       "      <td>0.791</td>\n",
       "      <td>0.725</td>\n",
       "      <td>0.649</td>\n",
       "      <td>0.569</td>\n",
       "      <td>0.689</td>\n",
       "      <td>0.659</td>\n",
       "      <td>0.083</td>\n",
       "      <td>0.834</td>\n",
       "      <td>0.278</td>\n",
       "      <td>0.356</td>\n",
       "      <td>0.592</td>\n",
       "      <td>0.087</td>\n",
       "      <td>0.302</td>\n",
       "      <td>0.043</td>\n",
       "      <td>0.171</td>\n",
       "      <td>0.055</td>\n",
       "    </tr>\n",
       "    <tr>\n",
       "      <th>4</th>\n",
       "      <td>0.675</td>\n",
       "      <td>0.889</td>\n",
       "      <td>0.687</td>\n",
       "      <td>0.640</td>\n",
       "      <td>0.733</td>\n",
       "      <td>0.698</td>\n",
       "      <td>0.780</td>\n",
       "      <td>0.676</td>\n",
       "      <td>0.582</td>\n",
       "      <td>0.702</td>\n",
       "      <td>0.054</td>\n",
       "      <td>0.828</td>\n",
       "      <td>0.308</td>\n",
       "      <td>0.259</td>\n",
       "      <td>0.505</td>\n",
       "      <td>0.089</td>\n",
       "      <td>0.292</td>\n",
       "      <td>0.068</td>\n",
       "      <td>0.088</td>\n",
       "      <td>0.083</td>\n",
       "    </tr>\n",
       "  </tbody>\n",
       "</table>\n",
       "</div>"
      ],
      "text/plain": [
       "   aucroc_development  aucroc_exchanges  aucroc_finance  aucroc_gambling  \\\n",
       "0               0.621             0.866           0.730            0.748   \n",
       "1               0.679             0.872           0.680            0.741   \n",
       "2               0.558             0.831           0.814            0.757   \n",
       "3               0.706             0.891           0.686            0.661   \n",
       "4               0.675             0.889           0.687            0.640   \n",
       "\n",
       "   aucroc_games  aucroc_high-risk  aucroc_marketplaces  aucroc_media  \\\n",
       "0         0.733             0.782                0.747         0.668   \n",
       "1         0.621             0.674                0.746         0.521   \n",
       "2         0.782             0.738                0.671         0.561   \n",
       "3         0.791             0.725                0.649         0.569   \n",
       "4         0.733             0.698                0.780         0.676   \n",
       "\n",
       "   aucroc_other  aucroc_social  aucprc_development  aucprc_exchanges  \\\n",
       "0         0.507          0.607               0.047             0.797   \n",
       "1         0.650          0.637               0.048             0.810   \n",
       "2         0.648          0.562               0.056             0.775   \n",
       "3         0.689          0.659               0.083             0.834   \n",
       "4         0.582          0.702               0.054             0.828   \n",
       "\n",
       "   aucprc_finance  aucprc_gambling  aucprc_games  aucprc_high-risk  \\\n",
       "0           0.378            0.438         0.466             0.106   \n",
       "1           0.351            0.260         0.354             0.079   \n",
       "2           0.528            0.371         0.540             0.095   \n",
       "3           0.278            0.356         0.592             0.087   \n",
       "4           0.308            0.259         0.505             0.089   \n",
       "\n",
       "   aucprc_marketplaces  aucprc_media  aucprc_other  aucprc_social  \n",
       "0                0.336         0.091         0.067          0.046  \n",
       "1                0.341         0.034         0.099          0.071  \n",
       "2                0.239         0.038         0.116          0.042  \n",
       "3                0.302         0.043         0.171          0.055  \n",
       "4                0.292         0.068         0.088          0.083  "
      ]
     },
     "execution_count": 18,
     "metadata": {},
     "output_type": "execute_result"
    }
   ],
   "source": [
    "metrics_cv"
   ]
  },
  {
   "cell_type": "code",
   "execution_count": 20,
   "metadata": {},
   "outputs": [
    {
     "name": "stdout",
     "output_type": "stream",
     "text": [
      "Epoch 1/4\n",
      "54/54 [==============================] - 214s 4s/step - loss: 2.0067 - acc: 0.3246\n",
      "Epoch 2/4\n",
      "54/54 [==============================] - 209s 4s/step - loss: 1.9163 - acc: 0.3712\n",
      "Epoch 3/4\n",
      "54/54 [==============================] - 207s 4s/step - loss: 1.8682 - acc: 0.3980\n",
      "Epoch 4/4\n",
      "54/54 [==============================] - 205s 4s/step - loss: 1.7475 - acc: 0.4196\n"
     ]
    }
   ],
   "source": [
    "# TRAIN ON WHOLE DATA AND PREDICT ON TEST\n",
    "metrics = pd.DataFrame(np.zeros((1,len(names))), columns=names)\n",
    "tokenizer = keras.preprocessing.text.Tokenizer(num_words=40000)\n",
    "tokenizer.fit_on_texts(X['SC_full'])\n",
    "\n",
    "list_tokenized_train = tokenizer.texts_to_sequences(X['SC_full'])\n",
    "list_tokenized_test   = tokenizer.texts_to_sequences(X_test['SC_full'])\n",
    "\n",
    "X_train = sequence.pad_sequences(list_tokenized_train, maxlen=LENGTH)\n",
    "X_test   = sequence.pad_sequences(list_tokenized_test, maxlen=LENGTH)\n",
    "\n",
    "le = LabelBinarizer()\n",
    "le.fit(y)\n",
    "\n",
    "y_train = le.transform(y)\n",
    "y_test_lb = le.transform(y_test)\n",
    "\n",
    "classifier = models.dl_model(model_type='BGRU', max_features=40000, embed_dim=50, rec_units=150, dropout_rate=0.25, maxlen=LENGTH)\n",
    "classifier.fit(X_train, y_train, batch_size=32, epochs=4, shuffle=True, verbose=1)\n",
    "probs      = classifier.predict(X_test)\n",
    "\n",
    "for i, cl in enumerate(le.classes_):\n",
    "    auc_roc_class = roc_auc_score(y_test_lb[:,i], probs[:,i])\n",
    "    auc_pr_class = average_precision_score(y_test_lb[:,i], probs[:,i])\n",
    "\n",
    "    metrics.loc[0, f'aucroc_{cl}'] = round(auc_roc_class, 3)\n",
    "    metrics.loc[0, f'aucprc_{cl}'] = round(auc_pr_class, 3)   "
   ]
  },
  {
   "cell_type": "code",
   "execution_count": 21,
   "metadata": {},
   "outputs": [
    {
     "data": {
      "text/html": [
       "<div>\n",
       "<style scoped>\n",
       "    .dataframe tbody tr th:only-of-type {\n",
       "        vertical-align: middle;\n",
       "    }\n",
       "\n",
       "    .dataframe tbody tr th {\n",
       "        vertical-align: top;\n",
       "    }\n",
       "\n",
       "    .dataframe thead th {\n",
       "        text-align: right;\n",
       "    }\n",
       "</style>\n",
       "<table border=\"1\" class=\"dataframe\">\n",
       "  <thead>\n",
       "    <tr style=\"text-align: right;\">\n",
       "      <th></th>\n",
       "      <th>aucroc_development</th>\n",
       "      <th>aucroc_exchanges</th>\n",
       "      <th>aucroc_finance</th>\n",
       "      <th>aucroc_gambling</th>\n",
       "      <th>aucroc_games</th>\n",
       "      <th>aucroc_high-risk</th>\n",
       "      <th>aucroc_marketplaces</th>\n",
       "      <th>aucroc_media</th>\n",
       "      <th>aucroc_other</th>\n",
       "      <th>aucroc_social</th>\n",
       "      <th>aucprc_development</th>\n",
       "      <th>aucprc_exchanges</th>\n",
       "      <th>aucprc_finance</th>\n",
       "      <th>aucprc_gambling</th>\n",
       "      <th>aucprc_games</th>\n",
       "      <th>aucprc_high-risk</th>\n",
       "      <th>aucprc_marketplaces</th>\n",
       "      <th>aucprc_media</th>\n",
       "      <th>aucprc_other</th>\n",
       "      <th>aucprc_social</th>\n",
       "    </tr>\n",
       "  </thead>\n",
       "  <tbody>\n",
       "    <tr>\n",
       "      <th>0</th>\n",
       "      <td>0.706</td>\n",
       "      <td>0.85</td>\n",
       "      <td>0.656</td>\n",
       "      <td>0.657</td>\n",
       "      <td>0.764</td>\n",
       "      <td>0.734</td>\n",
       "      <td>0.718</td>\n",
       "      <td>0.689</td>\n",
       "      <td>0.66</td>\n",
       "      <td>0.694</td>\n",
       "      <td>0.065</td>\n",
       "      <td>0.796</td>\n",
       "      <td>0.289</td>\n",
       "      <td>0.297</td>\n",
       "      <td>0.539</td>\n",
       "      <td>0.116</td>\n",
       "      <td>0.341</td>\n",
       "      <td>0.082</td>\n",
       "      <td>0.159</td>\n",
       "      <td>0.071</td>\n",
       "    </tr>\n",
       "  </tbody>\n",
       "</table>\n",
       "</div>"
      ],
      "text/plain": [
       "   aucroc_development  aucroc_exchanges  aucroc_finance  aucroc_gambling  \\\n",
       "0               0.706              0.85           0.656            0.657   \n",
       "\n",
       "   aucroc_games  aucroc_high-risk  aucroc_marketplaces  aucroc_media  \\\n",
       "0         0.764             0.734                0.718         0.689   \n",
       "\n",
       "   aucroc_other  aucroc_social  aucprc_development  aucprc_exchanges  \\\n",
       "0          0.66          0.694               0.065             0.796   \n",
       "\n",
       "   aucprc_finance  aucprc_gambling  aucprc_games  aucprc_high-risk  \\\n",
       "0           0.289            0.297         0.539             0.116   \n",
       "\n",
       "   aucprc_marketplaces  aucprc_media  aucprc_other  aucprc_social  \n",
       "0                0.341         0.082         0.159          0.071  "
      ]
     },
     "execution_count": 21,
     "metadata": {},
     "output_type": "execute_result"
    }
   ],
   "source": [
    "metrics"
   ]
  },
  {
   "cell_type": "code",
   "execution_count": 22,
   "metadata": {},
   "outputs": [
    {
     "data": {
      "text/plain": [
       "0    0.713\n",
       "dtype: float64"
      ]
     },
     "execution_count": 22,
     "metadata": {},
     "output_type": "execute_result"
    }
   ],
   "source": [
    "round(metrics.loc[:, metrics.columns.str.contains('aucroc')].mean(axis=1), 3)"
   ]
  },
  {
   "cell_type": "code",
   "execution_count": 23,
   "metadata": {},
   "outputs": [
    {
     "data": {
      "text/plain": [
       "0    0.276\n",
       "dtype: float64"
      ]
     },
     "execution_count": 23,
     "metadata": {},
     "output_type": "execute_result"
    }
   ],
   "source": [
    "round(metrics.loc[:, metrics.columns.str.contains('aucprc')].mean(axis=1), 3)"
   ]
  }
 ],
 "metadata": {
  "kernelspec": {
   "display_name": "Python 3",
   "language": "python",
   "name": "python3"
  },
  "language_info": {
   "codemirror_mode": {
    "name": "ipython",
    "version": 3
   },
   "file_extension": ".py",
   "mimetype": "text/x-python",
   "name": "python",
   "nbconvert_exporter": "python",
   "pygments_lexer": "ipython3",
   "version": "3.8.3"
  }
 },
 "nbformat": 4,
 "nbformat_minor": 4
}
