{
 "cells": [
  {
   "cell_type": "code",
   "execution_count": 302,
   "metadata": {},
   "outputs": [],
   "source": [
    "import pandas as pd\n",
    "import re\n",
    "import numpy as np\n",
    "import math"
   ]
  },
  {
   "cell_type": "code",
   "execution_count": 303,
   "metadata": {},
   "outputs": [],
   "source": [
    "data = pd.read_csv(\"../CSC_Dapp_SC_scraping/dapps_with_SC_parsed.csv\")"
   ]
  },
  {
   "cell_type": "code",
   "execution_count": 304,
   "metadata": {},
   "outputs": [],
   "source": [
    "# less than 60 cases -> other\n",
    "for col in ['property', 'governance', 'wallet', 'security', 'identity', 'storage', 'health', 'energy']:\n",
    "    data.loc[data['category']==col, 'category'] = 'other'"
   ]
  },
  {
   "cell_type": "code",
   "execution_count": 305,
   "metadata": {},
   "outputs": [],
   "source": [
    "def prep(row):\n",
    "    if not pd.isnull(row):\n",
    "        row = re.sub('\\n', ' newline ', row)\n",
    "        row = re.sub('\\t', ' tab ', row)\n",
    "        row = re.sub('\\r', ' cr ', row)\n",
    "        row = re.sub('/', '', row)\n",
    "        row = re.sub('\\*', '', row)\n",
    "        row = re.sub(';', '', row)\n",
    "        row = re.sub(' +', ' ', row)\n",
    "    return row\n",
    "\n",
    "data.SC_full = data.SC_full.apply(prep)\n",
    "data.SC_no_comments = data.SC_no_comments.apply(prep)\n",
    "data.comments = data.comments.apply(prep)"
   ]
  },
  {
   "cell_type": "code",
   "execution_count": 306,
   "metadata": {},
   "outputs": [],
   "source": [
    "data['pragma'] = data['SC_no_comments'].apply(lambda x: re.findall(r'pragma solidity \\S+', x))\n",
    "data['pragma'] = data['pragma'].apply(lambda x: x[0].split()[2] if len(x)!=0 else np.nan)\n",
    "data['pragma'] = data['pragma'].apply(lambda x: re.sub('\\D', '', x) if isinstance(x, str) else np.nan)"
   ]
  },
  {
   "cell_type": "code",
   "execution_count": 307,
   "metadata": {},
   "outputs": [],
   "source": [
    "data['len'] = data['SC_no_comments'].apply(lambda x: len(x.split()))\n",
    "data['comments_len'] = data['comments'].apply(lambda x: len(x.split()) if isinstance(x, str) else np.nan)\n",
    "data['fun_count'] = data['SC_no_comments'].apply(lambda x: len(re.findall(r'function', x)))\n",
    "data['event_count'] = data['SC_no_comments'].apply(lambda x: len(re.findall(r'event', x)))\n",
    "data['contract_count'] = data['SC_no_comments'].apply(lambda x: len(re.findall(r'contract', x)))\n",
    "data['comments'].fillna('no comments', inplace=True)"
   ]
  },
  {
   "cell_type": "code",
   "execution_count": 308,
   "metadata": {},
   "outputs": [],
   "source": [
    "data.name_from_SC.fillna(data.slug, inplace=True)\n",
    "data.loc[249,'name_from_SC'] = '_200eth'"
   ]
  },
  {
   "cell_type": "code",
   "execution_count": 309,
   "metadata": {},
   "outputs": [],
   "source": [
    "for index, row in data.iterrows():\n",
    "    for col in ['slug', 'description', 'category', 'created', 'name', 'rank', 'teaser']:\n",
    "        if isinstance(row[col], (float, int, str)):\n",
    "            data.loc[index, col] = data.loc[data['name_from_SC']==row['name_from_SC'], col].iloc[0]\n",
    "        else:\n",
    "            continue"
   ]
  },
  {
   "cell_type": "code",
   "execution_count": 310,
   "metadata": {},
   "outputs": [],
   "source": [
    "data = data[~data.category.isna()]"
   ]
  },
  {
   "cell_type": "code",
   "execution_count": 311,
   "metadata": {},
   "outputs": [
    {
     "data": {
      "text/plain": [
       "0       pragma solidity ^0.4.13 newline newline newlin...\n",
       "1        hevm: flattened sources of nixstore8xb41r4qd0...\n",
       "2       pragma solidity ^0.4.8 newline newline newline...\n",
       "3       pragma solidity ^0.4.24 newline newline File: ...\n",
       "4        newline newline newline newline ______ _ ____...\n",
       "                              ...                        \n",
       "2200    pragma solidity ^0.4.21 newline newline newlin...\n",
       "2201     Degens Protocol (C) degens.com newline newlin...\n",
       "2202     File: contractstokeninterfacesIERC20Token.sol...\n",
       "2203     newline newline Copyright 2017-2019, bZeroX, ...\n",
       "2204    pragma solidity ^0.4.24 newline newline newlin...\n",
       "Name: SC_full, Length: 2146, dtype: object"
      ]
     },
     "execution_count": 311,
     "metadata": {},
     "output_type": "execute_result"
    }
   ],
   "source": [
    "data.SC_full"
   ]
  },
  {
   "cell_type": "code",
   "execution_count": 312,
   "metadata": {},
   "outputs": [],
   "source": [
    "data.to_csv('dapps_with_features_v4.csv', index=False)"
   ]
  }
 ],
 "metadata": {
  "kernelspec": {
   "display_name": "Python 3",
   "language": "python",
   "name": "python3"
  },
  "language_info": {
   "codemirror_mode": {
    "name": "ipython",
    "version": 3
   },
   "file_extension": ".py",
   "mimetype": "text/x-python",
   "name": "python",
   "nbconvert_exporter": "python",
   "pygments_lexer": "ipython3",
   "version": "3.8.3"
  }
 },
 "nbformat": 4,
 "nbformat_minor": 4
}
