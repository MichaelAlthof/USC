{
 "cells": [
  {
   "cell_type": "code",
   "execution_count": 1,
   "metadata": {},
   "outputs": [],
   "source": [
    "import numpy as np\n",
    "import matplotlib.pyplot as plt\n",
    "%matplotlib inline\n",
    "import os\n",
    "import pandas as pd\n",
    "\n",
    "from sklearn.pipeline import Pipeline\n",
    "from sklearn.model_selection import GridSearchCV\n",
    "from sklearn.ensemble  import GradientBoostingClassifier, RandomForestClassifier\n",
    "from sklearn.model_selection import StratifiedKFold, cross_val_score, train_test_split, KFold\n",
    "from sklearn.linear_model import LogisticRegression\n",
    "from sklearn.naive_bayes import GaussianNB\n",
    "import random\n",
    "\n",
    "from sklearn import metrics\n",
    "from collections import Counter\n",
    "import argparse\n",
    "from sklearn.model_selection import cross_validate\n",
    "from sklearn.metrics import roc_auc_score, average_precision_score, f1_score, precision_score, recall_score\n",
    "from sklearn.feature_extraction.text import TfidfVectorizer\n",
    "from sklearn.linear_model import SGDClassifier\n",
    "from sklearn.model_selection import ParameterGrid\n",
    "import lightgbm as lgb\n",
    "import seaborn as sns\n",
    "from sklearn.preprocessing import LabelEncoder, LabelBinarizer"
   ]
  },
  {
   "cell_type": "code",
   "execution_count": 2,
   "metadata": {},
   "outputs": [],
   "source": [
    "data = pd.read_csv(\"dapps_with_features_v4.csv\")"
   ]
  },
  {
   "cell_type": "code",
   "execution_count": 3,
   "metadata": {},
   "outputs": [],
   "source": [
    "RS = 42\n",
    "SPLITS = 5"
   ]
  },
  {
   "cell_type": "code",
   "execution_count": 4,
   "metadata": {},
   "outputs": [],
   "source": [
    "X = data.drop('category', axis=1)\n",
    "y = data.category"
   ]
  },
  {
   "cell_type": "code",
   "execution_count": 5,
   "metadata": {},
   "outputs": [],
   "source": [
    "X, X_test, y, y_test  = train_test_split(X, y, stratify=y, test_size=0.2, random_state=RS)"
   ]
  },
  {
   "cell_type": "code",
   "execution_count": 6,
   "metadata": {},
   "outputs": [
    {
     "name": "stdout",
     "output_type": "stream",
     "text": [
      "X_train shape (1716, 17)\n",
      "X_test shape (430, 17)\n"
     ]
    }
   ],
   "source": [
    "print(f'X_train shape {X.shape}')\n",
    "print(f'X_test shape {X_test.shape}')"
   ]
  },
  {
   "cell_type": "markdown",
   "metadata": {},
   "source": [
    "# Training on comments"
   ]
  },
  {
   "cell_type": "markdown",
   "metadata": {},
   "source": [
    "## Check for possible meta-parameters"
   ]
  },
  {
   "cell_type": "code",
   "execution_count": 7,
   "metadata": {},
   "outputs": [],
   "source": [
    "length_SC = X.SC_no_comments.apply(lambda x: len(x.split()))"
   ]
  },
  {
   "cell_type": "code",
   "execution_count": 8,
   "metadata": {},
   "outputs": [
    {
     "data": {
      "text/plain": [
       "<matplotlib.axes._subplots.AxesSubplot at 0x7f8ec11cc280>"
      ]
     },
     "execution_count": 8,
     "metadata": {},
     "output_type": "execute_result"
    },
    {
     "data": {
      "image/png": "[encoded data removed]",
      "text/plain": [
       "<Figure size 432x288 with 1 Axes>"
      ]
     },
     "metadata": {
      "needs_background": "light"
     },
     "output_type": "display_data"
    }
   ],
   "source": [
    "sns.distplot(length_SC)"
   ]
  },
  {
   "cell_type": "code",
   "execution_count": 9,
   "metadata": {},
   "outputs": [
    {
     "data": {
      "text/plain": [
       "count     1716.000000\n",
       "mean      2755.290210\n",
       "std       2601.129827\n",
       "min          5.000000\n",
       "25%       1173.000000\n",
       "50%       2068.000000\n",
       "75%       3415.000000\n",
       "max      28389.000000\n",
       "Name: SC_no_comments, dtype: float64"
      ]
     },
     "execution_count": 9,
     "metadata": {},
     "output_type": "execute_result"
    }
   ],
   "source": [
    "length_SC.describe()"
   ]
  },
  {
   "cell_type": "code",
   "execution_count": 10,
   "metadata": {},
   "outputs": [
    {
     "data": {
      "text/plain": [
       "newline                                                           2137095\n",
       "}                                                                  125674\n",
       "=                                                                  123833\n",
       "{                                                                  120403\n",
       "function                                                            92859\n",
       "                                                                   ...   \n",
       "channels[key].deposit                                                   1\n",
       "require(IERC721(bountyNFTAddress).isApprovedForAll(msg.sender,          1\n",
       "approvedTokenContracts                                                  1\n",
       "if(compareStrings(termsKey,'dataCollection')){                          1\n",
       "level3ActivationsFromLevel1CountSet                                     1\n",
       "Length: 148175, dtype: int64"
      ]
     },
     "execution_count": 10,
     "metadata": {},
     "output_type": "execute_result"
    }
   ],
   "source": [
    "X.SC_no_comments.str.split(expand=True).stack().value_counts()"
   ]
  },
  {
   "cell_type": "markdown",
   "metadata": {},
   "source": [
    "### Ridge"
   ]
  },
  {
   "cell_type": "code",
   "execution_count": 11,
   "metadata": {},
   "outputs": [
    {
     "name": "stderr",
     "output_type": "stream",
     "text": [
      "/home/RDC/zinovyee.hub/anaconda3/envs/dmc/lib/python3.8/site-packages/sklearn/model_selection/_split.py:292: FutureWarning: Setting a random_state has no effect since shuffle is False. This will raise an error in 0.24. You should leave random_state to its default (None), or set shuffle=True.\n",
      "  warnings.warn(\n"
     ]
    }
   ],
   "source": [
    "kf  = StratifiedKFold(n_splits=SPLITS, random_state=RS)\n",
    "\n",
    "word_vectorizer   = TfidfVectorizer(\n",
    "    sublinear_tf  = True,\n",
    "    strip_accents = 'unicode',\n",
    "    analyzer      = 'word',\n",
    "    token_pattern = r'\\w{1,}',\n",
    "    #stop_words    = 'english',\n",
    "    ngram_range   = (1, 1),\n",
    "    max_features  = 40000) # max 144018"
   ]
  },
  {
   "cell_type": "code",
   "execution_count": 12,
   "metadata": {},
   "outputs": [],
   "source": [
    "c = 0\n",
    "C_parameter = np.arange(0.1, 1.1, 0.1) \n",
    "\n",
    "# use best C\n",
    "\n",
    "C_parameter = [1]"
   ]
  },
  {
   "cell_type": "code",
   "execution_count": 13,
   "metadata": {},
   "outputs": [],
   "source": [
    "names = [f'aucroc_{i}' for i in ['development', 'exchanges', 'finance', 'gambling', 'games',\n",
    "       'high-risk', 'marketplaces', 'media', 'other', 'social']]\n",
    "names2 = [f'aucprc_{i}' for i in ['development', 'exchanges', 'finance', 'gambling', 'games',\n",
    "       'high-risk', 'marketplaces', 'media', 'other', 'social']]\n",
    "names.extend(names2)"
   ]
  },
  {
   "cell_type": "code",
   "execution_count": 14,
   "metadata": {},
   "outputs": [
    {
     "name": "stdout",
     "output_type": "stream",
     "text": [
      "C:1 AUC ROC: 0.887\n",
      "C:1 AUC PRC: 0.578\n"
     ]
    }
   ],
   "source": [
    "for c_p in C_parameter:  \n",
    "    metrics_cv = pd.DataFrame(np.zeros((SPLITS, len(names))), columns=names)\n",
    "    for c, (train_index, val_index) in enumerate(kf.split(X, y)):\n",
    "\n",
    "            X_train, X_val      = X.iloc[train_index]['comments'], X.iloc[val_index]['comments']\n",
    "            y_train, y_val      = y.iloc[train_index], y.iloc[val_index] \n",
    "            word_vectorizer.fit(X_train)\n",
    "            train_word_features = word_vectorizer.transform(X_train)\n",
    "            val_word_features   = word_vectorizer.transform(X_val)\n",
    "             \n",
    "            le = LabelBinarizer()\n",
    "            le.fit(y_train)\n",
    "            \n",
    "            y_train = le.transform(y_train)\n",
    "            y_val = le.transform(y_val)\n",
    "            \n",
    "            for i, cl in enumerate(le.classes_):\n",
    "                classifier = LogisticRegression(C=c_p, solver='sag', random_state=RS)\n",
    "                classifier.fit(train_word_features, y_train[:,i])\n",
    "                probs      = classifier.predict_proba(val_word_features)[:,1]\n",
    "                auc_roc_class = roc_auc_score(y_val[:,i], probs)\n",
    "                auc_pr_class = average_precision_score(y_val[:,i], probs)\n",
    "                \n",
    "                metrics_cv.loc[c, f'aucroc_{cl}'] = round(auc_roc_class, 3)\n",
    "                metrics_cv.loc[c, f'aucprc_{cl}'] = round(auc_pr_class, 3)   \n",
    "                \n",
    "    print(f\"C:{c_p} AUC ROC: {round(metrics_cv.loc[:, metrics_cv.columns.str.contains('aucroc')].mean(axis=0).mean(), 3)}\")\n",
    "    print(f\"C:{c_p} AUC PRC: {round(metrics_cv.loc[:, metrics_cv.columns.str.contains('aucprc')].mean(axis=0).mean(), 3)}\")"
   ]
  },
  {
   "cell_type": "code",
   "execution_count": 15,
   "metadata": {},
   "outputs": [
    {
     "data": {
      "text/plain": [
       "aucroc_development     0.841\n",
       "aucroc_exchanges       0.959\n",
       "aucroc_finance         0.917\n",
       "aucroc_gambling        0.909\n",
       "aucroc_games           0.925\n",
       "aucroc_high-risk       0.948\n",
       "aucroc_marketplaces    0.874\n",
       "aucroc_media           0.846\n",
       "aucroc_other           0.851\n",
       "aucroc_social          0.802\n",
       "dtype: float64"
      ]
     },
     "execution_count": 15,
     "metadata": {},
     "output_type": "execute_result"
    }
   ],
   "source": [
    "round(metrics_cv.loc[:, metrics_cv.columns.str.contains('aucroc')].mean(axis=0), 3)"
   ]
  },
  {
   "cell_type": "code",
   "execution_count": 16,
   "metadata": {},
   "outputs": [
    {
     "data": {
      "text/plain": [
       "aucprc_development     0.420\n",
       "aucprc_exchanges       0.937\n",
       "aucprc_finance         0.802\n",
       "aucprc_gambling        0.722\n",
       "aucprc_games           0.827\n",
       "aucprc_high-risk       0.679\n",
       "aucprc_marketplaces    0.569\n",
       "aucprc_media           0.221\n",
       "aucprc_other           0.447\n",
       "aucprc_social          0.156\n",
       "dtype: float64"
      ]
     },
     "execution_count": 16,
     "metadata": {},
     "output_type": "execute_result"
    }
   ],
   "source": [
    "round(metrics_cv.loc[:, metrics_cv.columns.str.contains('aucprc')].mean(axis=0), 3)"
   ]
  },
  {
   "cell_type": "code",
   "execution_count": 17,
   "metadata": {},
   "outputs": [
    {
     "data": {
      "text/html": [
       "<div>\n",
       "<style scoped>\n",
       "    .dataframe tbody tr th:only-of-type {\n",
       "        vertical-align: middle;\n",
       "    }\n",
       "\n",
       "    .dataframe tbody tr th {\n",
       "        vertical-align: top;\n",
       "    }\n",
       "\n",
       "    .dataframe thead th {\n",
       "        text-align: right;\n",
       "    }\n",
       "</style>\n",
       "<table border=\"1\" class=\"dataframe\">\n",
       "  <thead>\n",
       "    <tr style=\"text-align: right;\">\n",
       "      <th></th>\n",
       "      <th>aucroc_development</th>\n",
       "      <th>aucroc_exchanges</th>\n",
       "      <th>aucroc_finance</th>\n",
       "      <th>aucroc_gambling</th>\n",
       "      <th>aucroc_games</th>\n",
       "      <th>aucroc_high-risk</th>\n",
       "      <th>aucroc_marketplaces</th>\n",
       "      <th>aucroc_media</th>\n",
       "      <th>aucroc_other</th>\n",
       "      <th>aucroc_social</th>\n",
       "      <th>aucprc_development</th>\n",
       "      <th>aucprc_exchanges</th>\n",
       "      <th>aucprc_finance</th>\n",
       "      <th>aucprc_gambling</th>\n",
       "      <th>aucprc_games</th>\n",
       "      <th>aucprc_high-risk</th>\n",
       "      <th>aucprc_marketplaces</th>\n",
       "      <th>aucprc_media</th>\n",
       "      <th>aucprc_other</th>\n",
       "      <th>aucprc_social</th>\n",
       "    </tr>\n",
       "  </thead>\n",
       "  <tbody>\n",
       "    <tr>\n",
       "      <th>0</th>\n",
       "      <td>0.815</td>\n",
       "      <td>0.959</td>\n",
       "      <td>0.885</td>\n",
       "      <td>0.901</td>\n",
       "      <td>0.926</td>\n",
       "      <td>0.939</td>\n",
       "      <td>0.889</td>\n",
       "      <td>0.850</td>\n",
       "      <td>0.831</td>\n",
       "      <td>0.798</td>\n",
       "      <td>0.288</td>\n",
       "      <td>0.936</td>\n",
       "      <td>0.733</td>\n",
       "      <td>0.785</td>\n",
       "      <td>0.855</td>\n",
       "      <td>0.580</td>\n",
       "      <td>0.555</td>\n",
       "      <td>0.210</td>\n",
       "      <td>0.416</td>\n",
       "      <td>0.134</td>\n",
       "    </tr>\n",
       "    <tr>\n",
       "      <th>1</th>\n",
       "      <td>0.839</td>\n",
       "      <td>0.971</td>\n",
       "      <td>0.924</td>\n",
       "      <td>0.899</td>\n",
       "      <td>0.908</td>\n",
       "      <td>0.951</td>\n",
       "      <td>0.839</td>\n",
       "      <td>0.844</td>\n",
       "      <td>0.806</td>\n",
       "      <td>0.730</td>\n",
       "      <td>0.478</td>\n",
       "      <td>0.950</td>\n",
       "      <td>0.833</td>\n",
       "      <td>0.628</td>\n",
       "      <td>0.772</td>\n",
       "      <td>0.664</td>\n",
       "      <td>0.616</td>\n",
       "      <td>0.319</td>\n",
       "      <td>0.371</td>\n",
       "      <td>0.089</td>\n",
       "    </tr>\n",
       "    <tr>\n",
       "      <th>2</th>\n",
       "      <td>0.916</td>\n",
       "      <td>0.965</td>\n",
       "      <td>0.925</td>\n",
       "      <td>0.901</td>\n",
       "      <td>0.928</td>\n",
       "      <td>0.930</td>\n",
       "      <td>0.832</td>\n",
       "      <td>0.843</td>\n",
       "      <td>0.859</td>\n",
       "      <td>0.846</td>\n",
       "      <td>0.453</td>\n",
       "      <td>0.943</td>\n",
       "      <td>0.809</td>\n",
       "      <td>0.716</td>\n",
       "      <td>0.841</td>\n",
       "      <td>0.743</td>\n",
       "      <td>0.450</td>\n",
       "      <td>0.206</td>\n",
       "      <td>0.512</td>\n",
       "      <td>0.216</td>\n",
       "    </tr>\n",
       "    <tr>\n",
       "      <th>3</th>\n",
       "      <td>0.894</td>\n",
       "      <td>0.977</td>\n",
       "      <td>0.961</td>\n",
       "      <td>0.904</td>\n",
       "      <td>0.944</td>\n",
       "      <td>0.966</td>\n",
       "      <td>0.922</td>\n",
       "      <td>0.875</td>\n",
       "      <td>0.873</td>\n",
       "      <td>0.797</td>\n",
       "      <td>0.525</td>\n",
       "      <td>0.964</td>\n",
       "      <td>0.883</td>\n",
       "      <td>0.722</td>\n",
       "      <td>0.852</td>\n",
       "      <td>0.645</td>\n",
       "      <td>0.662</td>\n",
       "      <td>0.193</td>\n",
       "      <td>0.480</td>\n",
       "      <td>0.163</td>\n",
       "    </tr>\n",
       "    <tr>\n",
       "      <th>4</th>\n",
       "      <td>0.742</td>\n",
       "      <td>0.923</td>\n",
       "      <td>0.891</td>\n",
       "      <td>0.940</td>\n",
       "      <td>0.920</td>\n",
       "      <td>0.952</td>\n",
       "      <td>0.887</td>\n",
       "      <td>0.816</td>\n",
       "      <td>0.884</td>\n",
       "      <td>0.841</td>\n",
       "      <td>0.358</td>\n",
       "      <td>0.893</td>\n",
       "      <td>0.754</td>\n",
       "      <td>0.761</td>\n",
       "      <td>0.813</td>\n",
       "      <td>0.761</td>\n",
       "      <td>0.564</td>\n",
       "      <td>0.178</td>\n",
       "      <td>0.455</td>\n",
       "      <td>0.180</td>\n",
       "    </tr>\n",
       "  </tbody>\n",
       "</table>\n",
       "</div>"
      ],
      "text/plain": [
       "   aucroc_development  aucroc_exchanges  aucroc_finance  aucroc_gambling  \\\n",
       "0               0.815             0.959           0.885            0.901   \n",
       "1               0.839             0.971           0.924            0.899   \n",
       "2               0.916             0.965           0.925            0.901   \n",
       "3               0.894             0.977           0.961            0.904   \n",
       "4               0.742             0.923           0.891            0.940   \n",
       "\n",
       "   aucroc_games  aucroc_high-risk  aucroc_marketplaces  aucroc_media  \\\n",
       "0         0.926             0.939                0.889         0.850   \n",
       "1         0.908             0.951                0.839         0.844   \n",
       "2         0.928             0.930                0.832         0.843   \n",
       "3         0.944             0.966                0.922         0.875   \n",
       "4         0.920             0.952                0.887         0.816   \n",
       "\n",
       "   aucroc_other  aucroc_social  aucprc_development  aucprc_exchanges  \\\n",
       "0         0.831          0.798               0.288             0.936   \n",
       "1         0.806          0.730               0.478             0.950   \n",
       "2         0.859          0.846               0.453             0.943   \n",
       "3         0.873          0.797               0.525             0.964   \n",
       "4         0.884          0.841               0.358             0.893   \n",
       "\n",
       "   aucprc_finance  aucprc_gambling  aucprc_games  aucprc_high-risk  \\\n",
       "0           0.733            0.785         0.855             0.580   \n",
       "1           0.833            0.628         0.772             0.664   \n",
       "2           0.809            0.716         0.841             0.743   \n",
       "3           0.883            0.722         0.852             0.645   \n",
       "4           0.754            0.761         0.813             0.761   \n",
       "\n",
       "   aucprc_marketplaces  aucprc_media  aucprc_other  aucprc_social  \n",
       "0                0.555         0.210         0.416          0.134  \n",
       "1                0.616         0.319         0.371          0.089  \n",
       "2                0.450         0.206         0.512          0.216  \n",
       "3                0.662         0.193         0.480          0.163  \n",
       "4                0.564         0.178         0.455          0.180  "
      ]
     },
     "execution_count": 17,
     "metadata": {},
     "output_type": "execute_result"
    }
   ],
   "source": [
    "metrics_cv"
   ]
  },
  {
   "cell_type": "code",
   "execution_count": 18,
   "metadata": {},
   "outputs": [],
   "source": [
    "# TRAIN ON WHOLE DATA AND PREDICT ON TEST\n",
    "metrics = pd.DataFrame(np.zeros((1,len(names))), columns=names)\n",
    "word_vectorizer.fit(X['comments'])\n",
    "train_word_features  = word_vectorizer.transform(X['comments'])\n",
    "test_word_features   = word_vectorizer.transform(X_test['comments'])\n",
    "\n",
    "le = LabelBinarizer()\n",
    "le.fit(y)\n",
    "\n",
    "y_train = le.transform(y)\n",
    "y_test_lb = le.transform(y_test)\n",
    "\n",
    "for i, cl in enumerate(le.classes_):\n",
    "    classifier = LogisticRegression(C=c_p, solver='sag', random_state=RS)\n",
    "    classifier.fit(train_word_features, y_train[:,i])\n",
    "    probs      = classifier.predict_proba(test_word_features)[:,1]\n",
    "    auc_roc_class = roc_auc_score(y_test_lb[:,i], probs)\n",
    "    auc_pr_class = average_precision_score(y_test_lb[:,i], probs)\n",
    "\n",
    "    metrics.loc[0, f'aucroc_{cl}'] = round(auc_roc_class, 3)\n",
    "    metrics.loc[0, f'aucprc_{cl}'] = round(auc_pr_class, 3)   "
   ]
  },
  {
   "cell_type": "code",
   "execution_count": 19,
   "metadata": {},
   "outputs": [
    {
     "data": {
      "text/html": [
       "<div>\n",
       "<style scoped>\n",
       "    .dataframe tbody tr th:only-of-type {\n",
       "        vertical-align: middle;\n",
       "    }\n",
       "\n",
       "    .dataframe tbody tr th {\n",
       "        vertical-align: top;\n",
       "    }\n",
       "\n",
       "    .dataframe thead th {\n",
       "        text-align: right;\n",
       "    }\n",
       "</style>\n",
       "<table border=\"1\" class=\"dataframe\">\n",
       "  <thead>\n",
       "    <tr style=\"text-align: right;\">\n",
       "      <th></th>\n",
       "      <th>aucroc_development</th>\n",
       "      <th>aucroc_exchanges</th>\n",
       "      <th>aucroc_finance</th>\n",
       "      <th>aucroc_gambling</th>\n",
       "      <th>aucroc_games</th>\n",
       "      <th>aucroc_high-risk</th>\n",
       "      <th>aucroc_marketplaces</th>\n",
       "      <th>aucroc_media</th>\n",
       "      <th>aucroc_other</th>\n",
       "      <th>aucroc_social</th>\n",
       "      <th>aucprc_development</th>\n",
       "      <th>aucprc_exchanges</th>\n",
       "      <th>aucprc_finance</th>\n",
       "      <th>aucprc_gambling</th>\n",
       "      <th>aucprc_games</th>\n",
       "      <th>aucprc_high-risk</th>\n",
       "      <th>aucprc_marketplaces</th>\n",
       "      <th>aucprc_media</th>\n",
       "      <th>aucprc_other</th>\n",
       "      <th>aucprc_social</th>\n",
       "    </tr>\n",
       "  </thead>\n",
       "  <tbody>\n",
       "    <tr>\n",
       "      <th>0</th>\n",
       "      <td>0.892</td>\n",
       "      <td>0.95</td>\n",
       "      <td>0.923</td>\n",
       "      <td>0.904</td>\n",
       "      <td>0.931</td>\n",
       "      <td>0.95</td>\n",
       "      <td>0.878</td>\n",
       "      <td>0.898</td>\n",
       "      <td>0.95</td>\n",
       "      <td>0.69</td>\n",
       "      <td>0.393</td>\n",
       "      <td>0.924</td>\n",
       "      <td>0.778</td>\n",
       "      <td>0.645</td>\n",
       "      <td>0.836</td>\n",
       "      <td>0.623</td>\n",
       "      <td>0.628</td>\n",
       "      <td>0.271</td>\n",
       "      <td>0.581</td>\n",
       "      <td>0.072</td>\n",
       "    </tr>\n",
       "  </tbody>\n",
       "</table>\n",
       "</div>"
      ],
      "text/plain": [
       "   aucroc_development  aucroc_exchanges  aucroc_finance  aucroc_gambling  \\\n",
       "0               0.892              0.95           0.923            0.904   \n",
       "\n",
       "   aucroc_games  aucroc_high-risk  aucroc_marketplaces  aucroc_media  \\\n",
       "0         0.931              0.95                0.878         0.898   \n",
       "\n",
       "   aucroc_other  aucroc_social  aucprc_development  aucprc_exchanges  \\\n",
       "0          0.95           0.69               0.393             0.924   \n",
       "\n",
       "   aucprc_finance  aucprc_gambling  aucprc_games  aucprc_high-risk  \\\n",
       "0           0.778            0.645         0.836             0.623   \n",
       "\n",
       "   aucprc_marketplaces  aucprc_media  aucprc_other  aucprc_social  \n",
       "0                0.628         0.271         0.581          0.072  "
      ]
     },
     "execution_count": 19,
     "metadata": {},
     "output_type": "execute_result"
    }
   ],
   "source": [
    "metrics"
   ]
  },
  {
   "cell_type": "code",
   "execution_count": 20,
   "metadata": {},
   "outputs": [
    {
     "data": {
      "text/plain": [
       "0    0.897\n",
       "dtype: float64"
      ]
     },
     "execution_count": 20,
     "metadata": {},
     "output_type": "execute_result"
    }
   ],
   "source": [
    "round(metrics.loc[:, metrics.columns.str.contains('aucroc')].mean(axis=1), 3)"
   ]
  },
  {
   "cell_type": "code",
   "execution_count": 21,
   "metadata": {},
   "outputs": [
    {
     "data": {
      "text/plain": [
       "0    0.575\n",
       "dtype: float64"
      ]
     },
     "execution_count": 21,
     "metadata": {},
     "output_type": "execute_result"
    }
   ],
   "source": [
    "round(metrics.loc[:, metrics.columns.str.contains('aucprc')].mean(axis=1), 3)"
   ]
  },
  {
   "cell_type": "markdown",
   "metadata": {},
   "source": [
    "### Random Forest"
   ]
  },
  {
   "cell_type": "code",
   "execution_count": 22,
   "metadata": {},
   "outputs": [
    {
     "name": "stderr",
     "output_type": "stream",
     "text": [
      "/home/RDC/zinovyee.hub/anaconda3/envs/dmc/lib/python3.8/site-packages/sklearn/model_selection/_split.py:292: FutureWarning: Setting a random_state has no effect since shuffle is False. This will raise an error in 0.24. You should leave random_state to its default (None), or set shuffle=True.\n",
      "  warnings.warn(\n"
     ]
    }
   ],
   "source": [
    "kf  = StratifiedKFold(n_splits=SPLITS, random_state=RS)\n",
    "\n",
    "word_vectorizer   = TfidfVectorizer(\n",
    "    sublinear_tf  = True,\n",
    "    strip_accents = 'unicode',\n",
    "    analyzer      = 'word',\n",
    "    token_pattern = r'\\w{1,}',\n",
    "    ngram_range   = (1, 1),\n",
    "    max_features  = 40000) # max 144018"
   ]
  },
  {
   "cell_type": "code",
   "execution_count": 23,
   "metadata": {},
   "outputs": [
    {
     "name": "stderr",
     "output_type": "stream",
     "text": [
      "[Parallel(n_jobs=20)]: Using backend ThreadingBackend with 20 concurrent workers.\n",
      "[Parallel(n_jobs=20)]: Done  10 tasks      | elapsed:    0.2s\n",
      "[Parallel(n_jobs=20)]: Done 160 tasks      | elapsed:    1.2s\n",
      "[Parallel(n_jobs=20)]: Done 410 tasks      | elapsed:    2.8s\n",
      "[Parallel(n_jobs=20)]: Done 600 out of 600 | elapsed:    4.0s finished\n",
      "[Parallel(n_jobs=20)]: Using backend ThreadingBackend with 20 concurrent workers.\n",
      "[Parallel(n_jobs=20)]: Done  10 tasks      | elapsed:    0.0s\n",
      "[Parallel(n_jobs=20)]: Done 160 tasks      | elapsed:    0.2s\n",
      "[Parallel(n_jobs=20)]: Done 410 tasks      | elapsed:    0.6s\n",
      "[Parallel(n_jobs=20)]: Done 600 out of 600 | elapsed:    0.9s finished\n",
      "[Parallel(n_jobs=20)]: Using backend ThreadingBackend with 20 concurrent workers.\n",
      "[Parallel(n_jobs=20)]: Done  10 tasks      | elapsed:    0.2s\n",
      "[Parallel(n_jobs=20)]: Done 160 tasks      | elapsed:    1.1s\n",
      "[Parallel(n_jobs=20)]: Done 410 tasks      | elapsed:    2.8s\n",
      "[Parallel(n_jobs=20)]: Done 600 out of 600 | elapsed:    4.0s finished\n",
      "[Parallel(n_jobs=20)]: Using backend ThreadingBackend with 20 concurrent workers.\n",
      "[Parallel(n_jobs=20)]: Done  10 tasks      | elapsed:    0.0s\n",
      "[Parallel(n_jobs=20)]: Done 160 tasks      | elapsed:    0.2s\n",
      "[Parallel(n_jobs=20)]: Done 410 tasks      | elapsed:    0.6s\n",
      "[Parallel(n_jobs=20)]: Done 600 out of 600 | elapsed:    0.8s finished\n",
      "[Parallel(n_jobs=20)]: Using backend ThreadingBackend with 20 concurrent workers.\n",
      "[Parallel(n_jobs=20)]: Done  10 tasks      | elapsed:    0.2s\n",
      "[Parallel(n_jobs=20)]: Done 160 tasks      | elapsed:    1.2s\n",
      "[Parallel(n_jobs=20)]: Done 410 tasks      | elapsed:    2.9s\n",
      "[Parallel(n_jobs=20)]: Done 600 out of 600 | elapsed:    4.1s finished\n",
      "[Parallel(n_jobs=20)]: Using backend ThreadingBackend with 20 concurrent workers.\n",
      "[Parallel(n_jobs=20)]: Done  10 tasks      | elapsed:    0.0s\n",
      "[Parallel(n_jobs=20)]: Done 160 tasks      | elapsed:    0.3s\n",
      "[Parallel(n_jobs=20)]: Done 410 tasks      | elapsed:    0.6s\n",
      "[Parallel(n_jobs=20)]: Done 600 out of 600 | elapsed:    0.8s finished\n",
      "[Parallel(n_jobs=20)]: Using backend ThreadingBackend with 20 concurrent workers.\n",
      "[Parallel(n_jobs=20)]: Done  10 tasks      | elapsed:    0.2s\n",
      "[Parallel(n_jobs=20)]: Done 160 tasks      | elapsed:    1.1s\n",
      "[Parallel(n_jobs=20)]: Done 410 tasks      | elapsed:    2.8s\n",
      "[Parallel(n_jobs=20)]: Done 600 out of 600 | elapsed:    4.0s finished\n",
      "[Parallel(n_jobs=20)]: Using backend ThreadingBackend with 20 concurrent workers.\n",
      "[Parallel(n_jobs=20)]: Done  10 tasks      | elapsed:    0.0s\n",
      "[Parallel(n_jobs=20)]: Done 160 tasks      | elapsed:    0.2s\n",
      "[Parallel(n_jobs=20)]: Done 410 tasks      | elapsed:    0.6s\n",
      "[Parallel(n_jobs=20)]: Done 600 out of 600 | elapsed:    0.8s finished\n",
      "[Parallel(n_jobs=20)]: Using backend ThreadingBackend with 20 concurrent workers.\n",
      "[Parallel(n_jobs=20)]: Done  10 tasks      | elapsed:    0.2s\n",
      "[Parallel(n_jobs=20)]: Done 160 tasks      | elapsed:    1.1s\n",
      "[Parallel(n_jobs=20)]: Done 410 tasks      | elapsed:    2.7s\n",
      "[Parallel(n_jobs=20)]: Done 600 out of 600 | elapsed:    3.8s finished\n",
      "[Parallel(n_jobs=20)]: Using backend ThreadingBackend with 20 concurrent workers.\n",
      "[Parallel(n_jobs=20)]: Done  10 tasks      | elapsed:    0.0s\n",
      "[Parallel(n_jobs=20)]: Done 160 tasks      | elapsed:    0.2s\n",
      "[Parallel(n_jobs=20)]: Done 410 tasks      | elapsed:    0.5s\n"
     ]
    },
    {
     "name": "stdout",
     "output_type": "stream",
     "text": [
      "C:1 AUC ROC: 0.887\n",
      "C:1 AUC PRC: 0.579\n"
     ]
    },
    {
     "name": "stderr",
     "output_type": "stream",
     "text": [
      "[Parallel(n_jobs=20)]: Done 600 out of 600 | elapsed:    0.8s finished\n"
     ]
    }
   ],
   "source": [
    "metrics_cv = pd.DataFrame(np.zeros((SPLITS, len(names))), columns=names)\n",
    "for c, (train_index, val_index) in enumerate(kf.split(X, y)):\n",
    "\n",
    "        X_train, X_val      = X.iloc[train_index]['comments'], X.iloc[val_index]['comments']\n",
    "        y_train, y_val      = y.iloc[train_index], y.iloc[val_index] \n",
    "        word_vectorizer.fit(X_train)\n",
    "        train_word_features = word_vectorizer.transform(X_train)\n",
    "        val_word_features   = word_vectorizer.transform(X_val)\n",
    "\n",
    "        le = LabelBinarizer()\n",
    "        le.fit(y_train)\n",
    "\n",
    "        y_train = le.transform(y_train)\n",
    "        y_val = le.transform(y_val)\n",
    "\n",
    "        \n",
    "        classifier          = RandomForestClassifier(n_estimators=600, max_depth=None, max_features='auto', \n",
    "                            min_samples_split=2, verbose = True, n_jobs=20, random_state=RS)\n",
    "        classifier.fit(train_word_features, y_train)\n",
    "        probs = classifier.predict_proba(val_word_features)\n",
    "        \n",
    "        for i, cl in enumerate(le.classes_):\n",
    "            auc_roc_class = roc_auc_score(y_val[:,i], probs[i][:,1])\n",
    "            auc_pr_class = average_precision_score(y_val[:,i], probs[i][:,1])\n",
    "\n",
    "            metrics_cv.loc[c, f'aucroc_{cl}'] = round(auc_roc_class, 3)\n",
    "            metrics_cv.loc[c, f'aucprc_{cl}'] = round(auc_pr_class, 3)   \n",
    "\n",
    "print(f\"C:{c_p} AUC ROC: {round(metrics_cv.loc[:, metrics_cv.columns.str.contains('aucroc')].mean(axis=0).mean(), 3)}\")\n",
    "print(f\"C:{c_p} AUC PRC: {round(metrics_cv.loc[:, metrics_cv.columns.str.contains('aucprc')].mean(axis=0).mean(), 3)}\")"
   ]
  },
  {
   "cell_type": "code",
   "execution_count": 24,
   "metadata": {},
   "outputs": [
    {
     "data": {
      "text/html": [
       "<div>\n",
       "<style scoped>\n",
       "    .dataframe tbody tr th:only-of-type {\n",
       "        vertical-align: middle;\n",
       "    }\n",
       "\n",
       "    .dataframe tbody tr th {\n",
       "        vertical-align: top;\n",
       "    }\n",
       "\n",
       "    .dataframe thead th {\n",
       "        text-align: right;\n",
       "    }\n",
       "</style>\n",
       "<table border=\"1\" class=\"dataframe\">\n",
       "  <thead>\n",
       "    <tr style=\"text-align: right;\">\n",
       "      <th></th>\n",
       "      <th>aucroc_development</th>\n",
       "      <th>aucroc_exchanges</th>\n",
       "      <th>aucroc_finance</th>\n",
       "      <th>aucroc_gambling</th>\n",
       "      <th>aucroc_games</th>\n",
       "      <th>aucroc_high-risk</th>\n",
       "      <th>aucroc_marketplaces</th>\n",
       "      <th>aucroc_media</th>\n",
       "      <th>aucroc_other</th>\n",
       "      <th>aucroc_social</th>\n",
       "      <th>aucprc_development</th>\n",
       "      <th>aucprc_exchanges</th>\n",
       "      <th>aucprc_finance</th>\n",
       "      <th>aucprc_gambling</th>\n",
       "      <th>aucprc_games</th>\n",
       "      <th>aucprc_high-risk</th>\n",
       "      <th>aucprc_marketplaces</th>\n",
       "      <th>aucprc_media</th>\n",
       "      <th>aucprc_other</th>\n",
       "      <th>aucprc_social</th>\n",
       "    </tr>\n",
       "  </thead>\n",
       "  <tbody>\n",
       "    <tr>\n",
       "      <th>0</th>\n",
       "      <td>0.835</td>\n",
       "      <td>0.960</td>\n",
       "      <td>0.900</td>\n",
       "      <td>0.913</td>\n",
       "      <td>0.913</td>\n",
       "      <td>0.954</td>\n",
       "      <td>0.892</td>\n",
       "      <td>0.827</td>\n",
       "      <td>0.835</td>\n",
       "      <td>0.808</td>\n",
       "      <td>0.304</td>\n",
       "      <td>0.936</td>\n",
       "      <td>0.755</td>\n",
       "      <td>0.807</td>\n",
       "      <td>0.840</td>\n",
       "      <td>0.606</td>\n",
       "      <td>0.560</td>\n",
       "      <td>0.197</td>\n",
       "      <td>0.418</td>\n",
       "      <td>0.286</td>\n",
       "    </tr>\n",
       "    <tr>\n",
       "      <th>1</th>\n",
       "      <td>0.823</td>\n",
       "      <td>0.979</td>\n",
       "      <td>0.935</td>\n",
       "      <td>0.891</td>\n",
       "      <td>0.891</td>\n",
       "      <td>0.924</td>\n",
       "      <td>0.838</td>\n",
       "      <td>0.826</td>\n",
       "      <td>0.793</td>\n",
       "      <td>0.751</td>\n",
       "      <td>0.299</td>\n",
       "      <td>0.954</td>\n",
       "      <td>0.831</td>\n",
       "      <td>0.569</td>\n",
       "      <td>0.785</td>\n",
       "      <td>0.605</td>\n",
       "      <td>0.590</td>\n",
       "      <td>0.293</td>\n",
       "      <td>0.357</td>\n",
       "      <td>0.073</td>\n",
       "    </tr>\n",
       "    <tr>\n",
       "      <th>2</th>\n",
       "      <td>0.904</td>\n",
       "      <td>0.972</td>\n",
       "      <td>0.948</td>\n",
       "      <td>0.907</td>\n",
       "      <td>0.930</td>\n",
       "      <td>0.946</td>\n",
       "      <td>0.911</td>\n",
       "      <td>0.848</td>\n",
       "      <td>0.860</td>\n",
       "      <td>0.891</td>\n",
       "      <td>0.478</td>\n",
       "      <td>0.941</td>\n",
       "      <td>0.863</td>\n",
       "      <td>0.674</td>\n",
       "      <td>0.856</td>\n",
       "      <td>0.699</td>\n",
       "      <td>0.525</td>\n",
       "      <td>0.263</td>\n",
       "      <td>0.508</td>\n",
       "      <td>0.279</td>\n",
       "    </tr>\n",
       "    <tr>\n",
       "      <th>3</th>\n",
       "      <td>0.897</td>\n",
       "      <td>0.980</td>\n",
       "      <td>0.951</td>\n",
       "      <td>0.912</td>\n",
       "      <td>0.947</td>\n",
       "      <td>0.957</td>\n",
       "      <td>0.959</td>\n",
       "      <td>0.756</td>\n",
       "      <td>0.878</td>\n",
       "      <td>0.820</td>\n",
       "      <td>0.499</td>\n",
       "      <td>0.959</td>\n",
       "      <td>0.876</td>\n",
       "      <td>0.719</td>\n",
       "      <td>0.885</td>\n",
       "      <td>0.615</td>\n",
       "      <td>0.628</td>\n",
       "      <td>0.128</td>\n",
       "      <td>0.473</td>\n",
       "      <td>0.214</td>\n",
       "    </tr>\n",
       "    <tr>\n",
       "      <th>4</th>\n",
       "      <td>0.695</td>\n",
       "      <td>0.939</td>\n",
       "      <td>0.881</td>\n",
       "      <td>0.954</td>\n",
       "      <td>0.924</td>\n",
       "      <td>0.934</td>\n",
       "      <td>0.815</td>\n",
       "      <td>0.829</td>\n",
       "      <td>0.885</td>\n",
       "      <td>0.810</td>\n",
       "      <td>0.388</td>\n",
       "      <td>0.897</td>\n",
       "      <td>0.736</td>\n",
       "      <td>0.757</td>\n",
       "      <td>0.828</td>\n",
       "      <td>0.648</td>\n",
       "      <td>0.560</td>\n",
       "      <td>0.364</td>\n",
       "      <td>0.506</td>\n",
       "      <td>0.136</td>\n",
       "    </tr>\n",
       "  </tbody>\n",
       "</table>\n",
       "</div>"
      ],
      "text/plain": [
       "   aucroc_development  aucroc_exchanges  aucroc_finance  aucroc_gambling  \\\n",
       "0               0.835             0.960           0.900            0.913   \n",
       "1               0.823             0.979           0.935            0.891   \n",
       "2               0.904             0.972           0.948            0.907   \n",
       "3               0.897             0.980           0.951            0.912   \n",
       "4               0.695             0.939           0.881            0.954   \n",
       "\n",
       "   aucroc_games  aucroc_high-risk  aucroc_marketplaces  aucroc_media  \\\n",
       "0         0.913             0.954                0.892         0.827   \n",
       "1         0.891             0.924                0.838         0.826   \n",
       "2         0.930             0.946                0.911         0.848   \n",
       "3         0.947             0.957                0.959         0.756   \n",
       "4         0.924             0.934                0.815         0.829   \n",
       "\n",
       "   aucroc_other  aucroc_social  aucprc_development  aucprc_exchanges  \\\n",
       "0         0.835          0.808               0.304             0.936   \n",
       "1         0.793          0.751               0.299             0.954   \n",
       "2         0.860          0.891               0.478             0.941   \n",
       "3         0.878          0.820               0.499             0.959   \n",
       "4         0.885          0.810               0.388             0.897   \n",
       "\n",
       "   aucprc_finance  aucprc_gambling  aucprc_games  aucprc_high-risk  \\\n",
       "0           0.755            0.807         0.840             0.606   \n",
       "1           0.831            0.569         0.785             0.605   \n",
       "2           0.863            0.674         0.856             0.699   \n",
       "3           0.876            0.719         0.885             0.615   \n",
       "4           0.736            0.757         0.828             0.648   \n",
       "\n",
       "   aucprc_marketplaces  aucprc_media  aucprc_other  aucprc_social  \n",
       "0                0.560         0.197         0.418          0.286  \n",
       "1                0.590         0.293         0.357          0.073  \n",
       "2                0.525         0.263         0.508          0.279  \n",
       "3                0.628         0.128         0.473          0.214  \n",
       "4                0.560         0.364         0.506          0.136  "
      ]
     },
     "execution_count": 24,
     "metadata": {},
     "output_type": "execute_result"
    }
   ],
   "source": [
    "metrics_cv"
   ]
  },
  {
   "cell_type": "code",
   "execution_count": 25,
   "metadata": {},
   "outputs": [
    {
     "name": "stderr",
     "output_type": "stream",
     "text": [
      "[Parallel(n_jobs=20)]: Using backend ThreadingBackend with 20 concurrent workers.\n",
      "[Parallel(n_jobs=20)]: Done  10 tasks      | elapsed:    0.2s\n",
      "[Parallel(n_jobs=20)]: Done 160 tasks      | elapsed:    1.2s\n",
      "[Parallel(n_jobs=20)]: Done 410 tasks      | elapsed:    3.0s\n",
      "[Parallel(n_jobs=20)]: Done 600 out of 600 | elapsed:    4.4s finished\n",
      "[Parallel(n_jobs=20)]: Using backend ThreadingBackend with 20 concurrent workers.\n",
      "[Parallel(n_jobs=20)]: Done  10 tasks      | elapsed:    0.0s\n",
      "[Parallel(n_jobs=20)]: Done 160 tasks      | elapsed:    0.3s\n",
      "[Parallel(n_jobs=20)]: Done 410 tasks      | elapsed:    0.6s\n",
      "[Parallel(n_jobs=20)]: Done 600 out of 600 | elapsed:    0.9s finished\n"
     ]
    }
   ],
   "source": [
    "# TRAIN ON WHOLE DATA AND PREDICT ON TEST\n",
    "metrics = pd.DataFrame(np.zeros((1,len(names))), columns=names)\n",
    "word_vectorizer.fit(X['comments'])\n",
    "train_word_features  = word_vectorizer.transform(X['comments'])\n",
    "test_word_features   = word_vectorizer.transform(X_test['comments'])\n",
    "\n",
    "le = LabelBinarizer()\n",
    "le.fit(y)\n",
    "\n",
    "y_train = le.transform(y)\n",
    "y_test_lb = le.transform(y_test)\n",
    "\n",
    "\n",
    "classifier = RandomForestClassifier(n_estimators=600, max_depth=None, max_features='auto', \n",
    "                            min_samples_split=2, verbose = True, n_jobs=20, random_state=RS)\n",
    "classifier.fit(train_word_features, y_train)\n",
    "probs      = classifier.predict_proba(test_word_features)\n",
    "\n",
    "for i, cl in enumerate(le.classes_):\n",
    "    auc_roc_class = roc_auc_score(y_test_lb[:,i], probs[i][:,1])\n",
    "    auc_pr_class = average_precision_score(y_test_lb[:,i], probs[i][:,1])\n",
    "\n",
    "    metrics.loc[0, f'aucroc_{cl}'] = round(auc_roc_class, 3)\n",
    "    metrics.loc[0, f'aucprc_{cl}'] = round(auc_pr_class, 3)   "
   ]
  },
  {
   "cell_type": "code",
   "execution_count": 26,
   "metadata": {},
   "outputs": [
    {
     "data": {
      "text/html": [
       "<div>\n",
       "<style scoped>\n",
       "    .dataframe tbody tr th:only-of-type {\n",
       "        vertical-align: middle;\n",
       "    }\n",
       "\n",
       "    .dataframe tbody tr th {\n",
       "        vertical-align: top;\n",
       "    }\n",
       "\n",
       "    .dataframe thead th {\n",
       "        text-align: right;\n",
       "    }\n",
       "</style>\n",
       "<table border=\"1\" class=\"dataframe\">\n",
       "  <thead>\n",
       "    <tr style=\"text-align: right;\">\n",
       "      <th></th>\n",
       "      <th>aucroc_development</th>\n",
       "      <th>aucroc_exchanges</th>\n",
       "      <th>aucroc_finance</th>\n",
       "      <th>aucroc_gambling</th>\n",
       "      <th>aucroc_games</th>\n",
       "      <th>aucroc_high-risk</th>\n",
       "      <th>aucroc_marketplaces</th>\n",
       "      <th>aucroc_media</th>\n",
       "      <th>aucroc_other</th>\n",
       "      <th>aucroc_social</th>\n",
       "      <th>aucprc_development</th>\n",
       "      <th>aucprc_exchanges</th>\n",
       "      <th>aucprc_finance</th>\n",
       "      <th>aucprc_gambling</th>\n",
       "      <th>aucprc_games</th>\n",
       "      <th>aucprc_high-risk</th>\n",
       "      <th>aucprc_marketplaces</th>\n",
       "      <th>aucprc_media</th>\n",
       "      <th>aucprc_other</th>\n",
       "      <th>aucprc_social</th>\n",
       "    </tr>\n",
       "  </thead>\n",
       "  <tbody>\n",
       "    <tr>\n",
       "      <th>0</th>\n",
       "      <td>0.933</td>\n",
       "      <td>0.973</td>\n",
       "      <td>0.94</td>\n",
       "      <td>0.895</td>\n",
       "      <td>0.938</td>\n",
       "      <td>0.955</td>\n",
       "      <td>0.941</td>\n",
       "      <td>0.937</td>\n",
       "      <td>0.935</td>\n",
       "      <td>0.753</td>\n",
       "      <td>0.368</td>\n",
       "      <td>0.95</td>\n",
       "      <td>0.813</td>\n",
       "      <td>0.655</td>\n",
       "      <td>0.882</td>\n",
       "      <td>0.684</td>\n",
       "      <td>0.702</td>\n",
       "      <td>0.544</td>\n",
       "      <td>0.599</td>\n",
       "      <td>0.188</td>\n",
       "    </tr>\n",
       "  </tbody>\n",
       "</table>\n",
       "</div>"
      ],
      "text/plain": [
       "   aucroc_development  aucroc_exchanges  aucroc_finance  aucroc_gambling  \\\n",
       "0               0.933             0.973            0.94            0.895   \n",
       "\n",
       "   aucroc_games  aucroc_high-risk  aucroc_marketplaces  aucroc_media  \\\n",
       "0         0.938             0.955                0.941         0.937   \n",
       "\n",
       "   aucroc_other  aucroc_social  aucprc_development  aucprc_exchanges  \\\n",
       "0         0.935          0.753               0.368              0.95   \n",
       "\n",
       "   aucprc_finance  aucprc_gambling  aucprc_games  aucprc_high-risk  \\\n",
       "0           0.813            0.655         0.882             0.684   \n",
       "\n",
       "   aucprc_marketplaces  aucprc_media  aucprc_other  aucprc_social  \n",
       "0                0.702         0.544         0.599          0.188  "
      ]
     },
     "execution_count": 26,
     "metadata": {},
     "output_type": "execute_result"
    }
   ],
   "source": [
    "metrics"
   ]
  },
  {
   "cell_type": "code",
   "execution_count": 27,
   "metadata": {},
   "outputs": [
    {
     "data": {
      "text/plain": [
       "0    0.92\n",
       "dtype: float64"
      ]
     },
     "execution_count": 27,
     "metadata": {},
     "output_type": "execute_result"
    }
   ],
   "source": [
    "round(metrics.loc[:, metrics.columns.str.contains('aucroc')].mean(axis=1), 3)"
   ]
  },
  {
   "cell_type": "code",
   "execution_count": 28,
   "metadata": {},
   "outputs": [
    {
     "data": {
      "text/plain": [
       "0    0.639\n",
       "dtype: float64"
      ]
     },
     "execution_count": 28,
     "metadata": {},
     "output_type": "execute_result"
    }
   ],
   "source": [
    "round(metrics.loc[:, metrics.columns.str.contains('aucprc')].mean(axis=1), 3)"
   ]
  },
  {
   "cell_type": "markdown",
   "metadata": {},
   "source": [
    "### SVM"
   ]
  },
  {
   "cell_type": "code",
   "execution_count": 29,
   "metadata": {},
   "outputs": [
    {
     "name": "stdout",
     "output_type": "stream",
     "text": [
      "-------------\n",
      "penalty l1\n",
      "alpha 1e-05\n",
      "max_iter 9\n",
      "-------------\n",
      "C:1 AUC ROC: 0.878\n",
      "C:1 AUC PRC: 0.608\n"
     ]
    }
   ],
   "source": [
    "penalty = ['l2', 'l1']\n",
    "alpha = [0.000001, 0.00001, 0.0001, 0.001, 0.01, 0.1]\n",
    "max_iter = [1000, 10000, 15000]\n",
    "\n",
    "# best parameters\n",
    "penalty = ['l1']\n",
    "alpha = [0.00001]\n",
    "max_iter = [1000] \n",
    "\n",
    "for p in penalty:\n",
    "  for a in alpha:\n",
    "    for it in max_iter:\n",
    "      auc = []\n",
    "      roc = []\n",
    "      fscore_ = []\n",
    "      c = 0\n",
    "      # print performance\n",
    "      print(f'-------------')\n",
    "      print(f'penalty {p}')\n",
    "      print(f'alpha {a}')\n",
    "      print(f'max_iter {i}')\n",
    "      print(f'-------------')\n",
    "      \n",
    "    \n",
    "      metrics_cv = pd.DataFrame(np.zeros((SPLITS, len(names))), columns=names)\n",
    "      for c, (train_index, val_index) in enumerate(kf.split(X, y)):\n",
    "\n",
    "            X_train, X_val      = X.iloc[train_index]['comments'], X.iloc[val_index]['comments']\n",
    "            y_train, y_val      = y.iloc[train_index], y.iloc[val_index] \n",
    "            word_vectorizer.fit(X_train)\n",
    "            train_word_features = word_vectorizer.transform(X_train)\n",
    "            val_word_features   = word_vectorizer.transform(X_val)\n",
    "             \n",
    "            le = LabelBinarizer()\n",
    "            le.fit(y_train)\n",
    "            \n",
    "            y_train = le.transform(y_train)\n",
    "            y_val = le.transform(y_val)\n",
    "            \n",
    "            for i, cl in enumerate(le.classes_):\n",
    "                classifier = SGDClassifier(n_jobs=20, random_state=RS, loss='log', shuffle=False, \n",
    "                                    penalty=p, alpha=a, max_iter=it)\n",
    "                classifier.fit(train_word_features, y_train[:,i])\n",
    "                probs      = classifier.predict_proba(val_word_features)[:,1]\n",
    "                auc_roc_class = roc_auc_score(y_val[:,i], probs)\n",
    "                auc_pr_class = average_precision_score(y_val[:,i], probs)\n",
    "                \n",
    "                metrics_cv.loc[c, f'aucroc_{cl}'] = round(auc_roc_class, 3)\n",
    "                metrics_cv.loc[c, f'aucprc_{cl}'] = round(auc_pr_class, 3)   \n",
    "                \n",
    "    print(f\"C:{c_p} AUC ROC: {round(metrics_cv.loc[:, metrics_cv.columns.str.contains('aucroc')].mean(axis=0).mean(), 3)}\")\n",
    "    print(f\"C:{c_p} AUC PRC: {round(metrics_cv.loc[:, metrics_cv.columns.str.contains('aucprc')].mean(axis=0).mean(), 3)}\")"
   ]
  },
  {
   "cell_type": "code",
   "execution_count": 30,
   "metadata": {},
   "outputs": [
    {
     "data": {
      "text/html": [
       "<div>\n",
       "<style scoped>\n",
       "    .dataframe tbody tr th:only-of-type {\n",
       "        vertical-align: middle;\n",
       "    }\n",
       "\n",
       "    .dataframe tbody tr th {\n",
       "        vertical-align: top;\n",
       "    }\n",
       "\n",
       "    .dataframe thead th {\n",
       "        text-align: right;\n",
       "    }\n",
       "</style>\n",
       "<table border=\"1\" class=\"dataframe\">\n",
       "  <thead>\n",
       "    <tr style=\"text-align: right;\">\n",
       "      <th></th>\n",
       "      <th>aucroc_development</th>\n",
       "      <th>aucroc_exchanges</th>\n",
       "      <th>aucroc_finance</th>\n",
       "      <th>aucroc_gambling</th>\n",
       "      <th>aucroc_games</th>\n",
       "      <th>aucroc_high-risk</th>\n",
       "      <th>aucroc_marketplaces</th>\n",
       "      <th>aucroc_media</th>\n",
       "      <th>aucroc_other</th>\n",
       "      <th>aucroc_social</th>\n",
       "      <th>aucprc_development</th>\n",
       "      <th>aucprc_exchanges</th>\n",
       "      <th>aucprc_finance</th>\n",
       "      <th>aucprc_gambling</th>\n",
       "      <th>aucprc_games</th>\n",
       "      <th>aucprc_high-risk</th>\n",
       "      <th>aucprc_marketplaces</th>\n",
       "      <th>aucprc_media</th>\n",
       "      <th>aucprc_other</th>\n",
       "      <th>aucprc_social</th>\n",
       "    </tr>\n",
       "  </thead>\n",
       "  <tbody>\n",
       "    <tr>\n",
       "      <th>0</th>\n",
       "      <td>0.852</td>\n",
       "      <td>0.953</td>\n",
       "      <td>0.876</td>\n",
       "      <td>0.894</td>\n",
       "      <td>0.939</td>\n",
       "      <td>0.913</td>\n",
       "      <td>0.824</td>\n",
       "      <td>0.871</td>\n",
       "      <td>0.885</td>\n",
       "      <td>0.826</td>\n",
       "      <td>0.312</td>\n",
       "      <td>0.931</td>\n",
       "      <td>0.751</td>\n",
       "      <td>0.754</td>\n",
       "      <td>0.848</td>\n",
       "      <td>0.547</td>\n",
       "      <td>0.606</td>\n",
       "      <td>0.435</td>\n",
       "      <td>0.561</td>\n",
       "      <td>0.201</td>\n",
       "    </tr>\n",
       "    <tr>\n",
       "      <th>1</th>\n",
       "      <td>0.691</td>\n",
       "      <td>0.962</td>\n",
       "      <td>0.920</td>\n",
       "      <td>0.888</td>\n",
       "      <td>0.898</td>\n",
       "      <td>0.935</td>\n",
       "      <td>0.897</td>\n",
       "      <td>0.906</td>\n",
       "      <td>0.802</td>\n",
       "      <td>0.660</td>\n",
       "      <td>0.398</td>\n",
       "      <td>0.947</td>\n",
       "      <td>0.821</td>\n",
       "      <td>0.590</td>\n",
       "      <td>0.767</td>\n",
       "      <td>0.682</td>\n",
       "      <td>0.681</td>\n",
       "      <td>0.382</td>\n",
       "      <td>0.383</td>\n",
       "      <td>0.112</td>\n",
       "    </tr>\n",
       "    <tr>\n",
       "      <th>2</th>\n",
       "      <td>0.720</td>\n",
       "      <td>0.956</td>\n",
       "      <td>0.919</td>\n",
       "      <td>0.905</td>\n",
       "      <td>0.917</td>\n",
       "      <td>0.933</td>\n",
       "      <td>0.830</td>\n",
       "      <td>0.800</td>\n",
       "      <td>0.836</td>\n",
       "      <td>0.861</td>\n",
       "      <td>0.360</td>\n",
       "      <td>0.932</td>\n",
       "      <td>0.811</td>\n",
       "      <td>0.717</td>\n",
       "      <td>0.834</td>\n",
       "      <td>0.694</td>\n",
       "      <td>0.459</td>\n",
       "      <td>0.303</td>\n",
       "      <td>0.549</td>\n",
       "      <td>0.333</td>\n",
       "    </tr>\n",
       "    <tr>\n",
       "      <th>3</th>\n",
       "      <td>0.929</td>\n",
       "      <td>0.970</td>\n",
       "      <td>0.960</td>\n",
       "      <td>0.943</td>\n",
       "      <td>0.956</td>\n",
       "      <td>0.956</td>\n",
       "      <td>0.939</td>\n",
       "      <td>0.805</td>\n",
       "      <td>0.831</td>\n",
       "      <td>0.856</td>\n",
       "      <td>0.617</td>\n",
       "      <td>0.966</td>\n",
       "      <td>0.875</td>\n",
       "      <td>0.782</td>\n",
       "      <td>0.887</td>\n",
       "      <td>0.698</td>\n",
       "      <td>0.763</td>\n",
       "      <td>0.177</td>\n",
       "      <td>0.478</td>\n",
       "      <td>0.235</td>\n",
       "    </tr>\n",
       "    <tr>\n",
       "      <th>4</th>\n",
       "      <td>0.712</td>\n",
       "      <td>0.933</td>\n",
       "      <td>0.898</td>\n",
       "      <td>0.941</td>\n",
       "      <td>0.933</td>\n",
       "      <td>0.918</td>\n",
       "      <td>0.849</td>\n",
       "      <td>0.790</td>\n",
       "      <td>0.860</td>\n",
       "      <td>0.847</td>\n",
       "      <td>0.436</td>\n",
       "      <td>0.913</td>\n",
       "      <td>0.773</td>\n",
       "      <td>0.799</td>\n",
       "      <td>0.856</td>\n",
       "      <td>0.679</td>\n",
       "      <td>0.627</td>\n",
       "      <td>0.446</td>\n",
       "      <td>0.497</td>\n",
       "      <td>0.191</td>\n",
       "    </tr>\n",
       "  </tbody>\n",
       "</table>\n",
       "</div>"
      ],
      "text/plain": [
       "   aucroc_development  aucroc_exchanges  aucroc_finance  aucroc_gambling  \\\n",
       "0               0.852             0.953           0.876            0.894   \n",
       "1               0.691             0.962           0.920            0.888   \n",
       "2               0.720             0.956           0.919            0.905   \n",
       "3               0.929             0.970           0.960            0.943   \n",
       "4               0.712             0.933           0.898            0.941   \n",
       "\n",
       "   aucroc_games  aucroc_high-risk  aucroc_marketplaces  aucroc_media  \\\n",
       "0         0.939             0.913                0.824         0.871   \n",
       "1         0.898             0.935                0.897         0.906   \n",
       "2         0.917             0.933                0.830         0.800   \n",
       "3         0.956             0.956                0.939         0.805   \n",
       "4         0.933             0.918                0.849         0.790   \n",
       "\n",
       "   aucroc_other  aucroc_social  aucprc_development  aucprc_exchanges  \\\n",
       "0         0.885          0.826               0.312             0.931   \n",
       "1         0.802          0.660               0.398             0.947   \n",
       "2         0.836          0.861               0.360             0.932   \n",
       "3         0.831          0.856               0.617             0.966   \n",
       "4         0.860          0.847               0.436             0.913   \n",
       "\n",
       "   aucprc_finance  aucprc_gambling  aucprc_games  aucprc_high-risk  \\\n",
       "0           0.751            0.754         0.848             0.547   \n",
       "1           0.821            0.590         0.767             0.682   \n",
       "2           0.811            0.717         0.834             0.694   \n",
       "3           0.875            0.782         0.887             0.698   \n",
       "4           0.773            0.799         0.856             0.679   \n",
       "\n",
       "   aucprc_marketplaces  aucprc_media  aucprc_other  aucprc_social  \n",
       "0                0.606         0.435         0.561          0.201  \n",
       "1                0.681         0.382         0.383          0.112  \n",
       "2                0.459         0.303         0.549          0.333  \n",
       "3                0.763         0.177         0.478          0.235  \n",
       "4                0.627         0.446         0.497          0.191  "
      ]
     },
     "execution_count": 30,
     "metadata": {},
     "output_type": "execute_result"
    }
   ],
   "source": [
    "metrics_cv"
   ]
  },
  {
   "cell_type": "code",
   "execution_count": 31,
   "metadata": {},
   "outputs": [
    {
     "data": {
      "text/plain": [
       "aucroc_development     0.781\n",
       "aucroc_exchanges       0.955\n",
       "aucroc_finance         0.915\n",
       "aucroc_gambling        0.914\n",
       "aucroc_games           0.929\n",
       "aucroc_high-risk       0.931\n",
       "aucroc_marketplaces    0.868\n",
       "aucroc_media           0.834\n",
       "aucroc_other           0.843\n",
       "aucroc_social          0.810\n",
       "dtype: float64"
      ]
     },
     "execution_count": 31,
     "metadata": {},
     "output_type": "execute_result"
    }
   ],
   "source": [
    "round(metrics_cv.loc[:, metrics_cv.columns.str.contains('aucroc')].mean(axis=0), 3)"
   ]
  },
  {
   "cell_type": "code",
   "execution_count": 32,
   "metadata": {},
   "outputs": [
    {
     "data": {
      "text/plain": [
       "aucprc_development     0.425\n",
       "aucprc_exchanges       0.938\n",
       "aucprc_finance         0.806\n",
       "aucprc_gambling        0.728\n",
       "aucprc_games           0.838\n",
       "aucprc_high-risk       0.660\n",
       "aucprc_marketplaces    0.627\n",
       "aucprc_media           0.349\n",
       "aucprc_other           0.494\n",
       "aucprc_social          0.214\n",
       "dtype: float64"
      ]
     },
     "execution_count": 32,
     "metadata": {},
     "output_type": "execute_result"
    }
   ],
   "source": [
    "round(metrics_cv.loc[:, metrics_cv.columns.str.contains('aucprc')].mean(axis=0), 3)"
   ]
  },
  {
   "cell_type": "code",
   "execution_count": 33,
   "metadata": {},
   "outputs": [],
   "source": [
    "# TRAIN ON WHOLE DATA AND PREDICT ON TEST\n",
    "metrics = pd.DataFrame(np.zeros((1,len(names))), columns=names)\n",
    "word_vectorizer.fit(X['comments'])\n",
    "train_word_features  = word_vectorizer.transform(X['comments'])\n",
    "test_word_features   = word_vectorizer.transform(X_test['comments'])\n",
    "\n",
    "le = LabelBinarizer()\n",
    "le.fit(y)\n",
    "\n",
    "y_train = le.transform(y)\n",
    "y_test_lb = le.transform(y_test)\n",
    "\n",
    "for i, cl in enumerate(le.classes_):\n",
    "    classifier = SGDClassifier(n_jobs=20, random_state=RS, loss='log', shuffle=False, \n",
    "                                    penalty=penalty[0], alpha=alpha[0], max_iter=max_iter[0])\n",
    "    classifier.fit(train_word_features, y_train[:,i])\n",
    "    probs      = classifier.predict_proba(test_word_features)[:,1]\n",
    "    auc_roc_class = roc_auc_score(y_test_lb[:,i], probs)\n",
    "    auc_pr_class = average_precision_score(y_test_lb[:,i], probs)\n",
    "\n",
    "    metrics.loc[0, f'aucroc_{cl}'] = round(auc_roc_class, 3)\n",
    "    metrics.loc[0, f'aucprc_{cl}'] = round(auc_pr_class, 3)   "
   ]
  },
  {
   "cell_type": "code",
   "execution_count": 34,
   "metadata": {},
   "outputs": [
    {
     "data": {
      "text/html": [
       "<div>\n",
       "<style scoped>\n",
       "    .dataframe tbody tr th:only-of-type {\n",
       "        vertical-align: middle;\n",
       "    }\n",
       "\n",
       "    .dataframe tbody tr th {\n",
       "        vertical-align: top;\n",
       "    }\n",
       "\n",
       "    .dataframe thead th {\n",
       "        text-align: right;\n",
       "    }\n",
       "</style>\n",
       "<table border=\"1\" class=\"dataframe\">\n",
       "  <thead>\n",
       "    <tr style=\"text-align: right;\">\n",
       "      <th></th>\n",
       "      <th>aucroc_development</th>\n",
       "      <th>aucroc_exchanges</th>\n",
       "      <th>aucroc_finance</th>\n",
       "      <th>aucroc_gambling</th>\n",
       "      <th>aucroc_games</th>\n",
       "      <th>aucroc_high-risk</th>\n",
       "      <th>aucroc_marketplaces</th>\n",
       "      <th>aucroc_media</th>\n",
       "      <th>aucroc_other</th>\n",
       "      <th>aucroc_social</th>\n",
       "      <th>aucprc_development</th>\n",
       "      <th>aucprc_exchanges</th>\n",
       "      <th>aucprc_finance</th>\n",
       "      <th>aucprc_gambling</th>\n",
       "      <th>aucprc_games</th>\n",
       "      <th>aucprc_high-risk</th>\n",
       "      <th>aucprc_marketplaces</th>\n",
       "      <th>aucprc_media</th>\n",
       "      <th>aucprc_other</th>\n",
       "      <th>aucprc_social</th>\n",
       "    </tr>\n",
       "  </thead>\n",
       "  <tbody>\n",
       "    <tr>\n",
       "      <th>0</th>\n",
       "      <td>0.859</td>\n",
       "      <td>0.984</td>\n",
       "      <td>0.922</td>\n",
       "      <td>0.881</td>\n",
       "      <td>0.945</td>\n",
       "      <td>0.965</td>\n",
       "      <td>0.927</td>\n",
       "      <td>0.872</td>\n",
       "      <td>0.92</td>\n",
       "      <td>0.681</td>\n",
       "      <td>0.305</td>\n",
       "      <td>0.959</td>\n",
       "      <td>0.806</td>\n",
       "      <td>0.689</td>\n",
       "      <td>0.905</td>\n",
       "      <td>0.706</td>\n",
       "      <td>0.741</td>\n",
       "      <td>0.497</td>\n",
       "      <td>0.673</td>\n",
       "      <td>0.204</td>\n",
       "    </tr>\n",
       "  </tbody>\n",
       "</table>\n",
       "</div>"
      ],
      "text/plain": [
       "   aucroc_development  aucroc_exchanges  aucroc_finance  aucroc_gambling  \\\n",
       "0               0.859             0.984           0.922            0.881   \n",
       "\n",
       "   aucroc_games  aucroc_high-risk  aucroc_marketplaces  aucroc_media  \\\n",
       "0         0.945             0.965                0.927         0.872   \n",
       "\n",
       "   aucroc_other  aucroc_social  aucprc_development  aucprc_exchanges  \\\n",
       "0          0.92          0.681               0.305             0.959   \n",
       "\n",
       "   aucprc_finance  aucprc_gambling  aucprc_games  aucprc_high-risk  \\\n",
       "0           0.806            0.689         0.905             0.706   \n",
       "\n",
       "   aucprc_marketplaces  aucprc_media  aucprc_other  aucprc_social  \n",
       "0                0.741         0.497         0.673          0.204  "
      ]
     },
     "execution_count": 34,
     "metadata": {},
     "output_type": "execute_result"
    }
   ],
   "source": [
    "metrics"
   ]
  }
 ],
 "metadata": {
  "kernelspec": {
   "display_name": "Python 3",
   "language": "python",
   "name": "python3"
  },
  "language_info": {
   "codemirror_mode": {
    "name": "ipython",
    "version": 3
   },
   "file_extension": ".py",
   "mimetype": "text/x-python",
   "name": "python",
   "nbconvert_exporter": "python",
   "pygments_lexer": "ipython3",
   "version": "3.8.3"
  }
 },
 "nbformat": 4,
 "nbformat_minor": 4
}
