{
 "cells": [
  {
   "cell_type": "code",
   "execution_count": 38,
   "metadata": {},
   "outputs": [],
   "source": [
    "import numpy as np\n",
    "import matplotlib.pyplot as plt\n",
    "%matplotlib inline\n",
    "import os\n",
    "import pandas as pd\n",
    "\n",
    "from sklearn.pipeline import Pipeline\n",
    "from sklearn.model_selection import GridSearchCV\n",
    "from sklearn.ensemble  import GradientBoostingClassifier, RandomForestClassifier\n",
    "from sklearn.model_selection import StratifiedKFold, cross_val_score, train_test_split, KFold\n",
    "from sklearn.linear_model import LogisticRegression\n",
    "from sklearn.naive_bayes import GaussianNB\n",
    "import random\n",
    "\n",
    "from sklearn import metrics\n",
    "from collections import Counter\n",
    "import argparse\n",
    "from sklearn.model_selection import cross_validate\n",
    "from sklearn.metrics import roc_auc_score, average_precision_score, f1_score, precision_score, recall_score\n",
    "from sklearn.feature_extraction.text import TfidfVectorizer\n",
    "from sklearn.linear_model import SGDClassifier\n",
    "from sklearn.model_selection import ParameterGrid\n",
    "import lightgbm as lgb\n",
    "import seaborn as sns\n",
    "from sklearn.preprocessing import LabelEncoder, LabelBinarizer"
   ]
  },
  {
   "cell_type": "code",
   "execution_count": 39,
   "metadata": {},
   "outputs": [],
   "source": [
    "data = pd.read_csv(\"dapps_with_features_v4.csv\")"
   ]
  },
  {
   "cell_type": "code",
   "execution_count": 40,
   "metadata": {},
   "outputs": [],
   "source": [
    "RS = 42\n",
    "SPLITS = 5"
   ]
  },
  {
   "cell_type": "code",
   "execution_count": 41,
   "metadata": {},
   "outputs": [],
   "source": [
    "X = data.drop('category', axis=1)\n",
    "y = data.category"
   ]
  },
  {
   "cell_type": "code",
   "execution_count": 42,
   "metadata": {},
   "outputs": [],
   "source": [
    "X, X_test, y, y_test  = train_test_split(X, y, stratify=y, test_size=0.2, random_state=RS)"
   ]
  },
  {
   "cell_type": "code",
   "execution_count": 43,
   "metadata": {},
   "outputs": [
    {
     "name": "stdout",
     "output_type": "stream",
     "text": [
      "X_train shape (1716, 17)\n",
      "X_test shape (430, 17)\n"
     ]
    }
   ],
   "source": [
    "print(f'X_train shape {X.shape}')\n",
    "print(f'X_test shape {X_test.shape}')"
   ]
  },
  {
   "cell_type": "markdown",
   "metadata": {},
   "source": [
    "# Training on full code "
   ]
  },
  {
   "cell_type": "markdown",
   "metadata": {},
   "source": [
    "## Check for possible meta-parameters"
   ]
  },
  {
   "cell_type": "code",
   "execution_count": 44,
   "metadata": {},
   "outputs": [],
   "source": [
    "length_SC = X.SC_no_comments.apply(lambda x: len(x.split()))"
   ]
  },
  {
   "cell_type": "code",
   "execution_count": 45,
   "metadata": {},
   "outputs": [
    {
     "data": {
      "text/plain": [
       "<matplotlib.axes._subplots.AxesSubplot at 0x7f840c1342b0>"
      ]
     },
     "execution_count": 45,
     "metadata": {},
     "output_type": "execute_result"
    },
    {
     "data": {
      "image/png": "[encoded data removed]",
      "text/plain": [
       "<Figure size 432x288 with 1 Axes>"
      ]
     },
     "metadata": {
      "needs_background": "light"
     },
     "output_type": "display_data"
    }
   ],
   "source": [
    "sns.distplot(length_SC)"
   ]
  },
  {
   "cell_type": "code",
   "execution_count": 46,
   "metadata": {},
   "outputs": [
    {
     "data": {
      "text/plain": [
       "count     1716.000000\n",
       "mean      2755.290210\n",
       "std       2601.129827\n",
       "min          5.000000\n",
       "25%       1173.000000\n",
       "50%       2068.000000\n",
       "75%       3415.000000\n",
       "max      28389.000000\n",
       "Name: SC_no_comments, dtype: float64"
      ]
     },
     "execution_count": 46,
     "metadata": {},
     "output_type": "execute_result"
    }
   ],
   "source": [
    "length_SC.describe()"
   ]
  },
  {
   "cell_type": "code",
   "execution_count": 47,
   "metadata": {},
   "outputs": [
    {
     "data": {
      "text/plain": [
       "newline                                   2137095\n",
       "}                                          125674\n",
       "=                                          123833\n",
       "{                                          120403\n",
       "function                                    92859\n",
       "                                           ...   \n",
       "_maxPossibleWithdraw)                           1\n",
       "getCurrentBlockTimestamp()                      1\n",
       "\\\".AccessControl.sol\\\"\\r\\nimport                1\n",
       "getSaleContractDepositEtherMin(address          1\n",
       "accountToWithdrawableValue[seller]              1\n",
       "Length: 148175, dtype: int64"
      ]
     },
     "execution_count": 47,
     "metadata": {},
     "output_type": "execute_result"
    }
   ],
   "source": [
    "X.SC_no_comments.str.split(expand=True).stack().value_counts()"
   ]
  },
  {
   "cell_type": "markdown",
   "metadata": {},
   "source": [
    "### Ridge"
   ]
  },
  {
   "cell_type": "code",
   "execution_count": 48,
   "metadata": {},
   "outputs": [
    {
     "name": "stderr",
     "output_type": "stream",
     "text": [
      "/home/RDC/zinovyee.hub/anaconda3/envs/dmc/lib/python3.8/site-packages/sklearn/model_selection/_split.py:292: FutureWarning: Setting a random_state has no effect since shuffle is False. This will raise an error in 0.24. You should leave random_state to its default (None), or set shuffle=True.\n",
      "  warnings.warn(\n"
     ]
    }
   ],
   "source": [
    "kf  = StratifiedKFold(n_splits=SPLITS, random_state=RS)\n",
    "\n",
    "word_vectorizer   = TfidfVectorizer(\n",
    "    sublinear_tf  = True,\n",
    "    strip_accents = 'unicode',\n",
    "    analyzer      = 'word',\n",
    "    token_pattern = r'\\w{1,}',\n",
    "    #stop_words    = 'english',\n",
    "    ngram_range   = (1, 1),\n",
    "    max_features  = 40000) # max 144018"
   ]
  },
  {
   "cell_type": "code",
   "execution_count": 49,
   "metadata": {},
   "outputs": [],
   "source": [
    "c = 0\n",
    "C_parameter = np.arange(0.1, 1.1, 0.1) \n",
    "\n",
    "# use best C\n",
    "\n",
    "C_parameter = [1]"
   ]
  },
  {
   "cell_type": "code",
   "execution_count": 50,
   "metadata": {},
   "outputs": [],
   "source": [
    "names = [f'aucroc_{i}' for i in ['development', 'exchanges', 'finance', 'gambling', 'games',\n",
    "       'high-risk', 'marketplaces', 'media', 'other', 'social']]\n",
    "names2 = [f'aucprc_{i}' for i in ['development', 'exchanges', 'finance', 'gambling', 'games',\n",
    "       'high-risk', 'marketplaces', 'media', 'other', 'social']]\n",
    "names.extend(names2)"
   ]
  },
  {
   "cell_type": "code",
   "execution_count": 51,
   "metadata": {},
   "outputs": [
    {
     "name": "stdout",
     "output_type": "stream",
     "text": [
      "C:1 AUC ROC: 0.909\n",
      "C:1 AUC PRC: 0.619\n"
     ]
    }
   ],
   "source": [
    "for c_p in C_parameter:  \n",
    "    metrics_cv = pd.DataFrame(np.zeros((SPLITS, len(names))), columns=names)\n",
    "    for c, (train_index, val_index) in enumerate(kf.split(X, y)):\n",
    "\n",
    "            X_train, X_val      = X.iloc[train_index]['SC_full'], X.iloc[val_index]['SC_full']\n",
    "            y_train, y_val      = y.iloc[train_index], y.iloc[val_index] \n",
    "            word_vectorizer.fit(X_train)\n",
    "            train_word_features = word_vectorizer.transform(X_train)\n",
    "            val_word_features   = word_vectorizer.transform(X_val)\n",
    "             \n",
    "            le = LabelBinarizer()\n",
    "            le.fit(y_train)\n",
    "            \n",
    "            y_train = le.transform(y_train)\n",
    "            y_val = le.transform(y_val)\n",
    "            \n",
    "            for i, cl in enumerate(le.classes_):\n",
    "                classifier = LogisticRegression(C=c_p, solver='sag', random_state=RS)\n",
    "                classifier.fit(train_word_features, y_train[:,i])\n",
    "                probs      = classifier.predict_proba(val_word_features)[:,1]\n",
    "                auc_roc_class = roc_auc_score(y_val[:,i], probs)\n",
    "                auc_pr_class = average_precision_score(y_val[:,i], probs)\n",
    "                \n",
    "                metrics_cv.loc[c, f'aucroc_{cl}'] = round(auc_roc_class, 3)\n",
    "                metrics_cv.loc[c, f'aucprc_{cl}'] = round(auc_pr_class, 3)   \n",
    "                \n",
    "    print(f\"C:{c_p} AUC ROC: {round(metrics_cv.loc[:, metrics_cv.columns.str.contains('aucroc')].mean(axis=0).mean(), 3)}\")\n",
    "    print(f\"C:{c_p} AUC PRC: {round(metrics_cv.loc[:, metrics_cv.columns.str.contains('aucprc')].mean(axis=0).mean(), 3)}\")"
   ]
  },
  {
   "cell_type": "code",
   "execution_count": 52,
   "metadata": {},
   "outputs": [
    {
     "data": {
      "text/plain": [
       "aucroc_development     0.885\n",
       "aucroc_exchanges       0.977\n",
       "aucroc_finance         0.945\n",
       "aucroc_gambling        0.928\n",
       "aucroc_games           0.940\n",
       "aucroc_high-risk       0.953\n",
       "aucroc_marketplaces    0.911\n",
       "aucroc_media           0.869\n",
       "aucroc_other           0.872\n",
       "aucroc_social          0.810\n",
       "dtype: float64"
      ]
     },
     "execution_count": 52,
     "metadata": {},
     "output_type": "execute_result"
    }
   ],
   "source": [
    "round(metrics_cv.loc[:, metrics_cv.columns.str.contains('aucroc')].mean(axis=0), 3)"
   ]
  },
  {
   "cell_type": "code",
   "execution_count": 53,
   "metadata": {},
   "outputs": [
    {
     "data": {
      "text/plain": [
       "aucprc_development     0.449\n",
       "aucprc_exchanges       0.959\n",
       "aucprc_finance         0.846\n",
       "aucprc_gambling        0.768\n",
       "aucprc_games           0.864\n",
       "aucprc_high-risk       0.690\n",
       "aucprc_marketplaces    0.606\n",
       "aucprc_media           0.340\n",
       "aucprc_other           0.448\n",
       "aucprc_social          0.215\n",
       "dtype: float64"
      ]
     },
     "execution_count": 53,
     "metadata": {},
     "output_type": "execute_result"
    }
   ],
   "source": [
    "round(metrics_cv.loc[:, metrics_cv.columns.str.contains('aucprc')].mean(axis=0), 3)"
   ]
  },
  {
   "cell_type": "code",
   "execution_count": 54,
   "metadata": {},
   "outputs": [
    {
     "data": {
      "text/html": [
       "<div>\n",
       "<style scoped>\n",
       "    .dataframe tbody tr th:only-of-type {\n",
       "        vertical-align: middle;\n",
       "    }\n",
       "\n",
       "    .dataframe tbody tr th {\n",
       "        vertical-align: top;\n",
       "    }\n",
       "\n",
       "    .dataframe thead th {\n",
       "        text-align: right;\n",
       "    }\n",
       "</style>\n",
       "<table border=\"1\" class=\"dataframe\">\n",
       "  <thead>\n",
       "    <tr style=\"text-align: right;\">\n",
       "      <th></th>\n",
       "      <th>aucroc_development</th>\n",
       "      <th>aucroc_exchanges</th>\n",
       "      <th>aucroc_finance</th>\n",
       "      <th>aucroc_gambling</th>\n",
       "      <th>aucroc_games</th>\n",
       "      <th>aucroc_high-risk</th>\n",
       "      <th>aucroc_marketplaces</th>\n",
       "      <th>aucroc_media</th>\n",
       "      <th>aucroc_other</th>\n",
       "      <th>aucroc_social</th>\n",
       "      <th>aucprc_development</th>\n",
       "      <th>aucprc_exchanges</th>\n",
       "      <th>aucprc_finance</th>\n",
       "      <th>aucprc_gambling</th>\n",
       "      <th>aucprc_games</th>\n",
       "      <th>aucprc_high-risk</th>\n",
       "      <th>aucprc_marketplaces</th>\n",
       "      <th>aucprc_media</th>\n",
       "      <th>aucprc_other</th>\n",
       "      <th>aucprc_social</th>\n",
       "    </tr>\n",
       "  </thead>\n",
       "  <tbody>\n",
       "    <tr>\n",
       "      <th>0</th>\n",
       "      <td>0.835</td>\n",
       "      <td>0.971</td>\n",
       "      <td>0.914</td>\n",
       "      <td>0.922</td>\n",
       "      <td>0.934</td>\n",
       "      <td>0.923</td>\n",
       "      <td>0.879</td>\n",
       "      <td>0.867</td>\n",
       "      <td>0.856</td>\n",
       "      <td>0.800</td>\n",
       "      <td>0.301</td>\n",
       "      <td>0.949</td>\n",
       "      <td>0.767</td>\n",
       "      <td>0.807</td>\n",
       "      <td>0.891</td>\n",
       "      <td>0.604</td>\n",
       "      <td>0.558</td>\n",
       "      <td>0.292</td>\n",
       "      <td>0.423</td>\n",
       "      <td>0.274</td>\n",
       "    </tr>\n",
       "    <tr>\n",
       "      <th>1</th>\n",
       "      <td>0.912</td>\n",
       "      <td>0.991</td>\n",
       "      <td>0.958</td>\n",
       "      <td>0.921</td>\n",
       "      <td>0.930</td>\n",
       "      <td>0.965</td>\n",
       "      <td>0.907</td>\n",
       "      <td>0.865</td>\n",
       "      <td>0.814</td>\n",
       "      <td>0.792</td>\n",
       "      <td>0.491</td>\n",
       "      <td>0.977</td>\n",
       "      <td>0.892</td>\n",
       "      <td>0.664</td>\n",
       "      <td>0.806</td>\n",
       "      <td>0.739</td>\n",
       "      <td>0.700</td>\n",
       "      <td>0.403</td>\n",
       "      <td>0.329</td>\n",
       "      <td>0.127</td>\n",
       "    </tr>\n",
       "    <tr>\n",
       "      <th>2</th>\n",
       "      <td>0.926</td>\n",
       "      <td>0.987</td>\n",
       "      <td>0.965</td>\n",
       "      <td>0.922</td>\n",
       "      <td>0.949</td>\n",
       "      <td>0.934</td>\n",
       "      <td>0.922</td>\n",
       "      <td>0.865</td>\n",
       "      <td>0.879</td>\n",
       "      <td>0.835</td>\n",
       "      <td>0.473</td>\n",
       "      <td>0.970</td>\n",
       "      <td>0.883</td>\n",
       "      <td>0.806</td>\n",
       "      <td>0.883</td>\n",
       "      <td>0.743</td>\n",
       "      <td>0.546</td>\n",
       "      <td>0.214</td>\n",
       "      <td>0.475</td>\n",
       "      <td>0.227</td>\n",
       "    </tr>\n",
       "    <tr>\n",
       "      <th>3</th>\n",
       "      <td>0.913</td>\n",
       "      <td>0.979</td>\n",
       "      <td>0.967</td>\n",
       "      <td>0.918</td>\n",
       "      <td>0.959</td>\n",
       "      <td>0.972</td>\n",
       "      <td>0.956</td>\n",
       "      <td>0.908</td>\n",
       "      <td>0.899</td>\n",
       "      <td>0.782</td>\n",
       "      <td>0.611</td>\n",
       "      <td>0.967</td>\n",
       "      <td>0.893</td>\n",
       "      <td>0.765</td>\n",
       "      <td>0.887</td>\n",
       "      <td>0.598</td>\n",
       "      <td>0.659</td>\n",
       "      <td>0.230</td>\n",
       "      <td>0.530</td>\n",
       "      <td>0.131</td>\n",
       "    </tr>\n",
       "    <tr>\n",
       "      <th>4</th>\n",
       "      <td>0.838</td>\n",
       "      <td>0.956</td>\n",
       "      <td>0.919</td>\n",
       "      <td>0.959</td>\n",
       "      <td>0.928</td>\n",
       "      <td>0.973</td>\n",
       "      <td>0.893</td>\n",
       "      <td>0.840</td>\n",
       "      <td>0.913</td>\n",
       "      <td>0.841</td>\n",
       "      <td>0.368</td>\n",
       "      <td>0.932</td>\n",
       "      <td>0.796</td>\n",
       "      <td>0.800</td>\n",
       "      <td>0.855</td>\n",
       "      <td>0.764</td>\n",
       "      <td>0.567</td>\n",
       "      <td>0.560</td>\n",
       "      <td>0.485</td>\n",
       "      <td>0.317</td>\n",
       "    </tr>\n",
       "  </tbody>\n",
       "</table>\n",
       "</div>"
      ],
      "text/plain": [
       "   aucroc_development  aucroc_exchanges  aucroc_finance  aucroc_gambling  \\\n",
       "0               0.835             0.971           0.914            0.922   \n",
       "1               0.912             0.991           0.958            0.921   \n",
       "2               0.926             0.987           0.965            0.922   \n",
       "3               0.913             0.979           0.967            0.918   \n",
       "4               0.838             0.956           0.919            0.959   \n",
       "\n",
       "   aucroc_games  aucroc_high-risk  aucroc_marketplaces  aucroc_media  \\\n",
       "0         0.934             0.923                0.879         0.867   \n",
       "1         0.930             0.965                0.907         0.865   \n",
       "2         0.949             0.934                0.922         0.865   \n",
       "3         0.959             0.972                0.956         0.908   \n",
       "4         0.928             0.973                0.893         0.840   \n",
       "\n",
       "   aucroc_other  aucroc_social  aucprc_development  aucprc_exchanges  \\\n",
       "0         0.856          0.800               0.301             0.949   \n",
       "1         0.814          0.792               0.491             0.977   \n",
       "2         0.879          0.835               0.473             0.970   \n",
       "3         0.899          0.782               0.611             0.967   \n",
       "4         0.913          0.841               0.368             0.932   \n",
       "\n",
       "   aucprc_finance  aucprc_gambling  aucprc_games  aucprc_high-risk  \\\n",
       "0           0.767            0.807         0.891             0.604   \n",
       "1           0.892            0.664         0.806             0.739   \n",
       "2           0.883            0.806         0.883             0.743   \n",
       "3           0.893            0.765         0.887             0.598   \n",
       "4           0.796            0.800         0.855             0.764   \n",
       "\n",
       "   aucprc_marketplaces  aucprc_media  aucprc_other  aucprc_social  \n",
       "0                0.558         0.292         0.423          0.274  \n",
       "1                0.700         0.403         0.329          0.127  \n",
       "2                0.546         0.214         0.475          0.227  \n",
       "3                0.659         0.230         0.530          0.131  \n",
       "4                0.567         0.560         0.485          0.317  "
      ]
     },
     "execution_count": 54,
     "metadata": {},
     "output_type": "execute_result"
    }
   ],
   "source": [
    "metrics_cv"
   ]
  },
  {
   "cell_type": "code",
   "execution_count": 55,
   "metadata": {},
   "outputs": [],
   "source": [
    "# TRAIN ON WHOLE DATA AND PREDICT ON TEST\n",
    "metrics = pd.DataFrame(np.zeros((1,len(names))), columns=names)\n",
    "word_vectorizer.fit(X['SC_full'])\n",
    "train_word_features  = word_vectorizer.transform(X['SC_full'])\n",
    "test_word_features   = word_vectorizer.transform(X_test['SC_full'])\n",
    "\n",
    "le = LabelBinarizer()\n",
    "le.fit(y)\n",
    "\n",
    "y_train = le.transform(y)\n",
    "y_test_lb = le.transform(y_test)\n",
    "\n",
    "for i, cl in enumerate(le.classes_):\n",
    "    classifier = LogisticRegression(C=c_p, solver='sag', random_state=RS)\n",
    "    classifier.fit(train_word_features, y_train[:,i])\n",
    "    probs      = classifier.predict_proba(test_word_features)[:,1]\n",
    "    auc_roc_class = roc_auc_score(y_test_lb[:,i], probs)\n",
    "    auc_pr_class = average_precision_score(y_test_lb[:,i], probs)\n",
    "\n",
    "    metrics.loc[0, f'aucroc_{cl}'] = round(auc_roc_class, 3)\n",
    "    metrics.loc[0, f'aucprc_{cl}'] = round(auc_pr_class, 3)   "
   ]
  },
  {
   "cell_type": "code",
   "execution_count": 56,
   "metadata": {},
   "outputs": [
    {
     "data": {
      "text/html": [
       "<div>\n",
       "<style scoped>\n",
       "    .dataframe tbody tr th:only-of-type {\n",
       "        vertical-align: middle;\n",
       "    }\n",
       "\n",
       "    .dataframe tbody tr th {\n",
       "        vertical-align: top;\n",
       "    }\n",
       "\n",
       "    .dataframe thead th {\n",
       "        text-align: right;\n",
       "    }\n",
       "</style>\n",
       "<table border=\"1\" class=\"dataframe\">\n",
       "  <thead>\n",
       "    <tr style=\"text-align: right;\">\n",
       "      <th></th>\n",
       "      <th>aucroc_development</th>\n",
       "      <th>aucroc_exchanges</th>\n",
       "      <th>aucroc_finance</th>\n",
       "      <th>aucroc_gambling</th>\n",
       "      <th>aucroc_games</th>\n",
       "      <th>aucroc_high-risk</th>\n",
       "      <th>aucroc_marketplaces</th>\n",
       "      <th>aucroc_media</th>\n",
       "      <th>aucroc_other</th>\n",
       "      <th>aucroc_social</th>\n",
       "      <th>aucprc_development</th>\n",
       "      <th>aucprc_exchanges</th>\n",
       "      <th>aucprc_finance</th>\n",
       "      <th>aucprc_gambling</th>\n",
       "      <th>aucprc_games</th>\n",
       "      <th>aucprc_high-risk</th>\n",
       "      <th>aucprc_marketplaces</th>\n",
       "      <th>aucprc_media</th>\n",
       "      <th>aucprc_other</th>\n",
       "      <th>aucprc_social</th>\n",
       "    </tr>\n",
       "  </thead>\n",
       "  <tbody>\n",
       "    <tr>\n",
       "      <th>0</th>\n",
       "      <td>0.88</td>\n",
       "      <td>0.982</td>\n",
       "      <td>0.95</td>\n",
       "      <td>0.92</td>\n",
       "      <td>0.943</td>\n",
       "      <td>0.961</td>\n",
       "      <td>0.891</td>\n",
       "      <td>0.947</td>\n",
       "      <td>0.949</td>\n",
       "      <td>0.764</td>\n",
       "      <td>0.433</td>\n",
       "      <td>0.96</td>\n",
       "      <td>0.828</td>\n",
       "      <td>0.702</td>\n",
       "      <td>0.882</td>\n",
       "      <td>0.628</td>\n",
       "      <td>0.632</td>\n",
       "      <td>0.699</td>\n",
       "      <td>0.547</td>\n",
       "      <td>0.166</td>\n",
       "    </tr>\n",
       "  </tbody>\n",
       "</table>\n",
       "</div>"
      ],
      "text/plain": [
       "   aucroc_development  aucroc_exchanges  aucroc_finance  aucroc_gambling  \\\n",
       "0                0.88             0.982            0.95             0.92   \n",
       "\n",
       "   aucroc_games  aucroc_high-risk  aucroc_marketplaces  aucroc_media  \\\n",
       "0         0.943             0.961                0.891         0.947   \n",
       "\n",
       "   aucroc_other  aucroc_social  aucprc_development  aucprc_exchanges  \\\n",
       "0         0.949          0.764               0.433              0.96   \n",
       "\n",
       "   aucprc_finance  aucprc_gambling  aucprc_games  aucprc_high-risk  \\\n",
       "0           0.828            0.702         0.882             0.628   \n",
       "\n",
       "   aucprc_marketplaces  aucprc_media  aucprc_other  aucprc_social  \n",
       "0                0.632         0.699         0.547          0.166  "
      ]
     },
     "execution_count": 56,
     "metadata": {},
     "output_type": "execute_result"
    }
   ],
   "source": [
    "metrics"
   ]
  },
  {
   "cell_type": "code",
   "execution_count": 57,
   "metadata": {},
   "outputs": [
    {
     "data": {
      "text/plain": [
       "0    0.919\n",
       "dtype: float64"
      ]
     },
     "execution_count": 57,
     "metadata": {},
     "output_type": "execute_result"
    }
   ],
   "source": [
    "round(metrics.loc[:, metrics.columns.str.contains('aucroc')].mean(axis=1), 3)"
   ]
  },
  {
   "cell_type": "code",
   "execution_count": 58,
   "metadata": {},
   "outputs": [
    {
     "data": {
      "text/plain": [
       "0    0.648\n",
       "dtype: float64"
      ]
     },
     "execution_count": 58,
     "metadata": {},
     "output_type": "execute_result"
    }
   ],
   "source": [
    "round(metrics.loc[:, metrics.columns.str.contains('aucprc')].mean(axis=1), 3)"
   ]
  },
  {
   "cell_type": "markdown",
   "metadata": {},
   "source": [
    "### Random Forest"
   ]
  },
  {
   "cell_type": "code",
   "execution_count": 59,
   "metadata": {},
   "outputs": [
    {
     "name": "stderr",
     "output_type": "stream",
     "text": [
      "/home/RDC/zinovyee.hub/anaconda3/envs/dmc/lib/python3.8/site-packages/sklearn/model_selection/_split.py:292: FutureWarning: Setting a random_state has no effect since shuffle is False. This will raise an error in 0.24. You should leave random_state to its default (None), or set shuffle=True.\n",
      "  warnings.warn(\n"
     ]
    }
   ],
   "source": [
    "kf  = StratifiedKFold(n_splits=SPLITS, random_state=RS)\n",
    "\n",
    "word_vectorizer   = TfidfVectorizer(\n",
    "    sublinear_tf  = True,\n",
    "    strip_accents = 'unicode',\n",
    "    analyzer      = 'word',\n",
    "    token_pattern = r'\\w{1,}',\n",
    "    ngram_range   = (1, 1),\n",
    "    max_features  = 40000) # max 144018"
   ]
  },
  {
   "cell_type": "code",
   "execution_count": 60,
   "metadata": {},
   "outputs": [
    {
     "name": "stderr",
     "output_type": "stream",
     "text": [
      "[Parallel(n_jobs=20)]: Using backend ThreadingBackend with 20 concurrent workers.\n",
      "[Parallel(n_jobs=20)]: Done  10 tasks      | elapsed:    0.2s\n",
      "[Parallel(n_jobs=20)]: Done 160 tasks      | elapsed:    1.2s\n",
      "[Parallel(n_jobs=20)]: Done 410 tasks      | elapsed:    2.7s\n",
      "[Parallel(n_jobs=20)]: Done 600 out of 600 | elapsed:    4.0s finished\n",
      "[Parallel(n_jobs=20)]: Using backend ThreadingBackend with 20 concurrent workers.\n",
      "[Parallel(n_jobs=20)]: Done  10 tasks      | elapsed:    0.0s\n",
      "[Parallel(n_jobs=20)]: Done 160 tasks      | elapsed:    0.2s\n",
      "[Parallel(n_jobs=20)]: Done 410 tasks      | elapsed:    0.5s\n",
      "[Parallel(n_jobs=20)]: Done 600 out of 600 | elapsed:    0.7s finished\n",
      "[Parallel(n_jobs=20)]: Using backend ThreadingBackend with 20 concurrent workers.\n",
      "[Parallel(n_jobs=20)]: Done  10 tasks      | elapsed:    0.1s\n",
      "[Parallel(n_jobs=20)]: Done 160 tasks      | elapsed:    1.1s\n",
      "[Parallel(n_jobs=20)]: Done 410 tasks      | elapsed:    2.6s\n",
      "[Parallel(n_jobs=20)]: Done 600 out of 600 | elapsed:    3.8s finished\n",
      "[Parallel(n_jobs=20)]: Using backend ThreadingBackend with 20 concurrent workers.\n",
      "[Parallel(n_jobs=20)]: Done  10 tasks      | elapsed:    0.0s\n",
      "[Parallel(n_jobs=20)]: Done 160 tasks      | elapsed:    0.2s\n",
      "[Parallel(n_jobs=20)]: Done 410 tasks      | elapsed:    0.6s\n",
      "[Parallel(n_jobs=20)]: Done 600 out of 600 | elapsed:    0.8s finished\n",
      "[Parallel(n_jobs=20)]: Using backend ThreadingBackend with 20 concurrent workers.\n",
      "[Parallel(n_jobs=20)]: Done  10 tasks      | elapsed:    0.2s\n",
      "[Parallel(n_jobs=20)]: Done 160 tasks      | elapsed:    1.2s\n",
      "[Parallel(n_jobs=20)]: Done 410 tasks      | elapsed:    2.7s\n",
      "[Parallel(n_jobs=20)]: Done 600 out of 600 | elapsed:    3.9s finished\n",
      "[Parallel(n_jobs=20)]: Using backend ThreadingBackend with 20 concurrent workers.\n",
      "[Parallel(n_jobs=20)]: Done  10 tasks      | elapsed:    0.0s\n",
      "[Parallel(n_jobs=20)]: Done 160 tasks      | elapsed:    0.3s\n",
      "[Parallel(n_jobs=20)]: Done 410 tasks      | elapsed:    0.6s\n",
      "[Parallel(n_jobs=20)]: Done 600 out of 600 | elapsed:    0.8s finished\n",
      "[Parallel(n_jobs=20)]: Using backend ThreadingBackend with 20 concurrent workers.\n",
      "[Parallel(n_jobs=20)]: Done  10 tasks      | elapsed:    0.2s\n",
      "[Parallel(n_jobs=20)]: Done 160 tasks      | elapsed:    1.1s\n",
      "[Parallel(n_jobs=20)]: Done 410 tasks      | elapsed:    2.6s\n",
      "[Parallel(n_jobs=20)]: Done 600 out of 600 | elapsed:    3.6s finished\n",
      "[Parallel(n_jobs=20)]: Using backend ThreadingBackend with 20 concurrent workers.\n",
      "[Parallel(n_jobs=20)]: Done  10 tasks      | elapsed:    0.0s\n",
      "[Parallel(n_jobs=20)]: Done 160 tasks      | elapsed:    0.2s\n",
      "[Parallel(n_jobs=20)]: Done 410 tasks      | elapsed:    0.6s\n",
      "[Parallel(n_jobs=20)]: Done 600 out of 600 | elapsed:    0.8s finished\n",
      "[Parallel(n_jobs=20)]: Using backend ThreadingBackend with 20 concurrent workers.\n",
      "[Parallel(n_jobs=20)]: Done  10 tasks      | elapsed:    0.1s\n",
      "[Parallel(n_jobs=20)]: Done 160 tasks      | elapsed:    1.1s\n",
      "[Parallel(n_jobs=20)]: Done 410 tasks      | elapsed:    2.6s\n",
      "[Parallel(n_jobs=20)]: Done 600 out of 600 | elapsed:    3.8s finished\n",
      "[Parallel(n_jobs=20)]: Using backend ThreadingBackend with 20 concurrent workers.\n",
      "[Parallel(n_jobs=20)]: Done  10 tasks      | elapsed:    0.0s\n",
      "[Parallel(n_jobs=20)]: Done 160 tasks      | elapsed:    0.2s\n",
      "[Parallel(n_jobs=20)]: Done 410 tasks      | elapsed:    0.5s\n"
     ]
    },
    {
     "name": "stdout",
     "output_type": "stream",
     "text": [
      "C:1 AUC ROC: 0.909\n",
      "C:1 AUC PRC: 0.614\n"
     ]
    },
    {
     "name": "stderr",
     "output_type": "stream",
     "text": [
      "[Parallel(n_jobs=20)]: Done 600 out of 600 | elapsed:    0.8s finished\n"
     ]
    }
   ],
   "source": [
    "metrics_cv = pd.DataFrame(np.zeros((SPLITS, len(names))), columns=names)\n",
    "for c, (train_index, val_index) in enumerate(kf.split(X, y)):\n",
    "\n",
    "        X_train, X_val      = X.iloc[train_index]['SC_full'], X.iloc[val_index]['SC_full']\n",
    "        y_train, y_val      = y.iloc[train_index], y.iloc[val_index] \n",
    "        word_vectorizer.fit(X_train)\n",
    "        train_word_features = word_vectorizer.transform(X_train)\n",
    "        val_word_features   = word_vectorizer.transform(X_val)\n",
    "\n",
    "        le = LabelBinarizer()\n",
    "        le.fit(y_train)\n",
    "\n",
    "        y_train = le.transform(y_train)\n",
    "        y_val = le.transform(y_val)\n",
    "\n",
    "        \n",
    "        classifier          = RandomForestClassifier(n_estimators=600, max_depth=None, max_features='auto', \n",
    "                            min_samples_split=2, verbose = True, n_jobs=20, random_state=RS)\n",
    "        classifier.fit(train_word_features, y_train)\n",
    "        probs = classifier.predict_proba(val_word_features)\n",
    "        \n",
    "        for i, cl in enumerate(le.classes_):\n",
    "            auc_roc_class = roc_auc_score(y_val[:,i], probs[i][:,1])\n",
    "            auc_pr_class = average_precision_score(y_val[:,i], probs[i][:,1])\n",
    "\n",
    "            metrics_cv.loc[c, f'aucroc_{cl}'] = round(auc_roc_class, 3)\n",
    "            metrics_cv.loc[c, f'aucprc_{cl}'] = round(auc_pr_class, 3)   \n",
    "\n",
    "print(f\"C:{c_p} AUC ROC: {round(metrics_cv.loc[:, metrics_cv.columns.str.contains('aucroc')].mean(axis=0).mean(), 3)}\")\n",
    "print(f\"C:{c_p} AUC PRC: {round(metrics_cv.loc[:, metrics_cv.columns.str.contains('aucprc')].mean(axis=0).mean(), 3)}\")"
   ]
  },
  {
   "cell_type": "code",
   "execution_count": 61,
   "metadata": {},
   "outputs": [
    {
     "data": {
      "text/html": [
       "<div>\n",
       "<style scoped>\n",
       "    .dataframe tbody tr th:only-of-type {\n",
       "        vertical-align: middle;\n",
       "    }\n",
       "\n",
       "    .dataframe tbody tr th {\n",
       "        vertical-align: top;\n",
       "    }\n",
       "\n",
       "    .dataframe thead th {\n",
       "        text-align: right;\n",
       "    }\n",
       "</style>\n",
       "<table border=\"1\" class=\"dataframe\">\n",
       "  <thead>\n",
       "    <tr style=\"text-align: right;\">\n",
       "      <th></th>\n",
       "      <th>aucroc_development</th>\n",
       "      <th>aucroc_exchanges</th>\n",
       "      <th>aucroc_finance</th>\n",
       "      <th>aucroc_gambling</th>\n",
       "      <th>aucroc_games</th>\n",
       "      <th>aucroc_high-risk</th>\n",
       "      <th>aucroc_marketplaces</th>\n",
       "      <th>aucroc_media</th>\n",
       "      <th>aucroc_other</th>\n",
       "      <th>aucroc_social</th>\n",
       "      <th>aucprc_development</th>\n",
       "      <th>aucprc_exchanges</th>\n",
       "      <th>aucprc_finance</th>\n",
       "      <th>aucprc_gambling</th>\n",
       "      <th>aucprc_games</th>\n",
       "      <th>aucprc_high-risk</th>\n",
       "      <th>aucprc_marketplaces</th>\n",
       "      <th>aucprc_media</th>\n",
       "      <th>aucprc_other</th>\n",
       "      <th>aucprc_social</th>\n",
       "    </tr>\n",
       "  </thead>\n",
       "  <tbody>\n",
       "    <tr>\n",
       "      <th>0</th>\n",
       "      <td>0.828</td>\n",
       "      <td>0.959</td>\n",
       "      <td>0.932</td>\n",
       "      <td>0.934</td>\n",
       "      <td>0.929</td>\n",
       "      <td>0.939</td>\n",
       "      <td>0.913</td>\n",
       "      <td>0.864</td>\n",
       "      <td>0.866</td>\n",
       "      <td>0.810</td>\n",
       "      <td>0.298</td>\n",
       "      <td>0.930</td>\n",
       "      <td>0.796</td>\n",
       "      <td>0.822</td>\n",
       "      <td>0.874</td>\n",
       "      <td>0.618</td>\n",
       "      <td>0.584</td>\n",
       "      <td>0.334</td>\n",
       "      <td>0.513</td>\n",
       "      <td>0.248</td>\n",
       "    </tr>\n",
       "    <tr>\n",
       "      <th>1</th>\n",
       "      <td>0.883</td>\n",
       "      <td>0.985</td>\n",
       "      <td>0.961</td>\n",
       "      <td>0.940</td>\n",
       "      <td>0.916</td>\n",
       "      <td>0.964</td>\n",
       "      <td>0.841</td>\n",
       "      <td>0.838</td>\n",
       "      <td>0.814</td>\n",
       "      <td>0.804</td>\n",
       "      <td>0.278</td>\n",
       "      <td>0.964</td>\n",
       "      <td>0.886</td>\n",
       "      <td>0.696</td>\n",
       "      <td>0.821</td>\n",
       "      <td>0.692</td>\n",
       "      <td>0.683</td>\n",
       "      <td>0.358</td>\n",
       "      <td>0.330</td>\n",
       "      <td>0.133</td>\n",
       "    </tr>\n",
       "    <tr>\n",
       "      <th>2</th>\n",
       "      <td>0.856</td>\n",
       "      <td>0.983</td>\n",
       "      <td>0.973</td>\n",
       "      <td>0.951</td>\n",
       "      <td>0.944</td>\n",
       "      <td>0.947</td>\n",
       "      <td>0.890</td>\n",
       "      <td>0.922</td>\n",
       "      <td>0.913</td>\n",
       "      <td>0.918</td>\n",
       "      <td>0.382</td>\n",
       "      <td>0.958</td>\n",
       "      <td>0.906</td>\n",
       "      <td>0.829</td>\n",
       "      <td>0.882</td>\n",
       "      <td>0.699</td>\n",
       "      <td>0.483</td>\n",
       "      <td>0.294</td>\n",
       "      <td>0.601</td>\n",
       "      <td>0.377</td>\n",
       "    </tr>\n",
       "    <tr>\n",
       "      <th>3</th>\n",
       "      <td>0.880</td>\n",
       "      <td>0.976</td>\n",
       "      <td>0.952</td>\n",
       "      <td>0.934</td>\n",
       "      <td>0.962</td>\n",
       "      <td>0.973</td>\n",
       "      <td>0.961</td>\n",
       "      <td>0.896</td>\n",
       "      <td>0.913</td>\n",
       "      <td>0.862</td>\n",
       "      <td>0.531</td>\n",
       "      <td>0.961</td>\n",
       "      <td>0.873</td>\n",
       "      <td>0.783</td>\n",
       "      <td>0.901</td>\n",
       "      <td>0.630</td>\n",
       "      <td>0.650</td>\n",
       "      <td>0.240</td>\n",
       "      <td>0.560</td>\n",
       "      <td>0.240</td>\n",
       "    </tr>\n",
       "    <tr>\n",
       "      <th>4</th>\n",
       "      <td>0.841</td>\n",
       "      <td>0.953</td>\n",
       "      <td>0.913</td>\n",
       "      <td>0.949</td>\n",
       "      <td>0.925</td>\n",
       "      <td>0.964</td>\n",
       "      <td>0.853</td>\n",
       "      <td>0.822</td>\n",
       "      <td>0.918</td>\n",
       "      <td>0.795</td>\n",
       "      <td>0.311</td>\n",
       "      <td>0.927</td>\n",
       "      <td>0.773</td>\n",
       "      <td>0.779</td>\n",
       "      <td>0.834</td>\n",
       "      <td>0.663</td>\n",
       "      <td>0.571</td>\n",
       "      <td>0.501</td>\n",
       "      <td>0.517</td>\n",
       "      <td>0.163</td>\n",
       "    </tr>\n",
       "  </tbody>\n",
       "</table>\n",
       "</div>"
      ],
      "text/plain": [
       "   aucroc_development  aucroc_exchanges  aucroc_finance  aucroc_gambling  \\\n",
       "0               0.828             0.959           0.932            0.934   \n",
       "1               0.883             0.985           0.961            0.940   \n",
       "2               0.856             0.983           0.973            0.951   \n",
       "3               0.880             0.976           0.952            0.934   \n",
       "4               0.841             0.953           0.913            0.949   \n",
       "\n",
       "   aucroc_games  aucroc_high-risk  aucroc_marketplaces  aucroc_media  \\\n",
       "0         0.929             0.939                0.913         0.864   \n",
       "1         0.916             0.964                0.841         0.838   \n",
       "2         0.944             0.947                0.890         0.922   \n",
       "3         0.962             0.973                0.961         0.896   \n",
       "4         0.925             0.964                0.853         0.822   \n",
       "\n",
       "   aucroc_other  aucroc_social  aucprc_development  aucprc_exchanges  \\\n",
       "0         0.866          0.810               0.298             0.930   \n",
       "1         0.814          0.804               0.278             0.964   \n",
       "2         0.913          0.918               0.382             0.958   \n",
       "3         0.913          0.862               0.531             0.961   \n",
       "4         0.918          0.795               0.311             0.927   \n",
       "\n",
       "   aucprc_finance  aucprc_gambling  aucprc_games  aucprc_high-risk  \\\n",
       "0           0.796            0.822         0.874             0.618   \n",
       "1           0.886            0.696         0.821             0.692   \n",
       "2           0.906            0.829         0.882             0.699   \n",
       "3           0.873            0.783         0.901             0.630   \n",
       "4           0.773            0.779         0.834             0.663   \n",
       "\n",
       "   aucprc_marketplaces  aucprc_media  aucprc_other  aucprc_social  \n",
       "0                0.584         0.334         0.513          0.248  \n",
       "1                0.683         0.358         0.330          0.133  \n",
       "2                0.483         0.294         0.601          0.377  \n",
       "3                0.650         0.240         0.560          0.240  \n",
       "4                0.571         0.501         0.517          0.163  "
      ]
     },
     "execution_count": 61,
     "metadata": {},
     "output_type": "execute_result"
    }
   ],
   "source": [
    "metrics_cv"
   ]
  },
  {
   "cell_type": "code",
   "execution_count": 62,
   "metadata": {},
   "outputs": [
    {
     "name": "stderr",
     "output_type": "stream",
     "text": [
      "[Parallel(n_jobs=20)]: Using backend ThreadingBackend with 20 concurrent workers.\n",
      "[Parallel(n_jobs=20)]: Done  10 tasks      | elapsed:    0.2s\n",
      "[Parallel(n_jobs=20)]: Done 160 tasks      | elapsed:    1.2s\n",
      "[Parallel(n_jobs=20)]: Done 410 tasks      | elapsed:    2.8s\n",
      "[Parallel(n_jobs=20)]: Done 600 out of 600 | elapsed:    4.0s finished\n",
      "[Parallel(n_jobs=20)]: Using backend ThreadingBackend with 20 concurrent workers.\n",
      "[Parallel(n_jobs=20)]: Done  10 tasks      | elapsed:    0.0s\n",
      "[Parallel(n_jobs=20)]: Done 160 tasks      | elapsed:    0.2s\n",
      "[Parallel(n_jobs=20)]: Done 410 tasks      | elapsed:    0.5s\n",
      "[Parallel(n_jobs=20)]: Done 600 out of 600 | elapsed:    0.8s finished\n"
     ]
    }
   ],
   "source": [
    "# TRAIN ON WHOLE DATA AND PREDICT ON TEST\n",
    "metrics = pd.DataFrame(np.zeros((1,len(names))), columns=names)\n",
    "word_vectorizer.fit(X['SC_full'])\n",
    "train_word_features  = word_vectorizer.transform(X['SC_full'])\n",
    "test_word_features   = word_vectorizer.transform(X_test['SC_full'])\n",
    "\n",
    "le = LabelBinarizer()\n",
    "le.fit(y)\n",
    "\n",
    "y_train = le.transform(y)\n",
    "y_test_lb = le.transform(y_test)\n",
    "\n",
    "\n",
    "classifier = RandomForestClassifier(n_estimators=600, max_depth=None, max_features='auto', \n",
    "                            min_samples_split=2, verbose = True, n_jobs=20, random_state=RS)\n",
    "classifier.fit(train_word_features, y_train)\n",
    "probs      = classifier.predict_proba(test_word_features)\n",
    "\n",
    "for i, cl in enumerate(le.classes_):\n",
    "    auc_roc_class = roc_auc_score(y_test_lb[:,i], probs[i][:,1])\n",
    "    auc_pr_class = average_precision_score(y_test_lb[:,i], probs[i][:,1])\n",
    "\n",
    "    metrics.loc[0, f'aucroc_{cl}'] = round(auc_roc_class, 3)\n",
    "    metrics.loc[0, f'aucprc_{cl}'] = round(auc_pr_class, 3)   "
   ]
  },
  {
   "cell_type": "code",
   "execution_count": 63,
   "metadata": {},
   "outputs": [
    {
     "data": {
      "text/html": [
       "<div>\n",
       "<style scoped>\n",
       "    .dataframe tbody tr th:only-of-type {\n",
       "        vertical-align: middle;\n",
       "    }\n",
       "\n",
       "    .dataframe tbody tr th {\n",
       "        vertical-align: top;\n",
       "    }\n",
       "\n",
       "    .dataframe thead th {\n",
       "        text-align: right;\n",
       "    }\n",
       "</style>\n",
       "<table border=\"1\" class=\"dataframe\">\n",
       "  <thead>\n",
       "    <tr style=\"text-align: right;\">\n",
       "      <th></th>\n",
       "      <th>aucroc_development</th>\n",
       "      <th>aucroc_exchanges</th>\n",
       "      <th>aucroc_finance</th>\n",
       "      <th>aucroc_gambling</th>\n",
       "      <th>aucroc_games</th>\n",
       "      <th>aucroc_high-risk</th>\n",
       "      <th>aucroc_marketplaces</th>\n",
       "      <th>aucroc_media</th>\n",
       "      <th>aucroc_other</th>\n",
       "      <th>aucroc_social</th>\n",
       "      <th>aucprc_development</th>\n",
       "      <th>aucprc_exchanges</th>\n",
       "      <th>aucprc_finance</th>\n",
       "      <th>aucprc_gambling</th>\n",
       "      <th>aucprc_games</th>\n",
       "      <th>aucprc_high-risk</th>\n",
       "      <th>aucprc_marketplaces</th>\n",
       "      <th>aucprc_media</th>\n",
       "      <th>aucprc_other</th>\n",
       "      <th>aucprc_social</th>\n",
       "    </tr>\n",
       "  </thead>\n",
       "  <tbody>\n",
       "    <tr>\n",
       "      <th>0</th>\n",
       "      <td>0.93</td>\n",
       "      <td>0.981</td>\n",
       "      <td>0.957</td>\n",
       "      <td>0.94</td>\n",
       "      <td>0.952</td>\n",
       "      <td>0.957</td>\n",
       "      <td>0.922</td>\n",
       "      <td>0.904</td>\n",
       "      <td>0.929</td>\n",
       "      <td>0.784</td>\n",
       "      <td>0.444</td>\n",
       "      <td>0.969</td>\n",
       "      <td>0.862</td>\n",
       "      <td>0.748</td>\n",
       "      <td>0.911</td>\n",
       "      <td>0.659</td>\n",
       "      <td>0.7</td>\n",
       "      <td>0.574</td>\n",
       "      <td>0.615</td>\n",
       "      <td>0.24</td>\n",
       "    </tr>\n",
       "  </tbody>\n",
       "</table>\n",
       "</div>"
      ],
      "text/plain": [
       "   aucroc_development  aucroc_exchanges  aucroc_finance  aucroc_gambling  \\\n",
       "0                0.93             0.981           0.957             0.94   \n",
       "\n",
       "   aucroc_games  aucroc_high-risk  aucroc_marketplaces  aucroc_media  \\\n",
       "0         0.952             0.957                0.922         0.904   \n",
       "\n",
       "   aucroc_other  aucroc_social  aucprc_development  aucprc_exchanges  \\\n",
       "0         0.929          0.784               0.444             0.969   \n",
       "\n",
       "   aucprc_finance  aucprc_gambling  aucprc_games  aucprc_high-risk  \\\n",
       "0           0.862            0.748         0.911             0.659   \n",
       "\n",
       "   aucprc_marketplaces  aucprc_media  aucprc_other  aucprc_social  \n",
       "0                  0.7         0.574         0.615           0.24  "
      ]
     },
     "execution_count": 63,
     "metadata": {},
     "output_type": "execute_result"
    }
   ],
   "source": [
    "metrics"
   ]
  },
  {
   "cell_type": "code",
   "execution_count": 64,
   "metadata": {},
   "outputs": [
    {
     "data": {
      "text/plain": [
       "0    0.926\n",
       "dtype: float64"
      ]
     },
     "execution_count": 64,
     "metadata": {},
     "output_type": "execute_result"
    }
   ],
   "source": [
    "round(metrics.loc[:, metrics.columns.str.contains('aucroc')].mean(axis=1), 3)"
   ]
  },
  {
   "cell_type": "code",
   "execution_count": 65,
   "metadata": {},
   "outputs": [
    {
     "data": {
      "text/plain": [
       "0    0.672\n",
       "dtype: float64"
      ]
     },
     "execution_count": 65,
     "metadata": {},
     "output_type": "execute_result"
    }
   ],
   "source": [
    "round(metrics.loc[:, metrics.columns.str.contains('aucprc')].mean(axis=1), 3)"
   ]
  },
  {
   "cell_type": "markdown",
   "metadata": {},
   "source": [
    "### SVM"
   ]
  },
  {
   "cell_type": "code",
   "execution_count": 66,
   "metadata": {},
   "outputs": [
    {
     "name": "stdout",
     "output_type": "stream",
     "text": [
      "-------------\n",
      "penalty l1\n",
      "alpha 1e-05\n",
      "max_iter 9\n",
      "-------------\n",
      "C:1 AUC ROC: 0.859\n",
      "C:1 AUC PRC: 0.633\n"
     ]
    }
   ],
   "source": [
    "penalty = ['l2', 'l1']\n",
    "alpha = [0.000001, 0.00001, 0.0001, 0.001, 0.01, 0.1]\n",
    "max_iter = [1000, 10000, 15000]\n",
    "\n",
    "# best parameters\n",
    "penalty = ['l1']\n",
    "alpha = [0.00001]\n",
    "max_iter = [1000] \n",
    "\n",
    "for p in penalty:\n",
    "  for a in alpha:\n",
    "    for it in max_iter:\n",
    "      auc = []\n",
    "      roc = []\n",
    "      fscore_ = []\n",
    "      c = 0\n",
    "      # print performance\n",
    "      print(f'-------------')\n",
    "      print(f'penalty {p}')\n",
    "      print(f'alpha {a}')\n",
    "      print(f'max_iter {i}')\n",
    "      print(f'-------------')\n",
    "      \n",
    "    \n",
    "      metrics_cv = pd.DataFrame(np.zeros((SPLITS, len(names))), columns=names)\n",
    "      for c, (train_index, val_index) in enumerate(kf.split(X, y)):\n",
    "\n",
    "            X_train, X_val      = X.iloc[train_index]['SC_full'], X.iloc[val_index]['SC_full']\n",
    "            y_train, y_val      = y.iloc[train_index], y.iloc[val_index] \n",
    "            word_vectorizer.fit(X_train)\n",
    "            train_word_features = word_vectorizer.transform(X_train)\n",
    "            val_word_features   = word_vectorizer.transform(X_val)\n",
    "             \n",
    "            le = LabelBinarizer()\n",
    "            le.fit(y_train)\n",
    "            \n",
    "            y_train = le.transform(y_train)\n",
    "            y_val = le.transform(y_val)\n",
    "            \n",
    "            for i, cl in enumerate(le.classes_):\n",
    "                classifier = SGDClassifier(n_jobs=20, random_state=RS, loss='log', shuffle=False, \n",
    "                                    penalty=p, alpha=a, max_iter=it)\n",
    "                classifier.fit(train_word_features, y_train[:,i])\n",
    "                probs      = classifier.predict_proba(val_word_features)[:,1]\n",
    "                auc_roc_class = roc_auc_score(y_val[:,i], probs)\n",
    "                auc_pr_class = average_precision_score(y_val[:,i], probs)\n",
    "                \n",
    "                metrics_cv.loc[c, f'aucroc_{cl}'] = round(auc_roc_class, 3)\n",
    "                metrics_cv.loc[c, f'aucprc_{cl}'] = round(auc_pr_class, 3)   \n",
    "                \n",
    "    print(f\"C:{c_p} AUC ROC: {round(metrics_cv.loc[:, metrics_cv.columns.str.contains('aucroc')].mean(axis=0).mean(), 3)}\")\n",
    "    print(f\"C:{c_p} AUC PRC: {round(metrics_cv.loc[:, metrics_cv.columns.str.contains('aucprc')].mean(axis=0).mean(), 3)}\")"
   ]
  },
  {
   "cell_type": "code",
   "execution_count": 67,
   "metadata": {},
   "outputs": [
    {
     "data": {
      "text/html": [
       "<div>\n",
       "<style scoped>\n",
       "    .dataframe tbody tr th:only-of-type {\n",
       "        vertical-align: middle;\n",
       "    }\n",
       "\n",
       "    .dataframe tbody tr th {\n",
       "        vertical-align: top;\n",
       "    }\n",
       "\n",
       "    .dataframe thead th {\n",
       "        text-align: right;\n",
       "    }\n",
       "</style>\n",
       "<table border=\"1\" class=\"dataframe\">\n",
       "  <thead>\n",
       "    <tr style=\"text-align: right;\">\n",
       "      <th></th>\n",
       "      <th>aucroc_development</th>\n",
       "      <th>aucroc_exchanges</th>\n",
       "      <th>aucroc_finance</th>\n",
       "      <th>aucroc_gambling</th>\n",
       "      <th>aucroc_games</th>\n",
       "      <th>aucroc_high-risk</th>\n",
       "      <th>aucroc_marketplaces</th>\n",
       "      <th>aucroc_media</th>\n",
       "      <th>aucroc_other</th>\n",
       "      <th>aucroc_social</th>\n",
       "      <th>aucprc_development</th>\n",
       "      <th>aucprc_exchanges</th>\n",
       "      <th>aucprc_finance</th>\n",
       "      <th>aucprc_gambling</th>\n",
       "      <th>aucprc_games</th>\n",
       "      <th>aucprc_high-risk</th>\n",
       "      <th>aucprc_marketplaces</th>\n",
       "      <th>aucprc_media</th>\n",
       "      <th>aucprc_other</th>\n",
       "      <th>aucprc_social</th>\n",
       "    </tr>\n",
       "  </thead>\n",
       "  <tbody>\n",
       "    <tr>\n",
       "      <th>0</th>\n",
       "      <td>0.624</td>\n",
       "      <td>0.947</td>\n",
       "      <td>0.878</td>\n",
       "      <td>0.915</td>\n",
       "      <td>0.938</td>\n",
       "      <td>0.836</td>\n",
       "      <td>0.739</td>\n",
       "      <td>0.788</td>\n",
       "      <td>0.861</td>\n",
       "      <td>0.733</td>\n",
       "      <td>0.294</td>\n",
       "      <td>0.934</td>\n",
       "      <td>0.743</td>\n",
       "      <td>0.791</td>\n",
       "      <td>0.896</td>\n",
       "      <td>0.616</td>\n",
       "      <td>0.593</td>\n",
       "      <td>0.437</td>\n",
       "      <td>0.544</td>\n",
       "      <td>0.447</td>\n",
       "    </tr>\n",
       "    <tr>\n",
       "      <th>1</th>\n",
       "      <td>0.773</td>\n",
       "      <td>0.990</td>\n",
       "      <td>0.959</td>\n",
       "      <td>0.935</td>\n",
       "      <td>0.931</td>\n",
       "      <td>0.950</td>\n",
       "      <td>0.896</td>\n",
       "      <td>0.844</td>\n",
       "      <td>0.823</td>\n",
       "      <td>0.594</td>\n",
       "      <td>0.441</td>\n",
       "      <td>0.978</td>\n",
       "      <td>0.883</td>\n",
       "      <td>0.719</td>\n",
       "      <td>0.860</td>\n",
       "      <td>0.787</td>\n",
       "      <td>0.734</td>\n",
       "      <td>0.409</td>\n",
       "      <td>0.348</td>\n",
       "      <td>0.161</td>\n",
       "    </tr>\n",
       "    <tr>\n",
       "      <th>2</th>\n",
       "      <td>0.817</td>\n",
       "      <td>0.960</td>\n",
       "      <td>0.964</td>\n",
       "      <td>0.850</td>\n",
       "      <td>0.944</td>\n",
       "      <td>0.917</td>\n",
       "      <td>0.831</td>\n",
       "      <td>0.724</td>\n",
       "      <td>0.880</td>\n",
       "      <td>0.708</td>\n",
       "      <td>0.375</td>\n",
       "      <td>0.950</td>\n",
       "      <td>0.900</td>\n",
       "      <td>0.711</td>\n",
       "      <td>0.877</td>\n",
       "      <td>0.704</td>\n",
       "      <td>0.462</td>\n",
       "      <td>0.281</td>\n",
       "      <td>0.598</td>\n",
       "      <td>0.262</td>\n",
       "    </tr>\n",
       "    <tr>\n",
       "      <th>3</th>\n",
       "      <td>0.900</td>\n",
       "      <td>0.961</td>\n",
       "      <td>0.969</td>\n",
       "      <td>0.920</td>\n",
       "      <td>0.962</td>\n",
       "      <td>0.904</td>\n",
       "      <td>0.937</td>\n",
       "      <td>0.675</td>\n",
       "      <td>0.823</td>\n",
       "      <td>0.669</td>\n",
       "      <td>0.657</td>\n",
       "      <td>0.961</td>\n",
       "      <td>0.906</td>\n",
       "      <td>0.796</td>\n",
       "      <td>0.914</td>\n",
       "      <td>0.703</td>\n",
       "      <td>0.743</td>\n",
       "      <td>0.155</td>\n",
       "      <td>0.503</td>\n",
       "      <td>0.242</td>\n",
       "    </tr>\n",
       "    <tr>\n",
       "      <th>4</th>\n",
       "      <td>0.647</td>\n",
       "      <td>0.963</td>\n",
       "      <td>0.915</td>\n",
       "      <td>0.941</td>\n",
       "      <td>0.924</td>\n",
       "      <td>0.933</td>\n",
       "      <td>0.867</td>\n",
       "      <td>0.863</td>\n",
       "      <td>0.820</td>\n",
       "      <td>0.803</td>\n",
       "      <td>0.406</td>\n",
       "      <td>0.949</td>\n",
       "      <td>0.812</td>\n",
       "      <td>0.798</td>\n",
       "      <td>0.866</td>\n",
       "      <td>0.686</td>\n",
       "      <td>0.621</td>\n",
       "      <td>0.487</td>\n",
       "      <td>0.491</td>\n",
       "      <td>0.231</td>\n",
       "    </tr>\n",
       "  </tbody>\n",
       "</table>\n",
       "</div>"
      ],
      "text/plain": [
       "   aucroc_development  aucroc_exchanges  aucroc_finance  aucroc_gambling  \\\n",
       "0               0.624             0.947           0.878            0.915   \n",
       "1               0.773             0.990           0.959            0.935   \n",
       "2               0.817             0.960           0.964            0.850   \n",
       "3               0.900             0.961           0.969            0.920   \n",
       "4               0.647             0.963           0.915            0.941   \n",
       "\n",
       "   aucroc_games  aucroc_high-risk  aucroc_marketplaces  aucroc_media  \\\n",
       "0         0.938             0.836                0.739         0.788   \n",
       "1         0.931             0.950                0.896         0.844   \n",
       "2         0.944             0.917                0.831         0.724   \n",
       "3         0.962             0.904                0.937         0.675   \n",
       "4         0.924             0.933                0.867         0.863   \n",
       "\n",
       "   aucroc_other  aucroc_social  aucprc_development  aucprc_exchanges  \\\n",
       "0         0.861          0.733               0.294             0.934   \n",
       "1         0.823          0.594               0.441             0.978   \n",
       "2         0.880          0.708               0.375             0.950   \n",
       "3         0.823          0.669               0.657             0.961   \n",
       "4         0.820          0.803               0.406             0.949   \n",
       "\n",
       "   aucprc_finance  aucprc_gambling  aucprc_games  aucprc_high-risk  \\\n",
       "0           0.743            0.791         0.896             0.616   \n",
       "1           0.883            0.719         0.860             0.787   \n",
       "2           0.900            0.711         0.877             0.704   \n",
       "3           0.906            0.796         0.914             0.703   \n",
       "4           0.812            0.798         0.866             0.686   \n",
       "\n",
       "   aucprc_marketplaces  aucprc_media  aucprc_other  aucprc_social  \n",
       "0                0.593         0.437         0.544          0.447  \n",
       "1                0.734         0.409         0.348          0.161  \n",
       "2                0.462         0.281         0.598          0.262  \n",
       "3                0.743         0.155         0.503          0.242  \n",
       "4                0.621         0.487         0.491          0.231  "
      ]
     },
     "execution_count": 67,
     "metadata": {},
     "output_type": "execute_result"
    }
   ],
   "source": [
    "metrics_cv"
   ]
  },
  {
   "cell_type": "code",
   "execution_count": 68,
   "metadata": {},
   "outputs": [
    {
     "data": {
      "text/plain": [
       "aucroc_development     0.752\n",
       "aucroc_exchanges       0.964\n",
       "aucroc_finance         0.937\n",
       "aucroc_gambling        0.912\n",
       "aucroc_games           0.940\n",
       "aucroc_high-risk       0.908\n",
       "aucroc_marketplaces    0.854\n",
       "aucroc_media           0.779\n",
       "aucroc_other           0.841\n",
       "aucroc_social          0.701\n",
       "dtype: float64"
      ]
     },
     "execution_count": 68,
     "metadata": {},
     "output_type": "execute_result"
    }
   ],
   "source": [
    "round(metrics_cv.loc[:, metrics_cv.columns.str.contains('aucroc')].mean(axis=0), 3)"
   ]
  },
  {
   "cell_type": "code",
   "execution_count": 69,
   "metadata": {},
   "outputs": [
    {
     "data": {
      "text/plain": [
       "aucprc_development     0.435\n",
       "aucprc_exchanges       0.954\n",
       "aucprc_finance         0.849\n",
       "aucprc_gambling        0.763\n",
       "aucprc_games           0.883\n",
       "aucprc_high-risk       0.699\n",
       "aucprc_marketplaces    0.631\n",
       "aucprc_media           0.354\n",
       "aucprc_other           0.497\n",
       "aucprc_social          0.269\n",
       "dtype: float64"
      ]
     },
     "execution_count": 69,
     "metadata": {},
     "output_type": "execute_result"
    }
   ],
   "source": [
    "round(metrics_cv.loc[:, metrics_cv.columns.str.contains('aucprc')].mean(axis=0), 3)"
   ]
  },
  {
   "cell_type": "code",
   "execution_count": 70,
   "metadata": {},
   "outputs": [],
   "source": [
    "# TRAIN ON WHOLE DATA AND PREDICT ON TEST\n",
    "metrics = pd.DataFrame(np.zeros((1,len(names))), columns=names)\n",
    "word_vectorizer.fit(X['SC_full'])\n",
    "train_word_features  = word_vectorizer.transform(X['SC_full'])\n",
    "test_word_features   = word_vectorizer.transform(X_test['SC_full'])\n",
    "\n",
    "le = LabelBinarizer()\n",
    "le.fit(y)\n",
    "\n",
    "y_train = le.transform(y)\n",
    "y_test_lb = le.transform(y_test)\n",
    "\n",
    "for i, cl in enumerate(le.classes_):\n",
    "    classifier = SGDClassifier(n_jobs=20, random_state=RS, loss='log', shuffle=False, \n",
    "                                    penalty=penalty[0], alpha=alpha[0], max_iter=max_iter[0])\n",
    "    classifier.fit(train_word_features, y_train[:,i])\n",
    "    probs      = classifier.predict_proba(test_word_features)[:,1]\n",
    "    auc_roc_class = roc_auc_score(y_test_lb[:,i], probs)\n",
    "    auc_pr_class = average_precision_score(y_test_lb[:,i], probs)\n",
    "\n",
    "    metrics.loc[0, f'aucroc_{cl}'] = round(auc_roc_class, 3)\n",
    "    metrics.loc[0, f'aucprc_{cl}'] = round(auc_pr_class, 3)   "
   ]
  },
  {
   "cell_type": "code",
   "execution_count": 71,
   "metadata": {},
   "outputs": [
    {
     "data": {
      "text/html": [
       "<div>\n",
       "<style scoped>\n",
       "    .dataframe tbody tr th:only-of-type {\n",
       "        vertical-align: middle;\n",
       "    }\n",
       "\n",
       "    .dataframe tbody tr th {\n",
       "        vertical-align: top;\n",
       "    }\n",
       "\n",
       "    .dataframe thead th {\n",
       "        text-align: right;\n",
       "    }\n",
       "</style>\n",
       "<table border=\"1\" class=\"dataframe\">\n",
       "  <thead>\n",
       "    <tr style=\"text-align: right;\">\n",
       "      <th></th>\n",
       "      <th>aucroc_development</th>\n",
       "      <th>aucroc_exchanges</th>\n",
       "      <th>aucroc_finance</th>\n",
       "      <th>aucroc_gambling</th>\n",
       "      <th>aucroc_games</th>\n",
       "      <th>aucroc_high-risk</th>\n",
       "      <th>aucroc_marketplaces</th>\n",
       "      <th>aucroc_media</th>\n",
       "      <th>aucroc_other</th>\n",
       "      <th>aucroc_social</th>\n",
       "      <th>aucprc_development</th>\n",
       "      <th>aucprc_exchanges</th>\n",
       "      <th>aucprc_finance</th>\n",
       "      <th>aucprc_gambling</th>\n",
       "      <th>aucprc_games</th>\n",
       "      <th>aucprc_high-risk</th>\n",
       "      <th>aucprc_marketplaces</th>\n",
       "      <th>aucprc_media</th>\n",
       "      <th>aucprc_other</th>\n",
       "      <th>aucprc_social</th>\n",
       "    </tr>\n",
       "  </thead>\n",
       "  <tbody>\n",
       "    <tr>\n",
       "      <th>0</th>\n",
       "      <td>0.731</td>\n",
       "      <td>0.971</td>\n",
       "      <td>0.948</td>\n",
       "      <td>0.902</td>\n",
       "      <td>0.959</td>\n",
       "      <td>0.949</td>\n",
       "      <td>0.87</td>\n",
       "      <td>0.948</td>\n",
       "      <td>0.891</td>\n",
       "      <td>0.641</td>\n",
       "      <td>0.323</td>\n",
       "      <td>0.962</td>\n",
       "      <td>0.871</td>\n",
       "      <td>0.743</td>\n",
       "      <td>0.935</td>\n",
       "      <td>0.572</td>\n",
       "      <td>0.68</td>\n",
       "      <td>0.669</td>\n",
       "      <td>0.548</td>\n",
       "      <td>0.267</td>\n",
       "    </tr>\n",
       "  </tbody>\n",
       "</table>\n",
       "</div>"
      ],
      "text/plain": [
       "   aucroc_development  aucroc_exchanges  aucroc_finance  aucroc_gambling  \\\n",
       "0               0.731             0.971           0.948            0.902   \n",
       "\n",
       "   aucroc_games  aucroc_high-risk  aucroc_marketplaces  aucroc_media  \\\n",
       "0         0.959             0.949                 0.87         0.948   \n",
       "\n",
       "   aucroc_other  aucroc_social  aucprc_development  aucprc_exchanges  \\\n",
       "0         0.891          0.641               0.323             0.962   \n",
       "\n",
       "   aucprc_finance  aucprc_gambling  aucprc_games  aucprc_high-risk  \\\n",
       "0           0.871            0.743         0.935             0.572   \n",
       "\n",
       "   aucprc_marketplaces  aucprc_media  aucprc_other  aucprc_social  \n",
       "0                 0.68         0.669         0.548          0.267  "
      ]
     },
     "execution_count": 71,
     "metadata": {},
     "output_type": "execute_result"
    }
   ],
   "source": [
    "metrics"
   ]
  }
 ],
 "metadata": {
  "kernelspec": {
   "display_name": "Python 3",
   "language": "python",
   "name": "python3"
  },
  "language_info": {
   "codemirror_mode": {
    "name": "ipython",
    "version": 3
   },
   "file_extension": ".py",
   "mimetype": "text/x-python",
   "name": "python",
   "nbconvert_exporter": "python",
   "pygments_lexer": "ipython3",
   "version": "3.8.3"
  }
 },
 "nbformat": 4,
 "nbformat_minor": 4
}
