{
 "cells": [
  {
   "cell_type": "code",
   "execution_count": null,
   "metadata": {},
   "outputs": [],
   "source": [
    "import re\n",
    "import pandas as pd\n",
    "import numpy as np\n",
    "import pickle\n",
    "import os\n",
    "from tqdm import tqdm"
   ]
  },
  {
   "cell_type": "code",
   "execution_count": null,
   "metadata": {},
   "outputs": [],
   "source": [
    "#https://stackoverflow.com/questions/2319019/using-regex-to-remove-comments-from-source-files\n",
    "#https://github.com/HektorLin/HU-IRTG/blob/master/Partition%20Codes%20and%20Comments.ipynb\n",
    "def remove_comments(string):\n",
    "    pattern = r\"(\\\".*?\\\"|\\'.*?\\')|(/\\*.*?\\*/|//[^\\r\\n]*$)\"\n",
    "    # first group captures quoted strings (double or single)\n",
    "    # second group captures comments (//single-line or /* multi-line */)\n",
    "    regex = re.compile(pattern, re.MULTILINE|re.DOTALL)\n",
    "    def _replacer(match):\n",
    "        # if the 2nd group (capturing comments) is not None,\n",
    "        # it means we have captured a non-quoted (real) comment string.\n",
    "        if match.group(2) is not None:\n",
    "            return \"\" # so we will return empty to remove the comment\n",
    "        else: # otherwise, we will return the 1st group\n",
    "            return match.group(1) # captured quoted-string\n",
    "    return regex.sub(_replacer, string)\n",
    "\n",
    "#following the example above, distinguish group(1): \"\" or'' and group(2,true comments): \\*.*\\ or //\n",
    "#return when a true comment is located\n",
    "def leave_only_comments(string):\n",
    "    pattern = r\"(\\\".*?\\\"|\\'.*?\\')|(/\\*.*?\\*/|//[^\\r\\n]*$)\"\n",
    "    regex = re.compile(pattern, re.MULTILINE|re.DOTALL)\n",
    "    comments = [x[1] for x in regex.findall(string)]\n",
    "    comments = ' '.join(comments)\n",
    "    return comments"
   ]
  },
  {
   "cell_type": "code",
   "execution_count": null,
   "metadata": {},
   "outputs": [],
   "source": [
    "files = os.listdir('data/sol_source')\n",
    "df    = pd.DataFrame(columns=['hash', 'name_from_SC', 'SC_full', 'SC_no_comments', 'comments'])"
   ]
  },
  {
   "cell_type": "code",
   "execution_count": null,
   "metadata": {},
   "outputs": [],
   "source": [
    "for file in tqdm(files):\n",
    "    contract_hash = file.split('_')[0]\n",
    "    name = file.split('_')[1].split('.')[0]\n",
    "    with open(f'data/sol_source/{file}', 'r', encoding=\"utf8\") as readf:\n",
    "        contract = readf.read()\n",
    "    df_temp = pd.DataFrame(data={'hash'          : contract_hash,\n",
    "                                'name_from_SC'   : name,\n",
    "                                'SC_full'        : contract,\n",
    "                                'SC_no_comments' : remove_comments(contract),\n",
    "                                'comments'       : leave_only_comments(contract)}, index=[0])\n",
    "    df = pd.concat([df, df_temp])\n",
    "df.reset_index(drop=True, inplace=True)"
   ]
  },
  {
   "cell_type": "code",
   "execution_count": null,
   "metadata": {},
   "outputs": [],
   "source": [
    "df.to_csv('data/open_source_parsed_16thousand.csv', index=False)"
   ]
  }
 ],
 "metadata": {
  "kernelspec": {
   "display_name": "wids",
   "language": "python",
   "name": "wids"
  },
  "language_info": {
   "codemirror_mode": {
    "name": "ipython",
    "version": 3
   },
   "file_extension": ".py",
   "mimetype": "text/x-python",
   "name": "python",
   "nbconvert_exporter": "python",
   "pygments_lexer": "ipython3",
   "version": "3.6.10"
  }
 },
 "nbformat": 4,
 "nbformat_minor": 4
}
