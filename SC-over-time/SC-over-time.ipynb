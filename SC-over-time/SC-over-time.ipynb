{
 "cells": [
  {
   "cell_type": "code",
   "execution_count": null,
   "metadata": {},
   "outputs": [],
   "source": [
    "import pandas as pd\n",
    "import numpy as np\n",
    "import matplotlib.pyplot as plt\n",
    "import seaborn as sns"
   ]
  },
  {
   "cell_type": "code",
   "execution_count": null,
   "metadata": {},
   "outputs": [],
   "source": [
    "df = pd.read_csv(\"./data/contracts_over_time_2020-12-09.csv\")\n",
    "contracts = pd.read_csv('../SC-Dapp-scraping/data/source_codes_from_dapps.csv')"
   ]
  },
  {
   "cell_type": "code",
   "execution_count": null,
   "metadata": {},
   "outputs": [],
   "source": [
    "df['date'] = pd.to_datetime(df.timestamp)\n",
    "agg = df.resample('M', on='date').sum()\n",
    "cums = agg['count'].cumsum()\n",
    "\n",
    "contracts = contracts.loc[4:]\n",
    "agg['dapps'] = contracts['0'].values"
   ]
  },
  {
   "cell_type": "code",
   "execution_count": null,
   "metadata": {},
   "outputs": [],
   "source": [
    "fig, ax1 = plt.subplots(figsize=(20,10))\n",
    "\n",
    "color = '#ef476f'\n",
    "#ax1.set_xlabel('date')\n",
    "ax1.set_ylabel('New contracts', color=color,fontsize=20)\n",
    "ax1.plot(agg['count'], color=color)\n",
    "ax1.tick_params(axis='y', labelcolor=color)\n",
    "plt.xticks(fontsize=20)\n",
    "plt.yticks(fontsize=20)\n",
    "\n",
    "ax2 = ax1.twinx()  # instantiate a second axes that shares the same x-axis\n",
    "\n",
    "color = '#19751C'\n",
    "ax2.set_ylabel('Total contracts', color=color,fontsize=20)  # we already handled the x-label with ax1\n",
    "ax2.plot(cums, color=color)\n",
    "ax2.tick_params(axis='y', labelcolor=color)\n",
    "plt.yticks(fontsize=20)\n",
    "\n",
    "color = '#14213d'\n",
    "ax1.plot(agg['dapps'], color=color)\n",
    "\n",
    "fig.tight_layout() \n",
    "\n",
    "plt.savefig('contracts_over_time_with_dapps.png', transparent=True)"
   ]
  },
  {
   "cell_type": "code",
   "execution_count": null,
   "metadata": {},
   "outputs": [],
   "source": [
    "df_t = pd.read_csv(\"./data/transactions_over_time_2020-12-09.csv\")\n",
    "df_t['date'] = pd.to_datetime(df_t.timestamp)\n",
    "df_t.drop('timestamp', axis=1, inplace=True)"
   ]
  },
  {
   "cell_type": "code",
   "execution_count": null,
   "metadata": {},
   "outputs": [],
   "source": [
    "agg_t = df_t.resample('M', on='date').sum()\n",
    "cums_t = agg_t['count'].cumsum()"
   ]
  },
  {
   "cell_type": "code",
   "execution_count": null,
   "metadata": {},
   "outputs": [],
   "source": [
    "fig, ax1 = plt.subplots(figsize=(20,10))\n",
    "\n",
    "color = '#118ab2'\n",
    "ax1.plot(agg_t['count'], color=color)\n",
    "ax1.tick_params(axis='y', labelcolor=color)\n",
    "plt.xticks(fontsize=20)\n",
    "plt.yticks(fontsize=20)\n",
    "\n",
    "ax2 = ax1.twinx()\n",
    "color = '#073b4c'\n",
    "ax2.plot(cums_t, color=color)\n",
    "ax2.tick_params(axis='y', labelcolor=color)\n",
    "plt.yticks(fontsize=20)\n",
    "\n",
    "fig.tight_layout() \n",
    "\n",
    "plt.savefig('contracts_over_time_with_t.png', transparent=True)"
   ]
  }
 ],
 "metadata": {
  "kernelspec": {
   "display_name": "Python 3",
   "language": "python",
   "name": "python3"
  },
  "language_info": {
   "codemirror_mode": {
    "name": "ipython",
    "version": 3
   },
   "file_extension": ".py",
   "mimetype": "text/x-python",
   "name": "python",
   "nbconvert_exporter": "python",
   "pygments_lexer": "ipython3",
   "version": "3.7.3"
  }
 },
 "nbformat": 4,
 "nbformat_minor": 2
}
