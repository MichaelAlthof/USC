{
 "cells": [
  {
   "cell_type": "markdown",
   "metadata": {},
   "source": [
    "# Parse source codes to a Pandas Data Frame"
   ]
  },
  {
   "cell_type": "code",
   "execution_count": 1,
   "metadata": {},
   "outputs": [],
   "source": [
    "import os\n",
    "import numpy as np\n",
    "import pandas as pd\n",
    "import re"
   ]
  },
  {
   "cell_type": "code",
   "execution_count": 2,
   "metadata": {},
   "outputs": [],
   "source": [
    "files = os.listdir('./sol_source')"
   ]
  },
  {
   "cell_type": "code",
   "execution_count": 41,
   "metadata": {},
   "outputs": [],
   "source": [
    "# Load list from existing dataset\n",
    "contract = pd.read_csv(\"./Ethereum.csv\", delimiter=',', header=None)\n",
    "contract.dropna(axis=0, inplace=True, subset=[1])\n",
    "contract.rename(columns={0:'timestamp', 1:'address', 2:'n_tr', 3:'ether'}, inplace=True)\n",
    "contract.address = contract.address.apply(lambda x: x[1:])\n",
    "contract.drop_duplicates(inplace=True)"
   ]
  },
  {
   "cell_type": "code",
   "execution_count": 4,
   "metadata": {},
   "outputs": [],
   "source": [
    "# functions\n",
    "\n",
    "def contract_name_extract(data):\n",
    "    #extract contract name\n",
    "    contract_name = re.findall('[\\n\\r].*Contract|contract\\s*([^\\n\\r]*)\\s{', data)\n",
    "    if len(contract_name)>1:\n",
    "        contract_name_string = ' '.join(contract_name)\n",
    "        contract_name_string = re.sub(r'[^\\w\\s]','', contract_name_string)\n",
    "        contract_name = contract_name[0]        \n",
    "    else:\n",
    "        contract_name_string = 'only_1_contract'\n",
    "    return(contract_name, contract_name_string)\n",
    "\n",
    "def function_name_extract(data):\n",
    "    #extract function names and join to one string\n",
    "    function_name = re.findall('[\\n\\r].*function\\s*([^\\n\\r\\(]*)', data)\n",
    "    function_name_string = ' '.join(function_name)\n",
    "    function_name_string = re.sub(r'[^\\w\\s]','', function_name_string)\n",
    "    return(function_name_string)\n",
    "\n",
    "def comments_extract(data):\n",
    "    #extract contract comments and join to one text\n",
    "    one_line_comments = re.findall(re.compile(\"/\\*.*?\\*/\", re.DOTALL), data) # find all occurance streamed comments (/*COMMENT */) from string\n",
    "    mult_line_comments = re.findall('//.*?\\n', data) # find all occurance singleline comments (//COMMENT\\n ) from string\n",
    "    comments1 = ' '.join(one_line_comments)\n",
    "    comments2 = ' '.join(mult_line_comments)\n",
    "    comments = ' '.join([comments1, comments2])\n",
    "    comments = re.sub(r'[^\\w\\s]',' ', comments)\n",
    "    comments = re.sub(r'[\\n]','', comments)\n",
    "    comments = comments.split()\n",
    "    comments = ' '.join(comments)\n",
    "    return(comments)\n",
    "\n",
    "def code_no_punct(data):\n",
    "    codes = re.sub(r'[^\\w\\s]',' ', data)\n",
    "    codes = re.sub(r'[\\n]','', codes)\n",
    "    codes = codes.split()\n",
    "    codes = ' '.join(codes)\n",
    "    return(codes)"
   ]
  },
  {
   "cell_type": "code",
   "execution_count": 5,
   "metadata": {},
   "outputs": [],
   "source": [
    "df = pd.DataFrame(columns=['address', 'contract_name', 'source_code', 'contract_name_string', 'function_names', 'comments', 'code_all_no_punct'])"
   ]
  },
  {
   "cell_type": "code",
   "execution_count": 6,
   "metadata": {},
   "outputs": [
    {
     "name": "stdout",
     "output_type": "stream",
     "text": [
      "0\n",
      "1000\n",
      "2000\n",
      "3000\n",
      "4000\n",
      "5000\n",
      "6000\n",
      "7000\n",
      "8000\n",
      "9000\n",
      "10000\n",
      "11000\n",
      "12000\n",
      "Parsing finished\n"
     ]
    }
   ],
   "source": [
    "for i, f in enumerate(files):\n",
    "    if i%1000==0:\n",
    "        print(i)\n",
    "    try:\n",
    "        with open(f'./sol_source/{f}') as file:  \n",
    "            data = file.read() \n",
    "            contract_name, contract_name_string = contract_name_extract(data)\n",
    "            function_name_string = function_name_extract(data)\n",
    "            comments = comments_extract(data)\n",
    "            codes_no_p = code_no_punct(data)\n",
    "            df_temp = pd.DataFrame(data = {'address' : f[:-4],  'contract_name' : contract_name, 'source_code': data,\n",
    "                                           'contract_name_string' : contract_name_string,  'function_names' : function_name_string,\n",
    "                                          'comments' : comments, 'code_all_no_punct' : codes_no_p}, index=[0])\n",
    "            df = pd.concat([df, df_temp])\n",
    "    except:\n",
    "        continue\n",
    "print('Parsing finished')\n",
    "df.reset_index(drop=True, inplace=True)"
   ]
  },
  {
   "cell_type": "code",
   "execution_count": 48,
   "metadata": {},
   "outputs": [],
   "source": [
    "df_new = pd.merge(df, contract, how='inner', on='address')"
   ]
  },
  {
   "cell_type": "code",
   "execution_count": 50,
   "metadata": {},
   "outputs": [],
   "source": [
    "df_new.to_csv('./contracts_source_codes.csv', index=False)"
   ]
  }
 ],
 "metadata": {
  "kernelspec": {
   "display_name": "Python 3",
   "language": "python",
   "name": "python3"
  },
  "language_info": {
   "codemirror_mode": {
    "name": "ipython",
    "version": 3
   },
   "file_extension": ".py",
   "mimetype": "text/x-python",
   "name": "python",
   "nbconvert_exporter": "python",
   "pygments_lexer": "ipython3",
   "version": "3.6.7"
  }
 },
 "nbformat": 4,
 "nbformat_minor": 2
}
