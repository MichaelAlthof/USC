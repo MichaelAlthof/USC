{
 "cells": [
  {
   "cell_type": "code",
   "execution_count": null,
   "metadata": {},
   "outputs": [],
   "source": [
    "# Used Etherscan.io APIs\""
   ]
  },
  {
   "cell_type": "code",
   "execution_count": null,
   "metadata": {},
   "outputs": [],
   "source": [
    "import requests\n",
    "import pandas as pd\n",
    "import numpy as np\n",
    "import sys\n",
    "import time\n",
    "import os\n",
    "%matplotlib inline\n",
    "import matplotlib.pyplot as plt\n",
    "from tqdm import tqdm"
   ]
  },
  {
   "cell_type": "code",
   "execution_count": null,
   "metadata": {},
   "outputs": [],
   "source": [
    "### Load List of Contracts"
   ]
  },
  {
   "cell_type": "code",
   "execution_count": null,
   "metadata": {},
   "outputs": [],
   "source": [
    "contract_old = pd.read_csv(\"data/export-verified-contractaddress-opensource-license-2020-02-07.csv\")\n",
    "contract_new = pd.read_csv(\"data/export-verified-contractaddress-opensource-license-2020-10-02.csv\", skiprows=1)\n",
    "contract1 = pd.read_csv(\"data/export-verified-contractaddress-opensource-license-2020-12-01.csv\", skiprows=1)\n",
    "contract2 = pd.read_csv(\"data/export-verified-contractaddress-opensource-license-2020-12-03.csv\", skiprows=1)\n",
    "contracts = pd.concat([contract_new, contract_old, contract1, contract2], axis=0)\n",
    "contracts = contracts.drop_duplicates()"
   ]
  },
  {
   "cell_type": "code",
   "execution_count": null,
   "metadata": {},
   "outputs": [],
   "source": [
    "contracts.shape"
   ]
  },
  {
   "cell_type": "code",
   "execution_count": null,
   "metadata": {},
   "outputs": [],
   "source": [
    "# contants\n",
    "with open(\"token.txt\") as file:  \n",
    "    API_Token = file.read() "
   ]
  },
  {
   "cell_type": "code",
   "execution_count": null,
   "metadata": {},
   "outputs": [],
   "source": [
    "ADDRESS_ARRAY = contracts.ContractAddress.values"
   ]
  },
  {
   "cell_type": "markdown",
   "metadata": {},
   "source": [
    "### Create Folders"
   ]
  },
  {
   "cell_type": "code",
   "execution_count": null,
   "metadata": {},
   "outputs": [],
   "source": [
    "sol_source = 'data/sol_source'\n",
    "not_verified = 'data/sol_source_not_verified/'"
   ]
  },
  {
   "cell_type": "code",
   "execution_count": null,
   "metadata": {},
   "outputs": [],
   "source": [
    "if not os.path.exists(sol_source):\n",
    "    os.mkdir(sol_source)\n",
    "    \n",
    "if not os.path.exists(not_verified):\n",
    "    os.mkdir(not_verified)"
   ]
  },
  {
   "cell_type": "code",
   "execution_count": null,
   "metadata": {},
   "outputs": [],
   "source": [
    "files_in_sol = os.listdir(sol_source)\n",
    "files_in_sol = [i.split('_')[0] for i  in files_in_sol]\n",
    "files_in_not_ver = os.listdir(not_verified)\n",
    "files_in_not_ver = [i.split('_')[0] for i  in files_in_not_ver]\n",
    "files_in_sol.extend(files_in_not_ver)\n",
    "files_in_sol = set(files_in_sol)\n",
    "not_extracted = list(set(ADDRESS_ARRAY) - files_in_sol)"
   ]
  },
  {
   "cell_type": "code",
   "execution_count": null,
   "metadata": {},
   "outputs": [],
   "source": [
    "def scrape_ether_contract_and_write(address_array, API_Token):\n",
    "    c = 0\n",
    "    for i, address in tqdm(enumerate(address_array)): \n",
    "        # time.sleep(0.01) # we can do 5 GET/POST requests per sec\n",
    "        url = f'https://api.etherscan.io/api?module=contract&action=getsourcecode&address={address}&apikey={API_Token}'\n",
    "        resp = requests.get(url=url)\n",
    "        data = resp.json()\n",
    "        try:\n",
    "            contract_name = data['result'][0]['ContractName']\n",
    "\n",
    "            # save solidity source code\n",
    "            with open(f\"data/sol_source/{address}_{contract_name}.sol\", \"w\", encoding=\"utf-8\") as f:\n",
    "                print(data['result'][0]['SourceCode'], file=f)\n",
    "\n",
    "        except:\n",
    "            c += 1\n",
    "            time.sleep(0.25)\n",
    "                    \n",
    "    print(f'did not work {c} times')"
   ]
  },
  {
   "cell_type": "code",
   "execution_count": null,
   "metadata": {},
   "outputs": [],
   "source": [
    "scrape_ether_contract_and_write(address_array=not_extracted, API_Token=API_Token)"
   ]
  }
 ],
 "metadata": {
  "kernelspec": {
   "display_name": "wids",
   "language": "python",
   "name": "wids"
  },
  "language_info": {
   "codemirror_mode": {
    "name": "ipython",
    "version": 3
   },
   "file_extension": ".py",
   "mimetype": "text/x-python",
   "name": "python",
   "nbconvert_exporter": "python",
   "pygments_lexer": "ipython3",
   "version": "3.6.10"
  }
 },
 "nbformat": 4,
 "nbformat_minor": 4
}
